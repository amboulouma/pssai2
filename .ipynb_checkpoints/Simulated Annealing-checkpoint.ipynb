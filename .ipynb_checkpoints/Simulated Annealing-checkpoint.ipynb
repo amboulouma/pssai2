{
 "cells": [
  {
   "cell_type": "code",
   "execution_count": 41,
   "metadata": {},
   "outputs": [],
   "source": [
    "import random\n",
    "from pprint import pprint\n",
    "import math\n",
    "\n",
    "import numpy as np\n",
    "\n",
    "from utils import read_data\n",
    "from constants import FILENAME_EXAMPLE_1, FILENAME_EXAMPLE_4"
   ]
  },
  {
   "cell_type": "code",
   "execution_count": 2,
   "metadata": {},
   "outputs": [],
   "source": [
    "input_data = read_data(FILENAME_EXAMPLE_4)\n",
    "#input_data = read_data(FILENAME_EXAMPLE_4)\n",
    "\n",
    "days    = input_data['length_of_schedule']\n",
    "ne      = input_data['number_of_employees']\n",
    "ns      = input_data['number_of_shifts']\n",
    "demand  = input_data['temporal_requirements_matrix']\n",
    "sn      = input_data['shift_name']\n",
    "ss      = input_data['start_shift']\n",
    "ls      = input_data['length_shift']\n",
    "min_ls  = input_data['min_length_of_blocks']\n",
    "max_ls  = input_data['max_length_of_blocks']\n",
    "min_do  = input_data['min_days_off']\n",
    "max_do  = input_data['max_days_off']\n",
    "min_lw  = input_data['min_length_work_blocks']\n",
    "max_lw  = input_data['max_length_work_blocks']\n",
    "nf2     = input_data['nr_sequences_of_length_2']\n",
    "nf3     = input_data['nr_sequences_of_length_3']\n",
    "f2      = input_data['not_allowed_shift_sequences_2']\n",
    "f3      = input_data['not_allowed_shift_sequences_3']"
   ]
  },
  {
   "cell_type": "code",
   "execution_count": 3,
   "metadata": {},
   "outputs": [],
   "source": [
    "shifts = ns + 1\n",
    "day, afternoon, night, dayoff = 1, 2, 3, 4\n",
    "code = sn + ['-']"
   ]
  },
  {
   "cell_type": "code",
   "execution_count": 47,
   "metadata": {},
   "outputs": [],
   "source": [
    "def generate_random_solution(input_data):\n",
    "    return [[random.choice(code) for d in range(days)] for e in range(ne)]"
   ]
  },
  {
   "cell_type": "code",
   "execution_count": 5,
   "metadata": {},
   "outputs": [],
   "source": [
    "def demand_constraint(result):\n",
    "    for e in range(ne):\n",
    "        for d in range(days):\n",
    "            sum_day, sum_afternoon, sum_night = 0, 0, 0\n",
    "            if result[e][d] == 'D': sum_day += 1\n",
    "            elif result[e][d] == 'A': sum_afternoon += 1\n",
    "            elif result[e][d] == 'N': sum_night += 1        \n",
    "        if sum_day >= demand[0][d] and sum_afternoon >= demand[1][d] and sum_night >= demand[2][d]:\n",
    "            pass\n",
    "        else:\n",
    "            return False\n",
    "    return True"
   ]
  },
  {
   "cell_type": "code",
   "execution_count": 6,
   "metadata": {},
   "outputs": [],
   "source": [
    "def update_demand_constraint(result):\n",
    "    updated_result = result\n",
    "    for d in range(days):\n",
    "        sum_day, sum_afternoon, sum_night = 0, 0, 0\n",
    "        for e in range(ne):\n",
    "            if updated_result[e][d] == 'D': sum_day += 1\n",
    "            elif updated_result[e][d] == 'A': sum_afternoon += 1\n",
    "            elif updated_result[e][d] == 'N': sum_night += 1\n",
    "\n",
    "        if sum_day >= demand[0][d]: pass\n",
    "        else: updated_result[random.randint(0, ne-1)][d] = 'D'\n",
    "        if sum_afternoon >= demand[1][d]: pass\n",
    "        else: updated_result[random.randint(0, ne-1)][d] = 'A'\n",
    "        if sum_night >= demand[2][d]: pass\n",
    "        else: updated_result[random.randint(0, ne-1)][d] = 'N'\n",
    "    return updated_result"
   ]
  },
  {
   "cell_type": "code",
   "execution_count": 7,
   "metadata": {},
   "outputs": [],
   "source": [
    "#day off constraint\n",
    "def day_off_constraint(result):\n",
    "    for e in range(ne):\n",
    "        count_dayoff = 0\n",
    "        for d in range(days):\n",
    "            if result[e][d] == '-': count_dayoff += 1\n",
    "        if min_do <= count_dayoff <= max_do: pass\n",
    "        else: return False\n",
    "    return True"
   ]
  },
  {
   "cell_type": "code",
   "execution_count": 8,
   "metadata": {},
   "outputs": [],
   "source": [
    "#day off constraint\n",
    "def update_day_off_constraint(result):\n",
    "    updated_result = result\n",
    "    for e in range(ne):\n",
    "        count_dayoff = 0\n",
    "        for d in range(days):\n",
    "            if updated_result[e][d] == '-': count_dayoff += 1\n",
    "        if count_dayoff >= min_do: pass\n",
    "        else: updated_result[e][random.randint(0, days-1)] = '-'\n",
    "        if count_dayoff <= max_do: pass\n",
    "        else: updated_result[e][random.randint(0, days-1)] = random.choice(list(set(code) - set('-')))            \n",
    "    return updated_result"
   ]
  },
  {
   "cell_type": "code",
   "execution_count": 9,
   "metadata": {},
   "outputs": [],
   "source": [
    "#working days in a row constraint\n",
    "def length_work_blocks_constraint(result):\n",
    "    for e in range(ne):\n",
    "        count_consecutive = 0\n",
    "        min_flag, max_flag = False, False\n",
    "        for d in range(days - 1):\n",
    "            if result[e][d] != '-' and result[e][d+1] != '-': \n",
    "                count_consecutive += 1\n",
    "                if count_consecutive >= min_lw - 1:\n",
    "                    min_flag = True\n",
    "                    if count_consecutive <= max_lw - 1:\n",
    "                        max_flag = True\n",
    "            else:  count_consecutive = 0\n",
    "        if min_flag and max_flag: pass\n",
    "        else: return False\n",
    "    return True"
   ]
  },
  {
   "cell_type": "code",
   "execution_count": 10,
   "metadata": {},
   "outputs": [],
   "source": [
    "#working days in a row constraint\n",
    "def update_length_work_blocks_constraint(result):\n",
    "    updated_result = result\n",
    "    for e in range(ne):\n",
    "        count_consecutive = 0\n",
    "        min_flag, max_flag = False, False\n",
    "        for d in range(days - 1):\n",
    "            if updated_result[e][d] != '-' and updated_result[e][d+1] != '-': \n",
    "                count_consecutive += 1\n",
    "                if count_consecutive >= min_lw - 1:\n",
    "                    min_flag = True\n",
    "                    if count_consecutive <= max_lw - 1:\n",
    "                        max_flag = True\n",
    "            else:  count_consecutive = 0\n",
    "                \n",
    "        if min_flag: pass\n",
    "        else: \n",
    "            count_concecutive = 0\n",
    "            for d in range(days):\n",
    "                if updated_result[e][d] == '-' and count_concecutive <= max_lw - 1: \n",
    "                    updated_result[e][d] = random.choice(list(set(code) - set('-')))\n",
    "                count_concecutive += 1\n",
    "        if max_flag: pass\n",
    "        else: updated_result[e][random.randint(0, days-1)] = '-'\n",
    "                \n",
    "    return updated_result "
   ]
  },
  {
   "cell_type": "code",
   "execution_count": 11,
   "metadata": {},
   "outputs": [],
   "source": [
    "#forbidden shifts constraint\n",
    "def forbidden_constraint2(result):\n",
    "    if f2 == []: return True\n",
    "    if f2 != []:\n",
    "        for e in range(ne):\n",
    "            for d in range(days - 1):\n",
    "                for f in f2:\n",
    "                    if result[e][d] == f[0] and result[e][d+1] == f[1]: return False\n",
    "        return True"
   ]
  },
  {
   "cell_type": "code",
   "execution_count": 12,
   "metadata": {},
   "outputs": [],
   "source": [
    "#forbidden shifts constraint\n",
    "def update_forbidden_constraint2(result):\n",
    "    updated_result = result\n",
    "    if f2 == []: return updated_result\n",
    "    if f2 != []:\n",
    "        for e in range(ne):\n",
    "            for d in range(days - 1):\n",
    "                for f in f2:\n",
    "                    if updated_result[e][d] == f[0] and updated_result[e][d+1] == f[1]:\n",
    "                        for c in code:\n",
    "                            if [f[0], c] not in f2:\n",
    "                                updated_result[e][d+1] = c\n",
    "                                break\n",
    "        return updated_result"
   ]
  },
  {
   "cell_type": "code",
   "execution_count": 13,
   "metadata": {},
   "outputs": [],
   "source": [
    "#forbidden shifts constraint\n",
    "def update_forbidden_constraint2_2(result):\n",
    "    updated_result = result\n",
    "    if f2 == []: return updated_result\n",
    "    if f2 != []:\n",
    "        for e in range(ne):\n",
    "            for d in range(days - 1):\n",
    "                for f in f2:\n",
    "                    if updated_result[e][d] == f[0] and updated_result[e][d+1] == f[1]: \n",
    "                        for c in code:\n",
    "                            if [c, f[1]] not in f2:\n",
    "                                updated_result[e][d] = c\n",
    "                                break\n",
    "        return updated_result"
   ]
  },
  {
   "cell_type": "code",
   "execution_count": 15,
   "metadata": {},
   "outputs": [],
   "source": [
    "def forbidden_constraint3(result):\n",
    "    if f3 == []: return True\n",
    "    if f3 != []:\n",
    "        for e in range(ne):\n",
    "            for d in range(days - 2):\n",
    "                for f in f3:\n",
    "                    if result[e][d] == f[0] and result[e][d+1] == f[1] \\\n",
    "                                            and result[e][d+2] == f[2]: return False\n",
    "        return True"
   ]
  },
  {
   "cell_type": "code",
   "execution_count": 16,
   "metadata": {},
   "outputs": [],
   "source": [
    "def update_forbidden_constraint3(result):\n",
    "    updated_result = result\n",
    "    if f3 == []: return updated_result\n",
    "    if f3 != []:\n",
    "        for e in range(ne):\n",
    "            for d in range(days - 2):\n",
    "                for f in f3:\n",
    "                    if result[e][d] == f[0] and result[e][d+1] == f[1] \\\n",
    "                                            and result[e][d+2] == f[2]: \n",
    "                        for c in code:\n",
    "                            if [c, f[1], f[2]] not in f3:\n",
    "                                updated_result[e][d] = c\n",
    "                                break\n",
    "                            \n",
    "        return updated_result"
   ]
  },
  {
   "cell_type": "code",
   "execution_count": 17,
   "metadata": {},
   "outputs": [],
   "source": [
    "def update_forbidden_constraint3_2(result):\n",
    "    updated_result = result\n",
    "    if f3 == []: return updated_result\n",
    "    if f3 != []:\n",
    "        for e in range(ne):\n",
    "            for d in range(days - 2):\n",
    "                for f in f3:\n",
    "                    if result[e][d] == f[0] and result[e][d+1] == f[1] \\\n",
    "                                            and result[e][d+2] == f[2]: \n",
    "                        for c in code:\n",
    "                            if [f[0], c, f[2]] not in f3:\n",
    "                                updated_result[e][d] = c\n",
    "                                break\n",
    "                            \n",
    "        return updated_result"
   ]
  },
  {
   "cell_type": "code",
   "execution_count": 61,
   "metadata": {},
   "outputs": [],
   "source": [
    "def eval_solution(solution):\n",
    "    score = 0\n",
    "    c1, c2, c3, c4, c5 = demand_constraint, \\\n",
    "                         day_off_constraint, \\\n",
    "                         length_work_blocks_constraint, \\\n",
    "                         forbidden_constraint2, \\\n",
    "                         forbidden_constraint3\n",
    "    if c1(solution): score += 50\n",
    "    if c2(solution): score += 15\n",
    "    if c3(solution): score += 15\n",
    "    if c4(solution): score += 10\n",
    "    if c5(solution): score += 10\n",
    "    \n",
    "    return score"
   ]
  },
  {
   "cell_type": "code",
   "execution_count": 44,
   "metadata": {},
   "outputs": [],
   "source": [
    "def exp_probability(solution, neighbor, T):\n",
    "    return math.exp((eval_solution(neighbor) - eval_solution(solution))/T)"
   ]
  },
  {
   "cell_type": "code",
   "execution_count": 70,
   "metadata": {},
   "outputs": [],
   "source": [
    "def simulated_annealing(input_data, t_max, T, r):\n",
    "    t = 0\n",
    "    score = 100\n",
    "    T_min = 1\n",
    "    solution = generate_random_solution(input_data)\n",
    "    \n",
    "    while t < t_max:\n",
    "        while T >= T_min:\n",
    "            if eval_solution(solution) == 100: return solution\n",
    "            \n",
    "            neighborhood = [\n",
    "                update_forbidden_constraint3(solution),\n",
    "                update_forbidden_constraint3_2(solution),\n",
    "                pdate_forbidden_constraint2(solution),\n",
    "                update_forbidden_constraint2_2(solution),\n",
    "                update_length_work_blocks_constraint(solution),\n",
    "                update_day_off_constraint(solution),\n",
    "                update_demand_constraint(solution)\n",
    "            ]\n",
    "\n",
    "            neighbor = random.choice(neighborhood)\n",
    "\n",
    "            if eval_solution(solution) < eval_solution(neighbor): solution = neighbor\n",
    "            elif random.uniform(0, 1) < exp_probability(solution, neighbor, T): solution = neighbor\n",
    "        T *= T\n",
    "        t += 1\n",
    "        \n",
    "    return \"Not satified in the given time\"\n",
    "    "
   ]
  },
  {
   "cell_type": "code",
   "execution_count": 32,
   "metadata": {},
   "outputs": [],
   "source": [
    "def test_contraints(solution):\n",
    "    return {\n",
    "            'demand_constraint': demand_constraint(solution),\n",
    "            'day_off_constraint': day_off_constraint(solution), \n",
    "            'length_work_blocks_constraint': length_work_blocks_constraint(solution), \n",
    "            'forbidden_constraint2': forbidden_constraint2(solution), \n",
    "            'forbidden_constraint3': forbidden_constraint3(solution)\n",
    "            }"
   ]
  },
  {
   "cell_type": "code",
   "execution_count": 60,
   "metadata": {
    "scrolled": true
   },
   "outputs": [
    {
     "data": {
      "text/plain": [
       "[['D', 'D', 'N', 'N', 'N', 'N', '-'],\n",
       " ['-', '-', '-', 'A', 'A', 'N', 'N'],\n",
       " ['D', 'D', 'A', 'A', 'A', 'A', '-'],\n",
       " ['D', 'A', 'A', '-', 'A', '-', 'A'],\n",
       " ['-', '-', 'D', 'D', 'D', 'D', '-'],\n",
       " ['-', 'A', 'N', 'N', 'N', 'N', 'N'],\n",
       " ['N', '-', '-', 'D', 'D', 'D', 'N'],\n",
       " ['-', 'N', 'N', 'N', 'N', 'N', '-'],\n",
       " ['D', '-', 'N', 'N', 'N', 'N', '-'],\n",
       " ['D', '-', 'D', 'A', 'A', '-', 'N'],\n",
       " ['N', 'N', 'N', 'N', 'N', 'N', '-'],\n",
       " ['-', 'A', 'A', 'A', 'A', 'N', 'N'],\n",
       " ['D', 'A', '-', 'N', 'N', 'N', '-']]"
      ]
     },
     "execution_count": 60,
     "metadata": {},
     "output_type": "execute_result"
    }
   ],
   "source": [
    "solution = simulated_annealing(input_data, 100000, 10, 0.99)\n",
    "solution"
   ]
  },
  {
   "cell_type": "code",
   "execution_count": 34,
   "metadata": {},
   "outputs": [
    {
     "data": {
      "text/plain": [
       "100"
      ]
     },
     "execution_count": 34,
     "metadata": {},
     "output_type": "execute_result"
    }
   ],
   "source": [
    "calculate_score(solution)"
   ]
  },
  {
   "cell_type": "code",
   "execution_count": 35,
   "metadata": {
    "scrolled": true
   },
   "outputs": [
    {
     "name": "stdout",
     "output_type": "stream",
     "text": [
      "{'day_off_constraint': True,\n",
      " 'demand_constraint': True,\n",
      " 'forbidden_constraint2': True,\n",
      " 'forbidden_constraint3': True,\n",
      " 'length_work_blocks_constraint': True}\n"
     ]
    }
   ],
   "source": [
    "pprint(test_contraints(solution))"
   ]
  },
  {
   "cell_type": "code",
   "execution_count": null,
   "metadata": {},
   "outputs": [],
   "source": []
  }
 ],
 "metadata": {
  "kernelspec": {
   "display_name": "Python 3",
   "language": "python",
   "name": "python3"
  },
  "language_info": {
   "codemirror_mode": {
    "name": "ipython",
    "version": 3
   },
   "file_extension": ".py",
   "mimetype": "text/x-python",
   "name": "python",
   "nbconvert_exporter": "python",
   "pygments_lexer": "ipython3",
   "version": "3.8.5"
  }
 },
 "nbformat": 4,
 "nbformat_minor": 4
}
