{
 "cells": [
  {
   "cell_type": "code",
   "execution_count": 1,
   "metadata": {},
   "outputs": [],
   "source": [
    "import random\n",
    "from pprint import pprint\n",
    "\n",
    "import numpy as np\n",
    "\n",
    "from utils import read_data\n",
    "from constants import FILENAME_EXAMPLE_1, FILENAME_EXAMPLE_4"
   ]
  },
  {
   "cell_type": "code",
   "execution_count": 2,
   "metadata": {},
   "outputs": [],
   "source": [
    "#input_data = read_data(FILENAME_EXAMPLE_1)\n",
    "input_data = read_data(FILENAME_EXAMPLE_4)\n",
    "\n",
    "days    = input_data['length_of_schedule']\n",
    "ne      = input_data['number_of_employees']\n",
    "ns      = input_data['number_of_shifts']\n",
    "demand  = input_data['temporal_requirements_matrix']\n",
    "sn      = input_data['shift_name']\n",
    "ss      = input_data['start_shift']\n",
    "ls      = input_data['length_shift']\n",
    "min_ls  = input_data['min_length_of_blocks']\n",
    "max_ls  = input_data['max_length_of_blocks']\n",
    "min_do  = input_data['min_days_off']\n",
    "max_do  = input_data['max_days_off']\n",
    "min_lw  = input_data['min_length_work_blocks']\n",
    "max_lw  = input_data['max_length_work_blocks']\n",
    "nf2     = input_data['nr_sequences_of_length_2']\n",
    "nf3     = input_data['nr_sequences_of_length_3']\n",
    "f2      = input_data['not_allowed_shift_sequences_2']\n",
    "f3      = input_data['not_allowed_shift_sequences_3']"
   ]
  },
  {
   "cell_type": "code",
   "execution_count": 3,
   "metadata": {},
   "outputs": [],
   "source": [
    "shifts = ns + 1\n",
    "day, afternoon, night, dayoff = 1, 2, 3, 4\n",
    "code = sn + ['-']"
   ]
  },
  {
   "cell_type": "code",
   "execution_count": 4,
   "metadata": {},
   "outputs": [],
   "source": [
    "def calculate_result(input_data):\n",
    "    return [[random.choice(code) for d in range(days)] for e in range(ne)]"
   ]
  },
  {
   "cell_type": "code",
   "execution_count": 5,
   "metadata": {},
   "outputs": [],
   "source": [
    "def demand_constraint(result):\n",
    "    for e in range(ne):\n",
    "        for d in range(days):\n",
    "            sum_day, sum_afternoon, sum_night = 0, 0, 0\n",
    "            if result[e][d] == 'D': sum_day += 1\n",
    "            elif result[e][d] == 'A': sum_afternoon += 1\n",
    "            elif result[e][d] == 'N': sum_night += 1        \n",
    "        if sum_day >= demand[0][d] and sum_afternoon >= demand[1][d] and sum_night >= demand[2][d]:\n",
    "            pass\n",
    "        else:\n",
    "            return False\n",
    "    return True"
   ]
  },
  {
   "cell_type": "code",
   "execution_count": 15,
   "metadata": {},
   "outputs": [],
   "source": [
    "def update_demand_constraint(result):\n",
    "    updated_result = result\n",
    "    for d in range(days):\n",
    "        sum_day, sum_afternoon, sum_night = 0, 0, 0\n",
    "        for e in range(ne):\n",
    "            if updated_result[e][d] == 'D': sum_day += 1\n",
    "            elif updated_result[e][d] == 'A': sum_afternoon += 1\n",
    "            elif updated_result[e][d] == 'N': sum_night += 1\n",
    "\n",
    "        if sum_day >= demand[0][d]: pass\n",
    "        else: updated_result[random.randint(0, ne-1)][d] = 'D'\n",
    "        if sum_afternoon >= demand[1][d]: pass\n",
    "        else: updated_result[random.randint(0, ne-1)][d] = 'A'\n",
    "        if sum_night >= demand[2][d]: pass\n",
    "        else: updated_result[random.randint(0, ne-1)][d] = 'N'\n",
    "    return updated_result"
   ]
  },
  {
   "cell_type": "code",
   "execution_count": 7,
   "metadata": {},
   "outputs": [],
   "source": [
    "#day off constraint\n",
    "def day_off_constraint(result):\n",
    "    for e in range(ne):\n",
    "        count_dayoff = 0\n",
    "        for d in range(days):\n",
    "            if result[e][d] == '-': count_dayoff += 1\n",
    "        if min_do <= count_dayoff <= max_do: pass\n",
    "        else: return False\n",
    "    return True"
   ]
  },
  {
   "cell_type": "code",
   "execution_count": 21,
   "metadata": {},
   "outputs": [],
   "source": [
    "#day off constraint\n",
    "def update_day_off_constraint(result):\n",
    "    updated_result = result\n",
    "    for e in range(ne):\n",
    "        count_dayoff = 0\n",
    "        for d in range(days):\n",
    "            if updated_result[e][d] == '-': count_dayoff += 1\n",
    "        if count_dayoff >= min_do: pass\n",
    "        else: updated_result[e][random.randint(0, days-1)] = '-'\n",
    "        if count_dayoff <= max_do: pass\n",
    "        else: updated_result[e][random.randint(0, days-1)] = random.choice(list(set(code) - set('-')))            \n",
    "    return updated_result"
   ]
  },
  {
   "cell_type": "code",
   "execution_count": 8,
   "metadata": {},
   "outputs": [],
   "source": [
    "#working days in a row constraint\n",
    "def length_work_blocks_constraint(result):\n",
    "    for e in range(ne):\n",
    "        count_consecutive = 0\n",
    "        min_flag, max_flag = False, False\n",
    "        for d in range(days - 1):\n",
    "            if result[e][d] != '-' and result[e][d+1] != '-': \n",
    "                count_consecutive += 1\n",
    "                if count_consecutive >= min_lw - 1:\n",
    "                    min_flag = True\n",
    "                    if count_consecutive <= max_lw - 1:\n",
    "                        max_flag = True\n",
    "            else:  count_consecutive = 0\n",
    "        if min_flag and max_flag: pass\n",
    "        else: return False\n",
    "    return True"
   ]
  },
  {
   "cell_type": "code",
   "execution_count": 48,
   "metadata": {},
   "outputs": [],
   "source": [
    "#working days in a row constraint\n",
    "def update_length_work_blocks_constraint(result):\n",
    "    updated_result = result\n",
    "    for e in range(ne):\n",
    "        count_consecutive = 0\n",
    "        min_flag, max_flag = False, False\n",
    "        for d in range(days - 1):\n",
    "            if updated_result[e][d] != '-' and updated_result[e][d+1] != '-': \n",
    "                count_consecutive += 1\n",
    "                if count_consecutive >= min_lw - 1:\n",
    "                    min_flag = True\n",
    "                    if count_consecutive <= max_lw - 1:\n",
    "                        max_flag = True\n",
    "            else:  count_consecutive = 0\n",
    "                \n",
    "        if min_flag: pass\n",
    "        else: \n",
    "            count_concecutive = 0\n",
    "            for d in range(days):\n",
    "                if updated_result[e][d] == '-' and count_concecutive <= max_lw - 1: \n",
    "                    updated_result[e][d] = random.choice(list(set(code) - set('-')))\n",
    "                count_concecutive += 1\n",
    "        if max_flag: pass\n",
    "        else: updated_result[e][random.randint(0, days-1)] = '-'\n",
    "                \n",
    "    return updated_result "
   ]
  },
  {
   "cell_type": "code",
   "execution_count": 59,
   "metadata": {},
   "outputs": [],
   "source": [
    "#forbidden shifts constraint\n",
    "def forbidden_constraint2(result):\n",
    "    if f2 == []: return True\n",
    "    if f2 != []:\n",
    "        for e in range(ne):\n",
    "            for d in range(days - 1):\n",
    "                for f in f2:\n",
    "                    if result[e][d] == f[0] and result[e][d+1] == f[1]: return False\n",
    "        return True"
   ]
  },
  {
   "cell_type": "code",
   "execution_count": 66,
   "metadata": {},
   "outputs": [],
   "source": [
    "#forbidden shifts constraint\n",
    "def update_forbidden_constraint2(result):\n",
    "    updated_result = result\n",
    "    if f2 == []: return updated_result\n",
    "    if f2 != []:\n",
    "        for e in range(ne):\n",
    "            for d in range(days - 1):\n",
    "                for f in f2:\n",
    "                    if updated_result[e][d] == f[0] and updated_result[e][d+1] == f[1]: \n",
    "                        while [f[0], random.choice(list(set(code) - set(f[1])))] not in f2:\n",
    "                            updated_result[e][d+1] = random.choice(list(set(code) - set(f[1])))\n",
    "        return updated_result"
   ]
  },
  {
   "cell_type": "code",
   "execution_count": 64,
   "metadata": {},
   "outputs": [
    {
     "data": {
      "text/plain": [
       "[['N', 'D'], ['N', 'A'], ['A', 'D']]"
      ]
     },
     "execution_count": 64,
     "metadata": {},
     "output_type": "execute_result"
    }
   ],
   "source": [
    "f2"
   ]
  },
  {
   "cell_type": "code",
   "execution_count": 10,
   "metadata": {},
   "outputs": [],
   "source": [
    "def forbidden_constraint3(result):\n",
    "    if f3 == []: return True\n",
    "    if f3 != []:\n",
    "        for e in range(ne):\n",
    "            for d in range(days - 2):\n",
    "                for f in f3:\n",
    "                    if result[e][d] == f[0] and result[e][d+1] == f[1] \\\n",
    "                                            and result[e][d+2] == f[2]: return False\n",
    "        return True"
   ]
  },
  {
   "cell_type": "code",
   "execution_count": 73,
   "metadata": {},
   "outputs": [
    {
     "ename": "IndentationError",
     "evalue": "unindent does not match any outer indentation level (<tokenize>, line 14)",
     "output_type": "error",
     "traceback": [
      "\u001b[0;36m  File \u001b[0;32m\"<tokenize>\"\u001b[0;36m, line \u001b[0;32m14\u001b[0m\n\u001b[0;31m    if demand_constraint(result) and day_off_constraint(result) \\\u001b[0m\n\u001b[0m    ^\u001b[0m\n\u001b[0;31mIndentationError\u001b[0m\u001b[0;31m:\u001b[0m unindent does not match any outer indentation level\n"
     ]
    }
   ],
   "source": [
    "def solve_problem(input_data):\n",
    "    result = calculate_result(input_data)\n",
    "    while True:\n",
    "        result = calculate_result(input_data)\n",
    "        if not demand_constraint(result):\n",
    "            result = update_demand_constraint(result)\n",
    "        if not day_off_constraint(result):\n",
    "            result = update_day_off_constraint(result)\n",
    "        if not length_work_blocks_constraint(result):\n",
    "            result = update_length_work_blocks_constraint(result)\n",
    "        if not forbidden_constraint2(result):\n",
    "            result = update_forbidden_constraint2(result)\n",
    "        \n",
    "        if demand_constraint(result) and day_off_constraint(result) \\\n",
    "                                     and length_work_blocks_constraint(result) \\\n",
    "                                     and forbidden_constraint2(result):\n",
    "                                     #and forbidden_constraint3(result):\n",
    "\n",
    "            break\n",
    "    return result"
   ]
  },
  {
   "cell_type": "code",
   "execution_count": 12,
   "metadata": {},
   "outputs": [],
   "source": [
    "def test_contraints(solution):\n",
    "    return {\n",
    "            'demand_constraint': demand_constraint(solution),\n",
    "            'day_off_constraint': day_off_constraint(solution), \n",
    "            'length_work_blocks_constraint': length_work_blocks_constraint(solution), \n",
    "            'forbidden_constraint2': forbidden_constraint2(solution), \n",
    "            'forbidden_constraint3': forbidden_constraint3(solution)\n",
    "            }"
   ]
  },
  {
   "cell_type": "code",
   "execution_count": 71,
   "metadata": {},
   "outputs": [
    {
     "ename": "KeyboardInterrupt",
     "evalue": "",
     "output_type": "error",
     "traceback": [
      "\u001b[0;31m---------------------------------------\u001b[0m",
      "\u001b[0;31mKeyboardInterrupt\u001b[0mTraceback (most recent call last)",
      "\u001b[0;32m<ipython-input-71-3a730142f555>\u001b[0m in \u001b[0;36m<module>\u001b[0;34m\u001b[0m\n\u001b[0;32m----> 1\u001b[0;31m \u001b[0msolution\u001b[0m \u001b[0;34m=\u001b[0m \u001b[0msolve_problem\u001b[0m\u001b[0;34m(\u001b[0m\u001b[0minput_data\u001b[0m\u001b[0;34m)\u001b[0m\u001b[0;34m\u001b[0m\u001b[0;34m\u001b[0m\u001b[0m\n\u001b[0m\u001b[1;32m      2\u001b[0m \u001b[0msolution\u001b[0m\u001b[0;34m\u001b[0m\u001b[0;34m\u001b[0m\u001b[0m\n",
      "\u001b[0;32m<ipython-input-70-8fce6b6d6800>\u001b[0m in \u001b[0;36msolve_problem\u001b[0;34m(input_data)\u001b[0m\n\u001b[1;32m     17\u001b[0m                 \u001b[0mresult\u001b[0m \u001b[0;34m=\u001b[0m \u001b[0mupdate_length_work_blocks_constraint\u001b[0m\u001b[0;34m(\u001b[0m\u001b[0mresult\u001b[0m\u001b[0;34m)\u001b[0m\u001b[0;34m\u001b[0m\u001b[0;34m\u001b[0m\u001b[0m\n\u001b[1;32m     18\u001b[0m             \u001b[0;32mif\u001b[0m \u001b[0;32mnot\u001b[0m \u001b[0mforbidden_constraint2\u001b[0m\u001b[0;34m(\u001b[0m\u001b[0mresult\u001b[0m\u001b[0;34m)\u001b[0m\u001b[0;34m:\u001b[0m\u001b[0;34m\u001b[0m\u001b[0;34m\u001b[0m\u001b[0m\n\u001b[0;32m---> 19\u001b[0;31m                 \u001b[0mresult\u001b[0m \u001b[0;34m=\u001b[0m \u001b[0mupdate_forbidden_constraint2\u001b[0m\u001b[0;34m(\u001b[0m\u001b[0mresult\u001b[0m\u001b[0;34m)\u001b[0m\u001b[0;34m\u001b[0m\u001b[0;34m\u001b[0m\u001b[0m\n\u001b[0m\u001b[1;32m     20\u001b[0m     \u001b[0;32mreturn\u001b[0m \u001b[0mresult\u001b[0m\u001b[0;34m\u001b[0m\u001b[0;34m\u001b[0m\u001b[0m\n",
      "\u001b[0;32m<ipython-input-66-0591dd95994a>\u001b[0m in \u001b[0;36mupdate_forbidden_constraint2\u001b[0;34m(result)\u001b[0m\n\u001b[1;32m      8\u001b[0m                 \u001b[0;32mfor\u001b[0m \u001b[0mf\u001b[0m \u001b[0;32min\u001b[0m \u001b[0mf2\u001b[0m\u001b[0;34m:\u001b[0m\u001b[0;34m\u001b[0m\u001b[0;34m\u001b[0m\u001b[0m\n\u001b[1;32m      9\u001b[0m                     \u001b[0;32mif\u001b[0m \u001b[0mupdated_result\u001b[0m\u001b[0;34m[\u001b[0m\u001b[0me\u001b[0m\u001b[0;34m]\u001b[0m\u001b[0;34m[\u001b[0m\u001b[0md\u001b[0m\u001b[0;34m]\u001b[0m \u001b[0;34m==\u001b[0m \u001b[0mf\u001b[0m\u001b[0;34m[\u001b[0m\u001b[0;36m0\u001b[0m\u001b[0;34m]\u001b[0m \u001b[0;32mand\u001b[0m \u001b[0mupdated_result\u001b[0m\u001b[0;34m[\u001b[0m\u001b[0me\u001b[0m\u001b[0;34m]\u001b[0m\u001b[0;34m[\u001b[0m\u001b[0md\u001b[0m\u001b[0;34m+\u001b[0m\u001b[0;36m1\u001b[0m\u001b[0;34m]\u001b[0m \u001b[0;34m==\u001b[0m \u001b[0mf\u001b[0m\u001b[0;34m[\u001b[0m\u001b[0;36m1\u001b[0m\u001b[0;34m]\u001b[0m\u001b[0;34m:\u001b[0m\u001b[0;34m\u001b[0m\u001b[0;34m\u001b[0m\u001b[0m\n\u001b[0;32m---> 10\u001b[0;31m                         \u001b[0;32mwhile\u001b[0m \u001b[0;34m[\u001b[0m\u001b[0mf\u001b[0m\u001b[0;34m[\u001b[0m\u001b[0;36m0\u001b[0m\u001b[0;34m]\u001b[0m\u001b[0;34m,\u001b[0m \u001b[0mrandom\u001b[0m\u001b[0;34m.\u001b[0m\u001b[0mchoice\u001b[0m\u001b[0;34m(\u001b[0m\u001b[0mlist\u001b[0m\u001b[0;34m(\u001b[0m\u001b[0mset\u001b[0m\u001b[0;34m(\u001b[0m\u001b[0mcode\u001b[0m\u001b[0;34m)\u001b[0m \u001b[0;34m-\u001b[0m \u001b[0mset\u001b[0m\u001b[0;34m(\u001b[0m\u001b[0mf\u001b[0m\u001b[0;34m[\u001b[0m\u001b[0;36m1\u001b[0m\u001b[0;34m]\u001b[0m\u001b[0;34m)\u001b[0m\u001b[0;34m)\u001b[0m\u001b[0;34m)\u001b[0m\u001b[0;34m]\u001b[0m \u001b[0;32mnot\u001b[0m \u001b[0;32min\u001b[0m \u001b[0mf2\u001b[0m\u001b[0;34m:\u001b[0m\u001b[0;34m\u001b[0m\u001b[0;34m\u001b[0m\u001b[0m\n\u001b[0m\u001b[1;32m     11\u001b[0m                             \u001b[0mupdated_result\u001b[0m\u001b[0;34m[\u001b[0m\u001b[0me\u001b[0m\u001b[0;34m]\u001b[0m\u001b[0;34m[\u001b[0m\u001b[0md\u001b[0m\u001b[0;34m+\u001b[0m\u001b[0;36m1\u001b[0m\u001b[0;34m]\u001b[0m \u001b[0;34m=\u001b[0m \u001b[0mrandom\u001b[0m\u001b[0;34m.\u001b[0m\u001b[0mchoice\u001b[0m\u001b[0;34m(\u001b[0m\u001b[0mlist\u001b[0m\u001b[0;34m(\u001b[0m\u001b[0mset\u001b[0m\u001b[0;34m(\u001b[0m\u001b[0mcode\u001b[0m\u001b[0;34m)\u001b[0m \u001b[0;34m-\u001b[0m \u001b[0mset\u001b[0m\u001b[0;34m(\u001b[0m\u001b[0mf\u001b[0m\u001b[0;34m[\u001b[0m\u001b[0;36m1\u001b[0m\u001b[0;34m]\u001b[0m\u001b[0;34m)\u001b[0m\u001b[0;34m)\u001b[0m\u001b[0;34m)\u001b[0m\u001b[0;34m\u001b[0m\u001b[0;34m\u001b[0m\u001b[0m\n\u001b[1;32m     12\u001b[0m         \u001b[0;32mreturn\u001b[0m \u001b[0mupdated_result\u001b[0m\u001b[0;34m\u001b[0m\u001b[0;34m\u001b[0m\u001b[0m\n",
      "\u001b[0;31mKeyboardInterrupt\u001b[0m: "
     ]
    }
   ],
   "source": [
    "solution = solve_problem(input_data)\n",
    "solution"
   ]
  },
  {
   "cell_type": "code",
   "execution_count": 58,
   "metadata": {
    "scrolled": true
   },
   "outputs": [
    {
     "name": "stdout",
     "output_type": "stream",
     "text": [
      "{'day_off_constraint': True,\n",
      " 'demand_constraint': True,\n",
      " 'forbidden_constraint2': False,\n",
      " 'forbidden_constraint3': False,\n",
      " 'length_work_blocks_constraint': True}\n"
     ]
    }
   ],
   "source": [
    "pprint(test_contraints(solution))"
   ]
  },
  {
   "cell_type": "code",
   "execution_count": 41,
   "metadata": {},
   "outputs": [],
   "source": [
    "res_dayoff_true = update_day_off_constraint(solution)"
   ]
  },
  {
   "cell_type": "code",
   "execution_count": 49,
   "metadata": {},
   "outputs": [],
   "source": [
    "res_work_blocks = update_length_work_blocks_constraint(res_dayoff_true)"
   ]
  },
  {
   "cell_type": "code",
   "execution_count": 67,
   "metadata": {},
   "outputs": [],
   "source": [
    "res_f2 = update_forbidden_constraint2(res_work_blocks)"
   ]
  },
  {
   "cell_type": "code",
   "execution_count": 68,
   "metadata": {},
   "outputs": [
    {
     "name": "stdout",
     "output_type": "stream",
     "text": [
      "{'day_off_constraint': True,\n",
      " 'demand_constraint': True,\n",
      " 'forbidden_constraint2': True,\n",
      " 'forbidden_constraint3': False,\n",
      " 'length_work_blocks_constraint': False}\n"
     ]
    }
   ],
   "source": [
    "pprint(test_contraints(res_f2))"
   ]
  }
 ],
 "metadata": {
  "kernelspec": {
   "display_name": "Python 3",
   "language": "python",
   "name": "python3"
  },
  "language_info": {
   "codemirror_mode": {
    "name": "ipython",
    "version": 3
   },
   "file_extension": ".py",
   "mimetype": "text/x-python",
   "name": "python",
   "nbconvert_exporter": "python",
   "pygments_lexer": "ipython3",
   "version": "3.8.5"
  }
 },
 "nbformat": 4,
 "nbformat_minor": 4
}
