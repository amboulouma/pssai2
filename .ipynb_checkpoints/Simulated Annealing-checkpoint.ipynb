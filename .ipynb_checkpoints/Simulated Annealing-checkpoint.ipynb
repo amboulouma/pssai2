{
 "cells": [
  {
   "cell_type": "code",
   "execution_count": 1,
   "metadata": {},
   "outputs": [],
   "source": [
    "import random\n",
    "from pprint import pprint\n",
    "\n",
    "import numpy as np\n",
    "\n",
    "from utils import read_data\n",
    "from constants import FILENAME_EXAMPLE_1"
   ]
  },
  {
   "cell_type": "code",
   "execution_count": 2,
   "metadata": {},
   "outputs": [],
   "source": [
    "input_data = read_data(FILENAME_EXAMPLE_1)\n",
    "\n",
    "days    = input_data['length_of_schedule']\n",
    "ne      = input_data['number_of_employees']\n",
    "ns      = input_data['number_of_shifts']\n",
    "demand  = input_data['temporal_requirements_matrix']\n",
    "sn      = input_data['shift_name']\n",
    "ss      = input_data['start_shift']\n",
    "ls      = input_data['length_shift']\n",
    "min_ls  = input_data['min_length_of_blocks']\n",
    "max_ls  = input_data['max_length_of_blocks']\n",
    "min_do  = input_data['min_days_off']\n",
    "max_do  = input_data['max_days_off']\n",
    "min_lw  = input_data['min_length_work_blocks']\n",
    "max_lw  = input_data['max_length_work_blocks']\n",
    "nf2     = input_data['nr_sequences_of_length_2']\n",
    "nf3     = input_data['nr_sequences_of_length_3']\n",
    "f2      = input_data['not_allowed_shift_sequences_2']\n",
    "f3      = input_data['not_allowed_shift_sequences_3']"
   ]
  },
  {
   "cell_type": "code",
   "execution_count": 3,
   "metadata": {},
   "outputs": [],
   "source": [
    "shifts = ns + 1\n",
    "day, afternoon, night, dayoff = 1, 2, 3, 4\n",
    "code = sn + ['-']"
   ]
  },
  {
   "cell_type": "code",
   "execution_count": 4,
   "metadata": {},
   "outputs": [
    {
     "data": {
      "text/plain": [
       "['D', 'A', 'N', '-']"
      ]
     },
     "execution_count": 4,
     "metadata": {},
     "output_type": "execute_result"
    }
   ],
   "source": [
    "code"
   ]
  },
  {
   "cell_type": "code",
   "execution_count": 5,
   "metadata": {},
   "outputs": [
    {
     "name": "stdout",
     "output_type": "stream",
     "text": [
      "[[2, 2, 2, 2, 2, 2, 2], [2, 2, 2, 3, 3, 3, 2], [2, 2, 2, 2, 2, 2, 2]]\n"
     ]
    }
   ],
   "source": [
    "pprint(demand)"
   ]
  },
  {
   "cell_type": "markdown",
   "metadata": {},
   "source": [
    "- demand[shift][day_int_week]\n",
    "- "
   ]
  },
  {
   "cell_type": "code",
   "execution_count": null,
   "metadata": {},
   "outputs": [],
   "source": []
  },
  {
   "cell_type": "code",
   "execution_count": 6,
   "metadata": {},
   "outputs": [
    {
     "name": "stdout",
     "output_type": "stream",
     "text": [
      "Help on function pprint in module pprint:\n",
      "\n",
      "pprint(object, stream=None, indent=1, width=80, depth=None, *, compact=False, sort_dicts=True)\n",
      "    Pretty-print a Python object to a stream [default is sys.stdout].\n",
      "\n"
     ]
    }
   ],
   "source": [
    "help(pprint)"
   ]
  },
  {
   "cell_type": "code",
   "execution_count": 7,
   "metadata": {},
   "outputs": [
    {
     "data": {
      "text/plain": [
       "7"
      ]
     },
     "execution_count": 7,
     "metadata": {},
     "output_type": "execute_result"
    }
   ],
   "source": [
    "days"
   ]
  },
  {
   "cell_type": "code",
   "execution_count": 40,
   "metadata": {},
   "outputs": [
    {
     "ename": "SyntaxError",
     "evalue": "invalid syntax (<ipython-input-40-08c4415fe666>, line 4)",
     "output_type": "error",
     "traceback": [
      "\u001b[0;36m  File \u001b[0;32m\"<ipython-input-40-08c4415fe666>\"\u001b[0;36m, line \u001b[0;32m4\u001b[0m\n\u001b[0;31m    if length(minShift) == 3 then sum(e in EMPLOYEE)(x[e,d] == night) == demand[3, d] endif\u001b[0m\n\u001b[0m    ^\u001b[0m\n\u001b[0;31mSyntaxError\u001b[0m\u001b[0;31m:\u001b[0m invalid syntax\n"
     ]
    }
   ],
   "source": [
    "def demand_constraint(result):\n",
    "    sum(e in EMPLOYEE)(x[e,d] == day) == demand[1, d] /\\\n",
    "    sum(e in EMPLOYEE)(x[e,d] == afternoon) == demand[2, d] /\\\n",
    "    if length(minShift) == 3 then sum(e in EMPLOYEE)(x[e,d] == night) == demand[3, d] endif\n",
    "    \n",
    "    for d in range(days):\n",
    "        sum_day, sum_afternoon, sum_night = 0, 0, 0\n",
    "        for e in range(ne):\n",
    "            if result[e][d] == 'D': sum_day += 1\n",
    "            elif result[e][d] == 'A': sum_afternoon += 1\n",
    "            elif result[e][d] == 'N': sum_night += 1\n",
    "        \n",
    "        if sum_day == demand[0][d] and sum_afternoon == demand[1][d] and sum_night == demand[2][d]:\n",
    "            pass\n",
    "        else:\n",
    "            return False\n",
    "    return True"
   ]
  },
  {
   "cell_type": "code",
   "execution_count": 36,
   "metadata": {},
   "outputs": [],
   "source": [
    "#day off constraint\n",
    "def day_off_constraint(result):\n",
    "    amount=0\n",
    "    for ii in range(len(result)):\n",
    "        for i in range(7):\n",
    "            if result[ii][i]==4:\n",
    "                amount+=1\n",
    "    if min_do<=amount<=max_do:\n",
    "        return True\n",
    "    else:\n",
    "        return False\n",
    "    \n",
    "#working days in a row constraint\n",
    "def length_work_blocks_constraint(result):\n",
    "    amount=0\n",
    "    for ii in range(len(result)):\n",
    "        for i in range(6):\n",
    "            if result[ii][i]!=4 and result[ii][i+1]!=4:\n",
    "                amount+=1\n",
    "            else:\n",
    "                amount==0\n",
    "    if min_lw<=amount<=max_lw:\n",
    "        return True\n",
    "    else:\n",
    "        return False\n",
    "#forbidden shifts constraint\n",
    "def forbidden_constraint2(result):\n",
    "    if f2!=[]:\n",
    "        for ii in range(len(result)):\n",
    "            for i in range(7):\n",
    "                if result[ii][i]==3 and i<7:\n",
    "                    result[ii][i+1]!=1 or result[i+1]!=2\n",
    "                elif result[ii][i]==2 and i<7:\n",
    "                    result[ii][i+1]!=1\n",
    "        return True\n",
    "    else:\n",
    "        return False\n",
    "def forbidden_constraint3(result):\n",
    "    if f3!=[]:\n",
    "        for ii in range(len(result)):\n",
    "            for i in range(7):\n",
    "                if result[ii][i]==3 and result[ii][i+1]==4 and i<6:\n",
    "                    result[ii][i+2]!=3 or result[ii][i+2]!=1 or result[ii][i+2]!=2\n",
    "                elif result[ii][i]==2 and result[ii][i+1]==4 and i<6:\n",
    "                    result[ii][i+2]!=1\n",
    "        return True\n",
    "    else:\n",
    "        return False"
   ]
  },
  {
   "cell_type": "code",
   "execution_count": 13,
   "metadata": {
    "scrolled": false
   },
   "outputs": [
    {
     "data": {
      "text/plain": [
       "[['D', 'D', 'N', 'N', 'D', 'N', '-'],\n",
       " ['D', 'D', 'N', 'N', 'D', 'N', '-'],\n",
       " ['D', 'D', 'N', 'N', 'D', 'N', '-'],\n",
       " ['D', 'D', 'N', 'N', 'D', 'N', '-'],\n",
       " ['D', 'D', 'N', 'N', 'D', 'N', '-'],\n",
       " ['D', 'D', 'N', 'N', 'D', 'N', '-'],\n",
       " ['D', 'D', 'N', 'N', 'D', 'N', '-'],\n",
       " ['D', 'D', 'N', 'N', 'D', 'N', '-'],\n",
       " ['D', 'D', 'N', 'N', 'D', 'N', '-']]"
      ]
     },
     "execution_count": 13,
     "metadata": {},
     "output_type": "execute_result"
    }
   ],
   "source": [
    "calculate_result(input_data)"
   ]
  },
  {
   "cell_type": "code",
   "execution_count": 39,
   "metadata": {
    "scrolled": true
   },
   "outputs": [
    {
     "name": "stdout",
     "output_type": "stream",
     "text": [
      "[['N', 'N', '-', 'N', 'N', 'A', 'N'],\n",
      " ['N', 'N', '-', 'N', 'N', 'A', 'N'],\n",
      " ['N', 'N', '-', 'N', 'N', 'A', 'N'],\n",
      " ['N', 'N', '-', 'N', 'N', 'A', 'N'],\n",
      " ['N', 'N', '-', 'N', 'N', 'A', 'N'],\n",
      " ['N', 'N', '-', 'N', 'N', 'A', 'N'],\n",
      " ['N', 'N', '-', 'N', 'N', 'A', 'N'],\n",
      " ['N', 'N', '-', 'N', 'N', 'A', 'N'],\n",
      " ['N', 'N', '-', 'N', 'N', 'A', 'N']]\n",
      "False\n",
      "False\n",
      "True\n",
      "False\n"
     ]
    }
   ],
   "source": [
    "result = calculate_result(input_data)\n",
    "pprint(result)\n",
    "print(day_off_constraint(result))\n",
    "print(length_work_blocks_constraint(result))\n",
    "print(forbidden_constraint2(result))\n",
    "print(forbidden_constraint3(result))"
   ]
  },
  {
   "cell_type": "code",
   "execution_count": 11,
   "metadata": {},
   "outputs": [],
   "source": [
    "def calculate_result(input_data):\n",
    "    result = [['-']*days]*ne\n",
    "\n",
    "    for e in range(ne):\n",
    "        for d in range(days):\n",
    "            result[e][d] = random.choice(code) \n",
    "\n",
    "    #result = demand_constraint(result)\n",
    "\n",
    "    return result"
   ]
  },
  {
   "cell_type": "code",
   "execution_count": null,
   "metadata": {},
   "outputs": [],
   "source": [
    "calculate_result(input_data)"
   ]
  }
 ],
 "metadata": {
  "kernelspec": {
   "display_name": "Python 3",
   "language": "python",
   "name": "python3"
  },
  "language_info": {
   "codemirror_mode": {
    "name": "ipython",
    "version": 3
   },
   "file_extension": ".py",
   "mimetype": "text/x-python",
   "name": "python",
   "nbconvert_exporter": "python",
   "pygments_lexer": "ipython3",
   "version": "3.8.5"
  }
 },
 "nbformat": 4,
 "nbformat_minor": 4
}
