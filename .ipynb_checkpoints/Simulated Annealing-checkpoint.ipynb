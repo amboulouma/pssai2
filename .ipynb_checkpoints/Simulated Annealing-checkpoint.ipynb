{
 "cells": [
  {
   "cell_type": "code",
   "execution_count": 2,
   "metadata": {},
   "outputs": [],
   "source": [
    "from simulated_annealing import *"
   ]
  },
  {
   "cell_type": "code",
   "execution_count": null,
   "metadata": {
    "scrolled": true
   },
   "outputs": [
    {
     "name": "stderr",
     "output_type": "stream",
     "text": [
      "  0%|          | 0/4 [00:00<?, ?it/s]\n",
      "  0%|          | 0/4 [00:00<?, ?it/s]\u001b[A\n",
      "\n",
      "  0%|          | 0/5 [00:00<?, ?it/s]\u001b[A\u001b[A\n",
      "\n",
      "\n",
      "  0%|          | 0/9 [00:00<?, ?it/s]\u001b[A\u001b[A\u001b[A\n",
      "\n",
      "\n",
      " 33%|███▎      | 3/9 [00:00<00:00, 23.52it/s]\u001b[A\u001b[A\u001b[A"
     ]
    },
    {
     "name": "stdout",
     "output_type": "stream",
     "text": [
      "params: T_max=1, r=0.1, termination_condition=1, halting_condition=1\n",
      "params: T_max=1, r=0.2, termination_condition=1, halting_condition=1\n",
      "params: T_max=1, r=0.3, termination_condition=1, halting_condition=1\n",
      "params: T_max=1, r=0.4, termination_condition=1, halting_condition=1\n",
      "params: T_max=1, r=0.5, termination_condition=1, halting_condition=1\n",
      "params: T_max=1, r=0.6, termination_condition=1, halting_condition=1\n"
     ]
    },
    {
     "name": "stderr",
     "output_type": "stream",
     "text": [
      "\n",
      "\n",
      "\n",
      " 67%|██████▋   | 6/9 [00:00<00:00, 25.47it/s]\u001b[A\u001b[A\u001b[A\n",
      "\n",
      "\n",
      "100%|██████████| 9/9 [00:00<00:00, 25.56it/s]\u001b[A\u001b[A\u001b[A\n",
      "\n",
      "\n",
      " 20%|██        | 1/5 [00:00<00:01,  2.77it/s]\u001b[A\u001b[A\n",
      "\n",
      "\n",
      "  0%|          | 0/9 [00:00<?, ?it/s]\u001b[A\u001b[A\u001b[A"
     ]
    },
    {
     "name": "stdout",
     "output_type": "stream",
     "text": [
      "params: T_max=1, r=0.7, termination_condition=1, halting_condition=1\n",
      "params: T_max=1, r=0.8, termination_condition=1, halting_condition=1\n",
      "params: T_max=1, r=0.9, termination_condition=1, halting_condition=1\n",
      "params: T_max=10, r=0.1, termination_condition=1, halting_condition=1\n",
      "params: T_max=10, r=0.2, termination_condition=1, halting_condition=1\n",
      "params: T_max=10, r=0.3, termination_condition=1, halting_condition=1\n"
     ]
    },
    {
     "name": "stderr",
     "output_type": "stream",
     "text": [
      "\n",
      "\n",
      "\n",
      " 33%|███▎      | 3/9 [00:00<00:00, 27.05it/s]\u001b[A\u001b[A\u001b[A\n",
      "\n",
      "\n",
      " 67%|██████▋   | 6/9 [00:00<00:00, 28.27it/s]\u001b[A\u001b[A\u001b[A"
     ]
    },
    {
     "name": "stdout",
     "output_type": "stream",
     "text": [
      "params: T_max=10, r=0.4, termination_condition=1, halting_condition=1\n",
      "params: T_max=10, r=0.5, termination_condition=1, halting_condition=1\n",
      "params: T_max=10, r=0.6, termination_condition=1, halting_condition=1\n",
      "params: T_max=10, r=0.7, termination_condition=1, halting_condition=1\n",
      "params: T_max=10, r=0.8, termination_condition=1, halting_condition=1\n",
      "params: T_max=10, r=0.9, termination_condition=1, halting_condition=1\n"
     ]
    },
    {
     "name": "stderr",
     "output_type": "stream",
     "text": [
      "\n",
      "\n",
      "\n",
      "100%|██████████| 9/9 [00:00<00:00, 27.41it/s]\u001b[A\u001b[A\u001b[A\n",
      "\n",
      "\n",
      " 40%|████      | 2/5 [00:00<00:01,  2.88it/s]\u001b[A\u001b[A\n",
      "\n",
      "\n",
      "  0%|          | 0/9 [00:00<?, ?it/s]\u001b[A\u001b[A\u001b[A\n",
      "\n",
      "\n",
      " 33%|███▎      | 3/9 [00:00<00:00, 26.30it/s]\u001b[A\u001b[A\u001b[A"
     ]
    },
    {
     "name": "stdout",
     "output_type": "stream",
     "text": [
      "params: T_max=100, r=0.1, termination_condition=1, halting_condition=1\n",
      "params: T_max=100, r=0.2, termination_condition=1, halting_condition=1\n",
      "params: T_max=100, r=0.3, termination_condition=1, halting_condition=1\n",
      "params: T_max=100, r=0.4, termination_condition=1, halting_condition=1\n",
      "params: T_max=100, r=0.5, termination_condition=1, halting_condition=1\n"
     ]
    },
    {
     "name": "stderr",
     "output_type": "stream",
     "text": [
      "\n",
      "\n",
      "\n",
      " 67%|██████▋   | 6/9 [00:00<00:00, 21.57it/s]\u001b[A\u001b[A\u001b[A"
     ]
    },
    {
     "name": "stdout",
     "output_type": "stream",
     "text": [
      "params: T_max=100, r=0.6, termination_condition=1, halting_condition=1\n",
      "params: T_max=100, r=0.7, termination_condition=1, halting_condition=1\n",
      "params: T_max=100, r=0.8, termination_condition=1, halting_condition=1\n",
      "params: T_max=100, r=0.9, termination_condition=1, halting_condition=1\n"
     ]
    },
    {
     "name": "stderr",
     "output_type": "stream",
     "text": [
      "\n",
      "\n",
      "\n",
      "100%|██████████| 9/9 [00:00<00:00, 19.01it/s]\u001b[A\u001b[A\u001b[A\n",
      "\n",
      "\n",
      " 60%|██████    | 3/5 [00:01<00:00,  2.44it/s]\u001b[A\u001b[A\n",
      "\n",
      "\n",
      "  0%|          | 0/9 [00:00<?, ?it/s]\u001b[A\u001b[A\u001b[A\n",
      "\n",
      "\n",
      " 22%|██▏       | 2/9 [00:00<00:00, 14.33it/s]\u001b[A\u001b[A\u001b[A"
     ]
    },
    {
     "name": "stdout",
     "output_type": "stream",
     "text": [
      "params: T_max=1000, r=0.1, termination_condition=1, halting_condition=1\n",
      "params: T_max=1000, r=0.2, termination_condition=1, halting_condition=1\n",
      "params: T_max=1000, r=0.3, termination_condition=1, halting_condition=1\n",
      "params: T_max=1000, r=0.4, termination_condition=1, halting_condition=1\n"
     ]
    },
    {
     "name": "stderr",
     "output_type": "stream",
     "text": [
      "\n",
      "\n",
      "\n",
      " 56%|█████▌    | 5/9 [00:00<00:00, 18.32it/s]\u001b[A\u001b[A\u001b[A\n",
      "\n",
      "\n",
      " 78%|███████▊  | 7/9 [00:00<00:00, 18.90it/s]\u001b[A\u001b[A\u001b[A"
     ]
    },
    {
     "name": "stdout",
     "output_type": "stream",
     "text": [
      "params: T_max=1000, r=0.5, termination_condition=1, halting_condition=1\n",
      "params: T_max=1000, r=0.6, termination_condition=1, halting_condition=1\n",
      "params: T_max=1000, r=0.7, termination_condition=1, halting_condition=1\n",
      "params: T_max=1000, r=0.8, termination_condition=1, halting_condition=1\n"
     ]
    },
    {
     "name": "stderr",
     "output_type": "stream",
     "text": [
      "\n",
      "\n",
      "\n",
      "100%|██████████| 9/9 [00:00<00:00, 18.05it/s]\u001b[A\u001b[A\u001b[A\n",
      "\n",
      "\n",
      " 80%|████████  | 4/5 [00:01<00:00,  2.20it/s]\u001b[A\u001b[A\n",
      "\n",
      "\n",
      "  0%|          | 0/9 [00:00<?, ?it/s]\u001b[A\u001b[A\u001b[A\n",
      "\n",
      "\n",
      " 22%|██▏       | 2/9 [00:00<00:00, 17.87it/s]\u001b[A\u001b[A\u001b[A"
     ]
    },
    {
     "name": "stdout",
     "output_type": "stream",
     "text": [
      "params: T_max=1000, r=0.9, termination_condition=1, halting_condition=1\n",
      "params: T_max=10000, r=0.1, termination_condition=1, halting_condition=1\n",
      "params: T_max=10000, r=0.2, termination_condition=1, halting_condition=1\n",
      "params: T_max=10000, r=0.3, termination_condition=1, halting_condition=1\n"
     ]
    },
    {
     "name": "stderr",
     "output_type": "stream",
     "text": [
      "\n",
      "\n",
      "\n",
      " 56%|█████▌    | 5/9 [00:00<00:00, 20.43it/s]\u001b[A\u001b[A\u001b[A"
     ]
    },
    {
     "name": "stdout",
     "output_type": "stream",
     "text": [
      "params: T_max=10000, r=0.4, termination_condition=1, halting_condition=1\n",
      "params: T_max=10000, r=0.5, termination_condition=1, halting_condition=1\n",
      "params: T_max=10000, r=0.6, termination_condition=1, halting_condition=1\n",
      "params: T_max=10000, r=0.7, termination_condition=1, halting_condition=1\n",
      "params: T_max=10000, r=0.8, termination_condition=1, halting_condition=1\n"
     ]
    },
    {
     "name": "stderr",
     "output_type": "stream",
     "text": [
      "\n",
      "\n",
      "\n",
      "100%|██████████| 9/9 [00:00<00:00, 18.39it/s]\u001b[A\u001b[A\u001b[A\n",
      "\n",
      "\n",
      "100%|██████████| 5/5 [00:02<00:00,  2.25it/s]\u001b[A\u001b[A\n",
      "\n",
      " 25%|██▌       | 1/4 [00:02<00:06,  2.23s/it]\u001b[A\n",
      "\n",
      "  0%|          | 0/5 [00:00<?, ?it/s]\u001b[A\u001b[A\n",
      "\n",
      "\n",
      "  0%|          | 0/9 [00:00<?, ?it/s]\u001b[A\u001b[A\u001b[A"
     ]
    },
    {
     "name": "stdout",
     "output_type": "stream",
     "text": [
      "params: T_max=10000, r=0.9, termination_condition=1, halting_condition=1\n",
      "params: T_max=1, r=0.1, termination_condition=1, halting_condition=10\n",
      "params: T_max=1, r=0.2, termination_condition=1, halting_condition=10\n"
     ]
    },
    {
     "name": "stderr",
     "output_type": "stream",
     "text": [
      "\n",
      "\n",
      "\n",
      " 22%|██▏       | 2/9 [00:00<00:00, 17.25it/s]\u001b[A\u001b[A\u001b[A\n",
      "\n",
      "\n",
      " 44%|████▍     | 4/9 [00:00<00:00, 16.63it/s]\u001b[A\u001b[A\u001b[A"
     ]
    },
    {
     "name": "stdout",
     "output_type": "stream",
     "text": [
      "params: T_max=1, r=0.3, termination_condition=1, halting_condition=10\n",
      "params: T_max=1, r=0.4, termination_condition=1, halting_condition=10\n",
      "params: T_max=1, r=0.5, termination_condition=1, halting_condition=10\n",
      "params: T_max=1, r=0.6, termination_condition=1, halting_condition=10\n"
     ]
    },
    {
     "name": "stderr",
     "output_type": "stream",
     "text": [
      "\n",
      "\n",
      "\n",
      " 67%|██████▋   | 6/9 [00:00<00:00, 14.83it/s]\u001b[A\u001b[A\u001b[A\n",
      "\n",
      "\n",
      " 89%|████████▉ | 8/9 [00:00<00:00, 14.28it/s]\u001b[A\u001b[A\u001b[A"
     ]
    },
    {
     "name": "stdout",
     "output_type": "stream",
     "text": [
      "params: T_max=1, r=0.7, termination_condition=1, halting_condition=10\n",
      "params: T_max=1, r=0.8, termination_condition=1, halting_condition=10\n",
      "params: T_max=1, r=0.9, termination_condition=1, halting_condition=10\n"
     ]
    },
    {
     "name": "stderr",
     "output_type": "stream",
     "text": [
      "100%|██████████| 9/9 [00:00<00:00, 14.13it/s]\n",
      "\n",
      "\n",
      " 20%|██        | 1/5 [00:00<00:02,  1.54it/s]\u001b[A\u001b[A\n",
      "\n",
      "\n",
      "  0%|          | 0/9 [00:00<?, ?it/s]\u001b[A\u001b[A\u001b[A\n",
      "\n",
      "\n",
      " 22%|██▏       | 2/9 [00:00<00:00, 15.26it/s]\u001b[A\u001b[A\u001b[A"
     ]
    },
    {
     "name": "stdout",
     "output_type": "stream",
     "text": [
      "params: T_max=10, r=0.1, termination_condition=1, halting_condition=10\n",
      "params: T_max=10, r=0.2, termination_condition=1, halting_condition=10\n",
      "params: T_max=10, r=0.3, termination_condition=1, halting_condition=10\n",
      "params: T_max=10, r=0.4, termination_condition=1, halting_condition=10\n"
     ]
    },
    {
     "name": "stderr",
     "output_type": "stream",
     "text": [
      "\n",
      "\n",
      "\n",
      " 44%|████▍     | 4/9 [00:00<00:00, 15.00it/s]\u001b[A\u001b[A\u001b[A\n",
      "\n",
      "\n",
      " 67%|██████▋   | 6/9 [00:00<00:00, 12.58it/s]\u001b[A\u001b[A\u001b[A"
     ]
    },
    {
     "name": "stdout",
     "output_type": "stream",
     "text": [
      "params: T_max=10, r=0.5, termination_condition=1, halting_condition=10\n",
      "params: T_max=10, r=0.6, termination_condition=1, halting_condition=10\n",
      "params: T_max=10, r=0.7, termination_condition=1, halting_condition=10\n"
     ]
    },
    {
     "name": "stderr",
     "output_type": "stream",
     "text": [
      "\n",
      "\n",
      "\n",
      "100%|██████████| 9/9 [00:00<00:00, 12.43it/s]\u001b[A\u001b[A\u001b[A\n",
      "\n",
      "\n",
      " 40%|████      | 2/5 [00:01<00:02,  1.41it/s]\u001b[A\u001b[A\n",
      "\n",
      "\n",
      "  0%|          | 0/9 [00:00<?, ?it/s]\u001b[A\u001b[A\u001b[A"
     ]
    },
    {
     "name": "stdout",
     "output_type": "stream",
     "text": [
      "params: T_max=10, r=0.8, termination_condition=1, halting_condition=10\n",
      "params: T_max=10, r=0.9, termination_condition=1, halting_condition=10\n",
      "params: T_max=100, r=0.1, termination_condition=1, halting_condition=10\n"
     ]
    },
    {
     "name": "stderr",
     "output_type": "stream",
     "text": [
      "\n",
      "\n",
      "\n",
      " 22%|██▏       | 2/9 [00:00<00:00, 14.07it/s]\u001b[A\u001b[A\u001b[A"
     ]
    },
    {
     "name": "stdout",
     "output_type": "stream",
     "text": [
      "params: T_max=100, r=0.2, termination_condition=1, halting_condition=10\n",
      "params: T_max=100, r=0.3, termination_condition=1, halting_condition=10\n",
      "params: T_max=100, r=0.4, termination_condition=1, halting_condition=10\n"
     ]
    },
    {
     "name": "stderr",
     "output_type": "stream",
     "text": [
      "\n",
      "\n",
      "\n",
      " 44%|████▍     | 4/9 [00:00<00:00, 13.90it/s]\u001b[A\u001b[A\u001b[A\n",
      "\n",
      "\n",
      " 67%|██████▋   | 6/9 [00:00<00:00, 14.17it/s]\u001b[A\u001b[A\u001b[A"
     ]
    },
    {
     "name": "stdout",
     "output_type": "stream",
     "text": [
      "params: T_max=100, r=0.5, termination_condition=1, halting_condition=10\n",
      "params: T_max=100, r=0.6, termination_condition=1, halting_condition=10\n",
      "params: T_max=100, r=0.7, termination_condition=1, halting_condition=10\n",
      "params: T_max=100, r=0.8, termination_condition=1, halting_condition=10\n"
     ]
    },
    {
     "name": "stderr",
     "output_type": "stream",
     "text": [
      "\n",
      "\n",
      "\n",
      "100%|██████████| 9/9 [00:00<00:00, 14.27it/s]\u001b[A\u001b[A\u001b[A\n",
      "\n",
      "\n",
      " 60%|██████    | 3/5 [00:02<00:01,  1.47it/s]\u001b[A\u001b[A\n",
      "\n",
      "\n",
      "  0%|          | 0/9 [00:00<?, ?it/s]\u001b[A\u001b[A\u001b[A"
     ]
    },
    {
     "name": "stdout",
     "output_type": "stream",
     "text": [
      "params: T_max=100, r=0.9, termination_condition=1, halting_condition=10\n",
      "params: T_max=1000, r=0.1, termination_condition=1, halting_condition=10\n",
      "params: T_max=1000, r=0.2, termination_condition=1, halting_condition=10\n"
     ]
    },
    {
     "name": "stderr",
     "output_type": "stream",
     "text": [
      "\n",
      "\n",
      "\n",
      " 22%|██▏       | 2/9 [00:00<00:00, 14.50it/s]\u001b[A\u001b[A\u001b[A\n",
      "\n",
      "\n",
      " 44%|████▍     | 4/9 [00:00<00:00, 14.78it/s]\u001b[A\u001b[A\u001b[A"
     ]
    },
    {
     "name": "stdout",
     "output_type": "stream",
     "text": [
      "params: T_max=1000, r=0.3, termination_condition=1, halting_condition=10\n",
      "params: T_max=1000, r=0.4, termination_condition=1, halting_condition=10\n",
      "params: T_max=1000, r=0.5, termination_condition=1, halting_condition=10\n",
      "params: T_max=1000, r=0.6, termination_condition=1, halting_condition=10\n"
     ]
    },
    {
     "name": "stderr",
     "output_type": "stream",
     "text": [
      "\n",
      "\n",
      "\n",
      " 67%|██████▋   | 6/9 [00:00<00:00, 14.45it/s]\u001b[A\u001b[A\u001b[A\n",
      "\n",
      "\n",
      " 89%|████████▉ | 8/9 [00:00<00:00, 14.12it/s]\u001b[A\u001b[A\u001b[A"
     ]
    },
    {
     "name": "stdout",
     "output_type": "stream",
     "text": [
      "params: T_max=1000, r=0.7, termination_condition=1, halting_condition=10\n",
      "params: T_max=1000, r=0.8, termination_condition=1, halting_condition=10\n",
      "params: T_max=1000, r=0.9, termination_condition=1, halting_condition=10\n"
     ]
    },
    {
     "name": "stderr",
     "output_type": "stream",
     "text": [
      "100%|██████████| 9/9 [00:00<00:00, 14.10it/s]\n",
      "\n",
      "\n",
      " 80%|████████  | 4/5 [00:02<00:00,  1.49it/s]\u001b[A\u001b[A\n",
      "\n",
      "\n",
      "  0%|          | 0/9 [00:00<?, ?it/s]\u001b[A\u001b[A\u001b[A\n",
      "\n",
      "\n",
      " 22%|██▏       | 2/9 [00:00<00:00, 13.61it/s]\u001b[A\u001b[A\u001b[A"
     ]
    },
    {
     "name": "stdout",
     "output_type": "stream",
     "text": [
      "params: T_max=10000, r=0.1, termination_condition=1, halting_condition=10\n",
      "params: T_max=10000, r=0.2, termination_condition=1, halting_condition=10\n",
      "params: T_max=10000, r=0.3, termination_condition=1, halting_condition=10\n"
     ]
    },
    {
     "name": "stderr",
     "output_type": "stream",
     "text": [
      "\n",
      "\n",
      "\n",
      " 44%|████▍     | 4/9 [00:00<00:00, 12.91it/s]\u001b[A\u001b[A\u001b[A"
     ]
    },
    {
     "name": "stdout",
     "output_type": "stream",
     "text": [
      "params: T_max=10000, r=0.4, termination_condition=1, halting_condition=10\n",
      "params: T_max=10000, r=0.5, termination_condition=1, halting_condition=10\n",
      "params: T_max=10000, r=0.6, termination_condition=1, halting_condition=10\n"
     ]
    },
    {
     "name": "stderr",
     "output_type": "stream",
     "text": [
      "\n",
      "\n",
      "\n",
      " 67%|██████▋   | 6/9 [00:00<00:00, 11.93it/s]\u001b[A\u001b[A\u001b[A\n",
      "\n",
      "\n",
      " 89%|████████▉ | 8/9 [00:00<00:00, 12.35it/s]\u001b[A\u001b[A\u001b[A"
     ]
    },
    {
     "name": "stdout",
     "output_type": "stream",
     "text": [
      "params: T_max=10000, r=0.7, termination_condition=1, halting_condition=10\n",
      "params: T_max=10000, r=0.8, termination_condition=1, halting_condition=10\n",
      "params: T_max=10000, r=0.9, termination_condition=1, halting_condition=10\n"
     ]
    },
    {
     "name": "stderr",
     "output_type": "stream",
     "text": [
      "100%|██████████| 9/9 [00:00<00:00, 12.42it/s]\n",
      "\n",
      "\n",
      "100%|██████████| 5/5 [00:03<00:00,  1.45it/s]\u001b[A\u001b[A\n",
      "\n",
      " 50%|█████     | 2/4 [00:05<00:05,  2.96s/it]\u001b[A\n",
      "\n",
      "  0%|          | 0/5 [00:00<?, ?it/s]\u001b[A\u001b[A\n",
      "\n",
      "\n",
      "  0%|          | 0/9 [00:00<?, ?it/s]\u001b[A\u001b[A\u001b[A\n",
      "\n",
      "\n",
      " 11%|█         | 1/9 [00:00<00:00,  9.87it/s]\u001b[A\u001b[A\u001b[A"
     ]
    },
    {
     "name": "stdout",
     "output_type": "stream",
     "text": [
      "params: T_max=1, r=0.1, termination_condition=1, halting_condition=100\n",
      "params: T_max=1, r=0.2, termination_condition=1, halting_condition=100\n"
     ]
    },
    {
     "name": "stderr",
     "output_type": "stream",
     "text": [
      "\n",
      "\n",
      "\n",
      " 22%|██▏       | 2/9 [00:00<00:00,  9.39it/s]\u001b[A\u001b[A\u001b[A\n",
      "\n",
      "\n",
      " 44%|████▍     | 4/9 [00:00<00:00, 10.86it/s]\u001b[A\u001b[A\u001b[A"
     ]
    },
    {
     "name": "stdout",
     "output_type": "stream",
     "text": [
      "params: T_max=1, r=0.3, termination_condition=1, halting_condition=100\n",
      "params: T_max=1, r=0.4, termination_condition=1, halting_condition=100\n",
      "params: T_max=1, r=0.5, termination_condition=1, halting_condition=100\n"
     ]
    },
    {
     "name": "stderr",
     "output_type": "stream",
     "text": [
      "\n",
      "\n",
      "\n",
      " 67%|██████▋   | 6/9 [00:00<00:00, 10.38it/s]\u001b[A\u001b[A\u001b[A"
     ]
    },
    {
     "name": "stdout",
     "output_type": "stream",
     "text": [
      "params: T_max=1, r=0.6, termination_condition=1, halting_condition=100\n",
      "params: T_max=1, r=0.7, termination_condition=1, halting_condition=100\n",
      "params: T_max=1, r=0.8, termination_condition=1, halting_condition=100\n"
     ]
    },
    {
     "name": "stderr",
     "output_type": "stream",
     "text": [
      "\n",
      "\n",
      "\n",
      "100%|██████████| 9/9 [00:00<00:00, 10.49it/s]\u001b[A\u001b[A\u001b[A\n",
      "\n",
      "\n",
      " 20%|██        | 1/5 [00:00<00:03,  1.15it/s]\u001b[A\u001b[A\n",
      "\n",
      "\n",
      "  0%|          | 0/9 [00:00<?, ?it/s]\u001b[A\u001b[A\u001b[A"
     ]
    },
    {
     "name": "stdout",
     "output_type": "stream",
     "text": [
      "params: T_max=1, r=0.9, termination_condition=1, halting_condition=100\n",
      "params: T_max=10, r=0.1, termination_condition=1, halting_condition=100\n",
      "params: T_max=10, r=0.2, termination_condition=1, halting_condition=100\n"
     ]
    },
    {
     "name": "stderr",
     "output_type": "stream",
     "text": [
      "\n",
      "\n",
      "\n",
      " 22%|██▏       | 2/9 [00:00<00:00, 10.93it/s]\u001b[A\u001b[A\u001b[A\n",
      "\n",
      "\n",
      " 44%|████▍     | 4/9 [00:00<00:00, 12.42it/s]\u001b[A\u001b[A\u001b[A"
     ]
    },
    {
     "name": "stdout",
     "output_type": "stream",
     "text": [
      "params: T_max=10, r=0.3, termination_condition=1, halting_condition=100\n",
      "params: T_max=10, r=0.4, termination_condition=1, halting_condition=100\n",
      "params: T_max=10, r=0.5, termination_condition=1, halting_condition=100\n"
     ]
    },
    {
     "name": "stderr",
     "output_type": "stream",
     "text": [
      "\n",
      "\n",
      "\n",
      " 67%|██████▋   | 6/9 [00:00<00:00, 12.31it/s]\u001b[A\u001b[A\u001b[A"
     ]
    },
    {
     "name": "stdout",
     "output_type": "stream",
     "text": [
      "params: T_max=10, r=0.6, termination_condition=1, halting_condition=100\n",
      "params: T_max=10, r=0.7, termination_condition=1, halting_condition=100\n",
      "params: T_max=10, r=0.8, termination_condition=1, halting_condition=100\n"
     ]
    },
    {
     "name": "stderr",
     "output_type": "stream",
     "text": [
      "\n",
      "\n",
      "\n",
      "100%|██████████| 9/9 [00:00<00:00, 12.47it/s]\u001b[A\u001b[A\u001b[A\n",
      "\n",
      "\n",
      " 40%|████      | 2/5 [00:01<00:02,  1.26it/s]\u001b[A\u001b[A\n",
      "\n",
      "\n",
      "  0%|          | 0/9 [00:00<?, ?it/s]\u001b[A\u001b[A\u001b[A"
     ]
    },
    {
     "name": "stdout",
     "output_type": "stream",
     "text": [
      "params: T_max=10, r=0.9, termination_condition=1, halting_condition=100\n",
      "params: T_max=100, r=0.1, termination_condition=1, halting_condition=100\n",
      "params: T_max=100, r=0.2, termination_condition=1, halting_condition=100\n"
     ]
    },
    {
     "name": "stderr",
     "output_type": "stream",
     "text": [
      "\n",
      "\n",
      "\n",
      " 22%|██▏       | 2/9 [00:00<00:00, 13.42it/s]\u001b[A\u001b[A\u001b[A\n",
      "\n",
      "\n",
      " 44%|████▍     | 4/9 [00:00<00:00, 12.69it/s]\u001b[A\u001b[A\u001b[A"
     ]
    },
    {
     "name": "stdout",
     "output_type": "stream",
     "text": [
      "params: T_max=100, r=0.3, termination_condition=1, halting_condition=100\n",
      "params: T_max=100, r=0.4, termination_condition=1, halting_condition=100\n",
      "params: T_max=100, r=0.5, termination_condition=1, halting_condition=100\n"
     ]
    },
    {
     "name": "stderr",
     "output_type": "stream",
     "text": [
      "\n",
      "\n",
      "\n",
      " 67%|██████▋   | 6/9 [00:00<00:00, 13.10it/s]\u001b[A\u001b[A\u001b[A\n",
      "\n",
      "\n"
     ]
    },
    {
     "name": "stdout",
     "output_type": "stream",
     "text": [
      "params: T_max=100, r=0.6, termination_condition=1, halting_condition=100\n",
      "params: T_max=100, r=0.7, termination_condition=1, halting_condition=100\n",
      "params: T_max=100, r=0.8, termination_condition=1, halting_condition=100\n"
     ]
    },
    {
     "name": "stderr",
     "output_type": "stream",
     "text": [
      "100%|██████████| 9/9 [00:00<00:00, 13.51it/s]\u001b[A\u001b[A\u001b[A\n",
      "\n",
      "\n",
      " 60%|██████    | 3/5 [00:02<00:01,  1.34it/s]\u001b[A\u001b[A\n",
      "\n",
      "\n",
      "  0%|          | 0/9 [00:00<?, ?it/s]\u001b[A\u001b[A\u001b[A"
     ]
    },
    {
     "name": "stdout",
     "output_type": "stream",
     "text": [
      "params: T_max=100, r=0.9, termination_condition=1, halting_condition=100\n",
      "params: T_max=1000, r=0.1, termination_condition=1, halting_condition=100\n",
      "params: T_max=1000, r=0.2, termination_condition=1, halting_condition=100\n"
     ]
    },
    {
     "name": "stderr",
     "output_type": "stream",
     "text": [
      "\n",
      "\n",
      "\n",
      " 22%|██▏       | 2/9 [00:00<00:00, 12.84it/s]\u001b[A\u001b[A\u001b[A\n",
      "\n",
      "\n",
      " 44%|████▍     | 4/9 [00:00<00:00, 11.52it/s]\u001b[A\u001b[A\u001b[A"
     ]
    },
    {
     "name": "stdout",
     "output_type": "stream",
     "text": [
      "params: T_max=1000, r=0.3, termination_condition=1, halting_condition=100\n",
      "params: T_max=1000, r=0.4, termination_condition=1, halting_condition=100\n",
      "params: T_max=1000, r=0.5, termination_condition=1, halting_condition=100\n"
     ]
    },
    {
     "name": "stderr",
     "output_type": "stream",
     "text": [
      "\n",
      "\n",
      "\n",
      " 67%|██████▋   | 6/9 [00:00<00:00, 11.64it/s]\u001b[A\u001b[A\u001b[A"
     ]
    },
    {
     "name": "stdout",
     "output_type": "stream",
     "text": [
      "params: T_max=1000, r=0.6, termination_condition=1, halting_condition=100\n",
      "params: T_max=1000, r=0.7, termination_condition=1, halting_condition=100\n",
      "params: T_max=1000, r=0.8, termination_condition=1, halting_condition=100\n"
     ]
    },
    {
     "name": "stderr",
     "output_type": "stream",
     "text": [
      "\n",
      "\n",
      "\n",
      "100%|██████████| 9/9 [00:00<00:00, 11.46it/s]\u001b[A\u001b[A\u001b[A\n",
      "\n",
      "\n",
      " 80%|████████  | 4/5 [00:03<00:00,  1.31it/s]\u001b[A\u001b[A\n",
      "\n",
      "\n",
      "  0%|          | 0/9 [00:00<?, ?it/s]\u001b[A\u001b[A\u001b[A"
     ]
    },
    {
     "name": "stdout",
     "output_type": "stream",
     "text": [
      "params: T_max=1000, r=0.9, termination_condition=1, halting_condition=100\n",
      "params: T_max=10000, r=0.1, termination_condition=1, halting_condition=100\n",
      "params: T_max=10000, r=0.2, termination_condition=1, halting_condition=100\n"
     ]
    },
    {
     "name": "stderr",
     "output_type": "stream",
     "text": [
      "\n",
      "\n",
      "\n",
      " 22%|██▏       | 2/9 [00:00<00:00, 12.86it/s]\u001b[A\u001b[A\u001b[A\n",
      "\n",
      "\n",
      " 44%|████▍     | 4/9 [00:00<00:00, 13.05it/s]\u001b[A\u001b[A\u001b[A"
     ]
    },
    {
     "name": "stdout",
     "output_type": "stream",
     "text": [
      "params: T_max=10000, r=0.3, termination_condition=1, halting_condition=100\n",
      "params: T_max=10000, r=0.4, termination_condition=1, halting_condition=100\n",
      "params: T_max=10000, r=0.5, termination_condition=1, halting_condition=100\n"
     ]
    },
    {
     "name": "stderr",
     "output_type": "stream",
     "text": [
      "\n",
      "\n",
      "\n",
      " 67%|██████▋   | 6/9 [00:00<00:00, 11.51it/s]\u001b[A\u001b[A\u001b[A"
     ]
    },
    {
     "name": "stdout",
     "output_type": "stream",
     "text": [
      "params: T_max=10000, r=0.6, termination_condition=1, halting_condition=100\n",
      "params: T_max=10000, r=0.7, termination_condition=1, halting_condition=100\n",
      "params: T_max=10000, r=0.8, termination_condition=1, halting_condition=100\n"
     ]
    },
    {
     "name": "stderr",
     "output_type": "stream",
     "text": [
      "\n",
      "\n",
      "\n",
      "100%|██████████| 9/9 [00:00<00:00, 11.97it/s]\u001b[A\u001b[A\u001b[A\n",
      "\n",
      "\n",
      "100%|██████████| 5/5 [00:03<00:00,  1.29it/s]\u001b[A\u001b[A\n",
      "\n",
      " 75%|███████▌  | 3/4 [00:09<00:03,  3.38s/it]\u001b[A\n",
      "\n",
      "  0%|          | 0/5 [00:00<?, ?it/s]\u001b[A\u001b[A\n",
      "\n",
      "\n",
      "  0%|          | 0/9 [00:00<?, ?it/s]\u001b[A\u001b[A\u001b[A"
     ]
    },
    {
     "name": "stdout",
     "output_type": "stream",
     "text": [
      "params: T_max=10000, r=0.9, termination_condition=1, halting_condition=100\n",
      "params: T_max=1, r=0.1, termination_condition=1, halting_condition=1000\n"
     ]
    },
    {
     "name": "stderr",
     "output_type": "stream",
     "text": [
      "\n",
      "\n",
      "\n",
      " 22%|██▏       | 2/9 [00:00<00:00, 11.99it/s]\u001b[A\u001b[A\u001b[A\n",
      "\n",
      "\n",
      " 44%|████▍     | 4/9 [00:00<00:00, 12.00it/s]\u001b[A\u001b[A\u001b[A"
     ]
    },
    {
     "name": "stdout",
     "output_type": "stream",
     "text": [
      "params: T_max=1, r=0.2, termination_condition=1, halting_condition=1000\n",
      "params: T_max=1, r=0.3, termination_condition=1, halting_condition=1000\n",
      "params: T_max=1, r=0.4, termination_condition=1, halting_condition=1000\n",
      "params: T_max=1, r=0.5, termination_condition=1, halting_condition=1000\n"
     ]
    },
    {
     "name": "stderr",
     "output_type": "stream",
     "text": [
      "\n",
      "\n",
      "\n",
      " 67%|██████▋   | 6/9 [00:00<00:00, 12.53it/s]\u001b[A\u001b[A\u001b[A"
     ]
    },
    {
     "name": "stdout",
     "output_type": "stream",
     "text": [
      "params: T_max=1, r=0.6, termination_condition=1, halting_condition=1000\n",
      "params: T_max=1, r=0.7, termination_condition=1, halting_condition=1000\n",
      "params: T_max=1, r=0.8, termination_condition=1, halting_condition=1000\n"
     ]
    },
    {
     "name": "stderr",
     "output_type": "stream",
     "text": [
      "\n",
      "\n",
      "\n",
      "100%|██████████| 9/9 [00:00<00:00, 12.51it/s]\u001b[A\u001b[A\u001b[A\n",
      "\n",
      "\n",
      " 20%|██        | 1/5 [00:00<00:02,  1.37it/s]\u001b[A\u001b[A\n",
      "\n",
      "\n",
      "  0%|          | 0/9 [00:00<?, ?it/s]\u001b[A\u001b[A\u001b[A"
     ]
    },
    {
     "name": "stdout",
     "output_type": "stream",
     "text": [
      "params: T_max=1, r=0.9, termination_condition=1, halting_condition=1000\n",
      "params: T_max=10, r=0.1, termination_condition=1, halting_condition=1000\n",
      "params: T_max=10, r=0.2, termination_condition=1, halting_condition=1000\n"
     ]
    },
    {
     "name": "stderr",
     "output_type": "stream",
     "text": [
      "\n",
      "\n",
      "\n",
      " 22%|██▏       | 2/9 [00:00<00:00, 13.69it/s]\u001b[A\u001b[A\u001b[A\n",
      "\n",
      "\n",
      " 44%|████▍     | 4/9 [00:00<00:00, 13.33it/s]\u001b[A\u001b[A\u001b[A"
     ]
    },
    {
     "name": "stdout",
     "output_type": "stream",
     "text": [
      "params: T_max=10, r=0.3, termination_condition=1, halting_condition=1000\n",
      "params: T_max=10, r=0.4, termination_condition=1, halting_condition=1000\n",
      "params: T_max=10, r=0.5, termination_condition=1, halting_condition=1000\n"
     ]
    },
    {
     "name": "stderr",
     "output_type": "stream",
     "text": [
      "\n",
      "\n",
      "\n",
      " 67%|██████▋   | 6/9 [00:00<00:00, 13.20it/s]\u001b[A\u001b[A\u001b[A"
     ]
    },
    {
     "name": "stdout",
     "output_type": "stream",
     "text": [
      "params: T_max=10, r=0.6, termination_condition=1, halting_condition=1000\n",
      "params: T_max=10, r=0.7, termination_condition=1, halting_condition=1000\n",
      "params: T_max=10, r=0.8, termination_condition=1, halting_condition=1000\n"
     ]
    },
    {
     "name": "stderr",
     "output_type": "stream",
     "text": [
      "\n",
      "\n",
      "\n",
      "100%|██████████| 9/9 [00:00<00:00, 12.81it/s]\u001b[A\u001b[A\u001b[A\n",
      "\n",
      "\n",
      " 40%|████      | 2/5 [00:01<00:02,  1.38it/s]\u001b[A\u001b[A\n",
      "\n",
      "\n",
      "  0%|          | 0/9 [00:00<?, ?it/s]\u001b[A\u001b[A\u001b[A"
     ]
    },
    {
     "name": "stdout",
     "output_type": "stream",
     "text": [
      "params: T_max=10, r=0.9, termination_condition=1, halting_condition=1000\n",
      "params: T_max=100, r=0.1, termination_condition=1, halting_condition=1000\n",
      "params: T_max=100, r=0.2, termination_condition=1, halting_condition=1000\n"
     ]
    },
    {
     "name": "stderr",
     "output_type": "stream",
     "text": [
      "\n",
      "\n",
      "\n",
      " 22%|██▏       | 2/9 [00:00<00:00, 12.88it/s]\u001b[A\u001b[A\u001b[A\n",
      "\n",
      "\n",
      " 44%|████▍     | 4/9 [00:00<00:00, 13.05it/s]\u001b[A\u001b[A\u001b[A"
     ]
    },
    {
     "name": "stdout",
     "output_type": "stream",
     "text": [
      "params: T_max=100, r=0.3, termination_condition=1, halting_condition=1000\n",
      "params: T_max=100, r=0.4, termination_condition=1, halting_condition=1000\n",
      "params: T_max=100, r=0.5, termination_condition=1, halting_condition=1000\n"
     ]
    },
    {
     "name": "stderr",
     "output_type": "stream",
     "text": [
      "\n",
      "\n",
      "\n",
      " 67%|██████▋   | 6/9 [00:00<00:00, 12.60it/s]\u001b[A\u001b[A\u001b[A"
     ]
    },
    {
     "name": "stdout",
     "output_type": "stream",
     "text": [
      "params: T_max=100, r=0.6, termination_condition=1, halting_condition=1000\n",
      "params: T_max=100, r=0.7, termination_condition=1, halting_condition=1000\n",
      "params: T_max=100, r=0.8, termination_condition=1, halting_condition=1000\n"
     ]
    },
    {
     "name": "stderr",
     "output_type": "stream",
     "text": [
      "\n",
      "\n",
      "\n",
      "100%|██████████| 9/9 [00:00<00:00, 12.19it/s]\u001b[A\u001b[A\u001b[A\n",
      "\n",
      "\n",
      " 60%|██████    | 3/5 [00:02<00:01,  1.35it/s]\u001b[A\u001b[A\n",
      "\n",
      "\n",
      "  0%|          | 0/9 [00:00<?, ?it/s]\u001b[A\u001b[A\u001b[A"
     ]
    },
    {
     "name": "stdout",
     "output_type": "stream",
     "text": [
      "params: T_max=100, r=0.9, termination_condition=1, halting_condition=1000\n",
      "params: T_max=1000, r=0.1, termination_condition=1, halting_condition=1000\n",
      "params: T_max=1000, r=0.2, termination_condition=1, halting_condition=1000\n"
     ]
    },
    {
     "name": "stderr",
     "output_type": "stream",
     "text": [
      "\n",
      "\n",
      "\n",
      " 22%|██▏       | 2/9 [00:00<00:00, 12.16it/s]\u001b[A\u001b[A\u001b[A\n",
      "\n",
      "\n",
      " 44%|████▍     | 4/9 [00:00<00:00, 12.55it/s]\u001b[A\u001b[A\u001b[A"
     ]
    },
    {
     "name": "stdout",
     "output_type": "stream",
     "text": [
      "params: T_max=1000, r=0.3, termination_condition=1, halting_condition=1000\n",
      "params: T_max=1000, r=0.4, termination_condition=1, halting_condition=1000\n",
      "params: T_max=1000, r=0.5, termination_condition=1, halting_condition=1000\n"
     ]
    },
    {
     "name": "stderr",
     "output_type": "stream",
     "text": [
      "\n",
      "\n",
      "\n",
      " 67%|██████▋   | 6/9 [00:00<00:00, 12.22it/s]\u001b[A\u001b[A\u001b[A"
     ]
    },
    {
     "name": "stdout",
     "output_type": "stream",
     "text": [
      "params: T_max=1000, r=0.6, termination_condition=1, halting_condition=1000\n",
      "params: T_max=1000, r=0.7, termination_condition=1, halting_condition=1000\n",
      "params: T_max=1000, r=0.8, termination_condition=1, halting_condition=1000\n"
     ]
    },
    {
     "name": "stderr",
     "output_type": "stream",
     "text": [
      "\n",
      "\n",
      "\n",
      "100%|██████████| 9/9 [00:00<00:00, 12.17it/s]\u001b[A\u001b[A\u001b[A\n",
      "\n",
      "\n",
      " 80%|████████  | 4/5 [00:02<00:00,  1.33it/s]\u001b[A\u001b[A\n",
      "\n",
      "\n",
      "  0%|          | 0/9 [00:00<?, ?it/s]\u001b[A\u001b[A\u001b[A"
     ]
    },
    {
     "name": "stdout",
     "output_type": "stream",
     "text": [
      "params: T_max=1000, r=0.9, termination_condition=1, halting_condition=1000\n",
      "params: T_max=10000, r=0.1, termination_condition=1, halting_condition=1000\n",
      "params: T_max=10000, r=0.2, termination_condition=1, halting_condition=1000\n"
     ]
    },
    {
     "name": "stderr",
     "output_type": "stream",
     "text": [
      "\n",
      "\n",
      "\n",
      " 22%|██▏       | 2/9 [00:00<00:00, 12.56it/s]\u001b[A\u001b[A\u001b[A\n",
      "\n",
      "\n",
      " 44%|████▍     | 4/9 [00:00<00:00, 12.39it/s]\u001b[A\u001b[A\u001b[A"
     ]
    },
    {
     "name": "stdout",
     "output_type": "stream",
     "text": [
      "params: T_max=10000, r=0.3, termination_condition=1, halting_condition=1000\n",
      "params: T_max=10000, r=0.4, termination_condition=1, halting_condition=1000\n",
      "params: T_max=10000, r=0.5, termination_condition=1, halting_condition=1000\n"
     ]
    },
    {
     "name": "stderr",
     "output_type": "stream",
     "text": [
      "\n",
      "\n",
      "\n",
      " 67%|██████▋   | 6/9 [00:00<00:00, 12.35it/s]\u001b[A\u001b[A\u001b[A"
     ]
    },
    {
     "name": "stdout",
     "output_type": "stream",
     "text": [
      "params: T_max=10000, r=0.6, termination_condition=1, halting_condition=1000\n",
      "params: T_max=10000, r=0.7, termination_condition=1, halting_condition=1000\n",
      "params: T_max=10000, r=0.8, termination_condition=1, halting_condition=1000\n"
     ]
    },
    {
     "name": "stderr",
     "output_type": "stream",
     "text": [
      "\n",
      "\n",
      "\n",
      "100%|██████████| 9/9 [00:00<00:00, 12.11it/s]\u001b[A\u001b[A\u001b[A\n",
      "\n",
      "\n",
      "100%|██████████| 5/5 [00:03<00:00,  1.34it/s]\u001b[A\u001b[A\n",
      "\n",
      "100%|██████████| 4/4 [00:13<00:00,  3.34s/it]\u001b[A\n",
      " 25%|██▌       | 1/4 [00:13<00:40, 13.37s/it]\n",
      "  0%|          | 0/4 [00:00<?, ?it/s]\u001b[A\n",
      "\n",
      "  0%|          | 0/5 [00:00<?, ?it/s]\u001b[A\u001b[A\n",
      "\n",
      "\n",
      "  0%|          | 0/9 [00:00<?, ?it/s]\u001b[A\u001b[A\u001b[A"
     ]
    },
    {
     "name": "stdout",
     "output_type": "stream",
     "text": [
      "params: T_max=10000, r=0.9, termination_condition=1, halting_condition=1000\n",
      "params: T_max=1, r=0.1, termination_condition=10, halting_condition=1\n"
     ]
    },
    {
     "name": "stderr",
     "output_type": "stream",
     "text": [
      "\n",
      "\n",
      "\n",
      " 11%|█         | 1/9 [00:00<00:04,  1.68it/s]\u001b[A\u001b[A\u001b[A"
     ]
    },
    {
     "name": "stdout",
     "output_type": "stream",
     "text": [
      "params: T_max=1, r=0.2, termination_condition=10, halting_condition=1\n"
     ]
    },
    {
     "name": "stderr",
     "output_type": "stream",
     "text": [
      "\n",
      "\n",
      "\n",
      " 22%|██▏       | 2/9 [00:01<00:04,  1.60it/s]\u001b[A\u001b[A\u001b[A"
     ]
    },
    {
     "name": "stdout",
     "output_type": "stream",
     "text": [
      "params: T_max=1, r=0.3, termination_condition=10, halting_condition=1\n"
     ]
    },
    {
     "name": "stderr",
     "output_type": "stream",
     "text": [
      "\n",
      "\n",
      "\n",
      " 33%|███▎      | 3/9 [00:01<00:03,  1.74it/s]\u001b[A\u001b[A\u001b[A"
     ]
    },
    {
     "name": "stdout",
     "output_type": "stream",
     "text": [
      "params: T_max=1, r=0.4, termination_condition=10, halting_condition=1\n"
     ]
    },
    {
     "name": "stderr",
     "output_type": "stream",
     "text": [
      "\n",
      "\n",
      "\n",
      " 44%|████▍     | 4/9 [00:02<00:02,  1.90it/s]\u001b[A\u001b[A\u001b[A"
     ]
    },
    {
     "name": "stdout",
     "output_type": "stream",
     "text": [
      "params: T_max=1, r=0.5, termination_condition=10, halting_condition=1\n"
     ]
    },
    {
     "name": "stderr",
     "output_type": "stream",
     "text": [
      "\n",
      "\n",
      "\n",
      " 56%|█████▌    | 5/9 [00:02<00:02,  1.84it/s]\u001b[A\u001b[A\u001b[A"
     ]
    },
    {
     "name": "stdout",
     "output_type": "stream",
     "text": [
      "params: T_max=1, r=0.6, termination_condition=10, halting_condition=1\n"
     ]
    },
    {
     "name": "stderr",
     "output_type": "stream",
     "text": [
      "\n",
      "\n",
      "\n",
      " 67%|██████▋   | 6/9 [00:03<00:01,  1.88it/s]\u001b[A\u001b[A\u001b[A"
     ]
    },
    {
     "name": "stdout",
     "output_type": "stream",
     "text": [
      "params: T_max=1, r=0.7, termination_condition=10, halting_condition=1\n"
     ]
    },
    {
     "name": "stderr",
     "output_type": "stream",
     "text": [
      "\n",
      "\n",
      "\n",
      " 78%|███████▊  | 7/9 [00:03<00:01,  1.97it/s]\u001b[A\u001b[A\u001b[A"
     ]
    },
    {
     "name": "stdout",
     "output_type": "stream",
     "text": [
      "params: T_max=1, r=0.8, termination_condition=10, halting_condition=1\n"
     ]
    },
    {
     "name": "stderr",
     "output_type": "stream",
     "text": [
      "\n",
      "\n",
      "\n",
      " 89%|████████▉ | 8/9 [00:04<00:00,  2.00it/s]\u001b[A\u001b[A\u001b[A"
     ]
    },
    {
     "name": "stdout",
     "output_type": "stream",
     "text": [
      "params: T_max=1, r=0.9, termination_condition=10, halting_condition=1\n"
     ]
    },
    {
     "name": "stderr",
     "output_type": "stream",
     "text": [
      "\n",
      "\n",
      "\n",
      "100%|██████████| 9/9 [00:04<00:00,  1.91it/s]\u001b[A\u001b[A\u001b[A\n",
      "\n",
      "\n",
      " 20%|██        | 1/5 [00:04<00:18,  4.71s/it]\u001b[A\u001b[A\n",
      "\n",
      "\n",
      "  0%|          | 0/9 [00:00<?, ?it/s]\u001b[A\u001b[A\u001b[A"
     ]
    },
    {
     "name": "stdout",
     "output_type": "stream",
     "text": [
      "params: T_max=10, r=0.1, termination_condition=10, halting_condition=1\n"
     ]
    },
    {
     "name": "stderr",
     "output_type": "stream",
     "text": [
      "\n",
      "\n",
      "\n",
      " 11%|█         | 1/9 [00:00<00:04,  1.95it/s]\u001b[A\u001b[A\u001b[A"
     ]
    },
    {
     "name": "stdout",
     "output_type": "stream",
     "text": [
      "params: T_max=10, r=0.2, termination_condition=10, halting_condition=1\n"
     ]
    },
    {
     "name": "stderr",
     "output_type": "stream",
     "text": [
      "\n",
      "\n",
      "\n",
      " 22%|██▏       | 2/9 [00:01<00:03,  1.99it/s]\u001b[A\u001b[A\u001b[A"
     ]
    },
    {
     "name": "stdout",
     "output_type": "stream",
     "text": [
      "params: T_max=10, r=0.3, termination_condition=10, halting_condition=1\n"
     ]
    },
    {
     "name": "stderr",
     "output_type": "stream",
     "text": [
      "\n",
      "\n",
      "\n",
      " 33%|███▎      | 3/9 [00:01<00:02,  2.08it/s]\u001b[A\u001b[A\u001b[A"
     ]
    },
    {
     "name": "stdout",
     "output_type": "stream",
     "text": [
      "params: T_max=10, r=0.4, termination_condition=10, halting_condition=1\n"
     ]
    },
    {
     "name": "stderr",
     "output_type": "stream",
     "text": [
      "\n",
      "\n",
      "\n",
      " 44%|████▍     | 4/9 [00:02<00:02,  1.96it/s]\u001b[A\u001b[A\u001b[A"
     ]
    },
    {
     "name": "stdout",
     "output_type": "stream",
     "text": [
      "params: T_max=10, r=0.5, termination_condition=10, halting_condition=1\n"
     ]
    },
    {
     "name": "stderr",
     "output_type": "stream",
     "text": [
      "\n",
      "\n",
      "\n",
      " 56%|█████▌    | 5/9 [00:02<00:02,  1.86it/s]\u001b[A\u001b[A\u001b[A"
     ]
    },
    {
     "name": "stdout",
     "output_type": "stream",
     "text": [
      "params: T_max=10, r=0.6, termination_condition=10, halting_condition=1\n"
     ]
    },
    {
     "name": "stderr",
     "output_type": "stream",
     "text": [
      "\n",
      "\n",
      "\n",
      " 67%|██████▋   | 6/9 [00:03<00:01,  1.76it/s]\u001b[A\u001b[A\u001b[A"
     ]
    },
    {
     "name": "stdout",
     "output_type": "stream",
     "text": [
      "params: T_max=10, r=0.7, termination_condition=10, halting_condition=1\n"
     ]
    },
    {
     "name": "stderr",
     "output_type": "stream",
     "text": [
      "\n",
      "\n",
      "\n",
      " 78%|███████▊  | 7/9 [00:03<00:01,  1.70it/s]\u001b[A\u001b[A\u001b[A"
     ]
    },
    {
     "name": "stdout",
     "output_type": "stream",
     "text": [
      "params: T_max=10, r=0.8, termination_condition=10, halting_condition=1\n"
     ]
    },
    {
     "name": "stderr",
     "output_type": "stream",
     "text": [
      "\n",
      "\n",
      "\n",
      " 89%|████████▉ | 8/9 [00:04<00:00,  1.74it/s]\u001b[A\u001b[A\u001b[A"
     ]
    },
    {
     "name": "stdout",
     "output_type": "stream",
     "text": [
      "params: T_max=10, r=0.9, termination_condition=10, halting_condition=1\n"
     ]
    },
    {
     "name": "stderr",
     "output_type": "stream",
     "text": [
      "\n",
      "\n",
      "\n",
      "100%|██████████| 9/9 [00:04<00:00,  1.82it/s]\u001b[A\u001b[A\u001b[A\n",
      "\n",
      "\n",
      " 40%|████      | 2/5 [00:09<00:14,  4.87s/it]\u001b[A\u001b[A\n",
      "\n",
      "\n",
      "  0%|          | 0/9 [00:00<?, ?it/s]\u001b[A\u001b[A\u001b[A"
     ]
    }
   ],
   "source": [
    "\n",
    "solutions_with_params = []\n",
    "for termination_condition in [10**x for x in range(4)]:\n",
    "    for halting_condition in [10**x for x in range(4)]:\n",
    "        for T_max in [10**x for x in range(5)]:\n",
    "            for r in (range(10, 100, 10):\n",
    "                print(f'params: T_max={T_max}, r={r/100}, termination_condition={termination_condition}, halting_condition={halting_condition}')\n",
    "                solutions = test_SA(T_max, r/100, termination_condition, halting_condition, False)\n",
    "                solutions_with_params.append([\n",
    "                    (T_max, r, termination_condition, halting_condition),\n",
    "                    solutions\n",
    "                    ])"
   ]
  },
  {
   "cell_type": "markdown",
   "metadata": {},
   "source": [
    "Good params for solutions:\n",
    "- rws_instances/Example4.txt\n",
    "    - params: T_max=1, r=0.1, termination_condition=100, halting_condition=1\n",
    "\n",
    "\n",
    "\n",
    "\n"
   ]
  }
 ],
 "metadata": {
  "kernelspec": {
   "display_name": "Python 3",
   "language": "python",
   "name": "python3"
  },
  "language_info": {
   "codemirror_mode": {
    "name": "ipython",
    "version": 3
   },
   "file_extension": ".py",
   "mimetype": "text/x-python",
   "name": "python",
   "nbconvert_exporter": "python",
   "pygments_lexer": "ipython3",
   "version": "3.8.5"
  }
 },
 "nbformat": 4,
 "nbformat_minor": 4
}
