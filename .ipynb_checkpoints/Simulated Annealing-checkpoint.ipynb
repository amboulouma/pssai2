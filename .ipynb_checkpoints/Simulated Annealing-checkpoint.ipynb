{
 "cells": [
  {
   "cell_type": "code",
   "execution_count": 1,
   "metadata": {},
   "outputs": [],
   "source": [
    "import random\n",
    "from pprint import pprint\n",
    "\n",
    "import numpy as np\n",
    "\n",
    "from utils import read_data\n",
    "from constants import FILENAME_EXAMPLE_1"
   ]
  },
  {
   "cell_type": "code",
   "execution_count": 2,
   "metadata": {},
   "outputs": [],
   "source": [
    "input_data = read_data(FILENAME_EXAMPLE_1)\n",
    "\n",
    "days    = input_data['length_of_schedule']\n",
    "ne      = input_data['number_of_employees']\n",
    "ns      = input_data['number_of_shifts']\n",
    "demand  = input_data['temporal_requirements_matrix']\n",
    "sn      = input_data['shift_name']\n",
    "ss      = input_data['start_shift']\n",
    "ls      = input_data['length_shift']\n",
    "min_ls  = input_data['min_length_of_blocks']\n",
    "max_ls  = input_data['max_length_of_blocks']\n",
    "min_do  = input_data['min_days_off']\n",
    "max_do  = input_data['max_days_off']\n",
    "min_lw  = input_data['min_length_work_blocks']\n",
    "max_lw  = input_data['max_length_work_blocks']\n",
    "nf2     = input_data['nr_sequences_of_length_2']\n",
    "nf3     = input_data['nr_sequences_of_length_3']\n",
    "f2      = input_data['not_allowed_shift_sequences_2']\n",
    "f3      = input_data['not_allowed_shift_sequences_3']"
   ]
  },
  {
   "cell_type": "code",
   "execution_count": 3,
   "metadata": {
    "scrolled": true
   },
   "outputs": [
    {
     "data": {
      "text/plain": [
       "{'length_of_schedule': 7,\n",
       " 'number_of_employees': 9,\n",
       " 'number_of_shifts': 3,\n",
       " 'temporal_requirements_matrix': [[2, 2, 2, 2, 2, 2, 2],\n",
       "  [2, 2, 2, 3, 3, 3, 2],\n",
       "  [2, 2, 2, 2, 2, 2, 2]],\n",
       " 'shift_name': ['D', 'A', 'N'],\n",
       " 'start_shift': [[3, 6, 0], [8, 4, 0], [1, 3, 2, 0]],\n",
       " 'length_shift': [[4, 8, 0], [4, 8, 0], [4, 8, 0]],\n",
       " 'min_length_of_blocks': [2, 2, 2],\n",
       " 'max_length_of_blocks': [7, 6, 4],\n",
       " 'min_days_off': 2,\n",
       " 'max_days_off': 4,\n",
       " 'min_length_work_blocks': 4,\n",
       " 'max_length_work_blocks': 7,\n",
       " 'nr_sequences_of_length_2': 3,\n",
       " 'nr_sequences_of_length_3': 0,\n",
       " 'not_allowed_shift_sequences_2': [['N', 'D'], ['N', 'A'], ['A', 'D']],\n",
       " 'not_allowed_shift_sequences_3': []}"
      ]
     },
     "execution_count": 3,
     "metadata": {},
     "output_type": "execute_result"
    }
   ],
   "source": [
    "input_data"
   ]
  },
  {
   "cell_type": "code",
   "execution_count": 4,
   "metadata": {},
   "outputs": [],
   "source": [
    "shifts = ns + 1\n",
    "day, afternoon, night, dayoff = 1, 2, 3, 4\n",
    "code = sn + ['-']"
   ]
  },
  {
   "cell_type": "code",
   "execution_count": 5,
   "metadata": {},
   "outputs": [
    {
     "data": {
      "text/plain": [
       "['D', 'A', 'N', '-']"
      ]
     },
     "execution_count": 5,
     "metadata": {},
     "output_type": "execute_result"
    }
   ],
   "source": [
    "code"
   ]
  },
  {
   "cell_type": "code",
   "execution_count": 6,
   "metadata": {},
   "outputs": [],
   "source": [
    "def calculate_result(input_data):\n",
    "    return [[random.choice(code) for d in range(days)] for e in range(ne)]"
   ]
  },
  {
   "cell_type": "code",
   "execution_count": 7,
   "metadata": {},
   "outputs": [
    {
     "data": {
      "text/plain": [
       "['D', 'A', 'N', '-']"
      ]
     },
     "execution_count": 7,
     "metadata": {},
     "output_type": "execute_result"
    }
   ],
   "source": [
    "code"
   ]
  },
  {
   "cell_type": "code",
   "execution_count": 8,
   "metadata": {},
   "outputs": [
    {
     "data": {
      "text/plain": [
       "[['A', 'N', 'N', 'A', 'D', 'N', 'A'],\n",
       " ['N', 'N', 'A', 'A', '-', '-', 'A'],\n",
       " ['-', '-', 'A', 'N', '-', 'D', 'N'],\n",
       " ['A', '-', 'D', 'D', 'D', 'N', 'A'],\n",
       " ['-', 'N', 'A', 'D', 'N', '-', 'N'],\n",
       " ['D', 'N', 'N', 'N', '-', 'D', 'A'],\n",
       " ['A', 'N', 'A', 'N', 'A', 'D', '-'],\n",
       " ['-', 'D', '-', 'N', 'A', 'D', '-'],\n",
       " ['N', 'A', '-', 'N', '-', 'A', '-']]"
      ]
     },
     "execution_count": 8,
     "metadata": {},
     "output_type": "execute_result"
    }
   ],
   "source": [
    "calculate_result(input_data)"
   ]
  },
  {
   "cell_type": "code",
   "execution_count": 9,
   "metadata": {},
   "outputs": [
    {
     "data": {
      "text/plain": [
       "['D', 'A', 'N', '-']"
      ]
     },
     "execution_count": 9,
     "metadata": {},
     "output_type": "execute_result"
    }
   ],
   "source": [
    "code"
   ]
  },
  {
   "cell_type": "code",
   "execution_count": 10,
   "metadata": {},
   "outputs": [],
   "source": [
    "def demand_constraint(result):\n",
    "    #sum(e in EMPLOYEE)(x[e,d] == day) == demand[1, d] /\\\n",
    "    #sum(e in EMPLOYEE)(x[e,d] == afternoon) == demand[2, d] /\\\n",
    "    #if length(minShift) == 3 then sum(e in EMPLOYEE)(x[e,d] == night) == demand[3, d] endif\n",
    "    \n",
    "    for d in range(days):\n",
    "        sum_day, sum_afternoon, sum_night = 0, 0, 0\n",
    "        for e in range(ne):\n",
    "            if result[e][d] == 'D': sum_day += 1\n",
    "            elif result[e][d] == 'A': sum_afternoon += 1\n",
    "            elif result[e][d] == 'N': sum_night += 1\n",
    "        \n",
    "        if sum_day >= demand[0][d] and sum_afternoon >= demand[1][d] and sum_night >= demand[2][d]:\n",
    "            pass\n",
    "        else:\n",
    "            return False\n",
    "    return True"
   ]
  },
  {
   "cell_type": "code",
   "execution_count": 11,
   "metadata": {},
   "outputs": [],
   "source": [
    "def update_demand_constraint(result):\n",
    "    updated_result = result\n",
    "    for d in range(days):\n",
    "        sum_day, sum_afternoon, sum_night = 0, 0, 0\n",
    "        for e in range(ne):\n",
    "            if updated_result[e][d] == 'D': sum_day += 1\n",
    "            elif updated_result[e][d] == 'A': sum_afternoon += 1\n",
    "            elif updated_result[e][d] == 'N': sum_night += 1\n",
    "\n",
    "        if sum_day >= demand[0][d]:\n",
    "            pass\n",
    "        else:\n",
    "            updated_result[random.randint(0, ne-1)][d] = 'D'\n",
    "        if sum_afternoon >= demand[1][d]:\n",
    "            pass\n",
    "        else:\n",
    "            updated_result[random.randint(0, ne-1)][d] = 'A'\n",
    "\n",
    "        if sum_night >= demand[2][d]:\n",
    "            pass\n",
    "        else:\n",
    "            updated_result[random.randint(0, ne-1)][d] = 'N'\n",
    "    return updated_result"
   ]
  },
  {
   "cell_type": "code",
   "execution_count": 12,
   "metadata": {},
   "outputs": [],
   "source": [
    "#day off constraint\n",
    "def day_off_constraint(result):\n",
    "    amount=0\n",
    "    for ii in range(len(result)):\n",
    "        for i in range(7):\n",
    "            if result[ii][i]==4:\n",
    "                amount+=1\n",
    "    if min_do<=amount<=max_do:\n",
    "        return True\n",
    "    else:\n",
    "        return False"
   ]
  },
  {
   "cell_type": "code",
   "execution_count": 13,
   "metadata": {},
   "outputs": [],
   "source": [
    "#working days in a row constraint\n",
    "def length_work_blocks_constraint(result):\n",
    "    amount=0\n",
    "    for ii in range(len(result)):\n",
    "        for i in range(6):\n",
    "            if result[ii][i]!=4 and result[ii][i+1]!=4:\n",
    "                amount+=1\n",
    "            else:\n",
    "                amount==0\n",
    "    if min_lw<=amount<=max_lw:\n",
    "        return True\n",
    "    else:\n",
    "        return False"
   ]
  },
  {
   "cell_type": "code",
   "execution_count": 14,
   "metadata": {},
   "outputs": [],
   "source": [
    "#forbidden shifts constraint\n",
    "def forbidden_constraint2(result):\n",
    "    if f2!=[]:\n",
    "        for ii in range(len(result)):\n",
    "            for i in range(7):\n",
    "                if result[ii][i]==3 and i<7:\n",
    "                    result[ii][i+1]!=1 or result[i+1]!=2\n",
    "                elif result[ii][i]==2 and i<7:\n",
    "                    result[ii][i+1]!=1\n",
    "        return True\n",
    "    else:\n",
    "        return False"
   ]
  },
  {
   "cell_type": "code",
   "execution_count": 15,
   "metadata": {},
   "outputs": [],
   "source": [
    "def forbidden_constraint3(result):\n",
    "    if f3!=[]:\n",
    "        for ii in range(len(result)):\n",
    "            for i in range(7):\n",
    "                if result[ii][i]==3 and result[ii][i+1]==4 and i<6:\n",
    "                    result[ii][i+2]!=3 or result[ii][i+2]!=1 or result[ii][i+2]!=2\n",
    "                elif result[ii][i]==2 and result[ii][i+1]==4 and i<6:\n",
    "                    result[ii][i+2]!=1\n",
    "        return True\n",
    "    else:\n",
    "        return False"
   ]
  },
  {
   "cell_type": "code",
   "execution_count": 16,
   "metadata": {
    "scrolled": false
   },
   "outputs": [
    {
     "data": {
      "text/plain": [
       "[['A', 'A', '-', 'A', '-', '-', 'N'],\n",
       " ['-', '-', 'D', 'N', 'A', 'A', 'A'],\n",
       " ['-', 'N', 'D', 'A', 'N', '-', 'N'],\n",
       " ['-', '-', 'D', '-', 'A', 'N', '-'],\n",
       " ['D', 'D', 'D', 'N', 'D', '-', 'A'],\n",
       " ['N', 'N', 'A', '-', 'N', '-', 'D'],\n",
       " ['N', 'D', 'N', 'N', 'D', 'N', 'A'],\n",
       " ['A', 'N', '-', 'N', 'A', 'N', 'A'],\n",
       " ['A', '-', 'A', '-', '-', 'A', '-']]"
      ]
     },
     "execution_count": 16,
     "metadata": {},
     "output_type": "execute_result"
    }
   ],
   "source": [
    "calculate_result(input_data)"
   ]
  },
  {
   "cell_type": "code",
   "execution_count": 17,
   "metadata": {},
   "outputs": [],
   "source": [
    "fake_data = [\n",
    "['D', 'D', 'D', 'D', 'D', 'D', 'D'],\n",
    "['D', 'D', 'D', 'D', 'D', 'D', 'D'],\n",
    "['A', 'A', 'A', 'A', 'A', 'A', 'A'],\n",
    "['A', 'A', 'A', 'A', 'A', 'A', 'A'],\n",
    "['A', 'A', 'A', 'A', 'A', 'A', 'A'],\n",
    "['-', '-', '-', '-', '-', '-', '-'],\n",
    "['-', '-', '-', '-', '-', '-', '-'],\n",
    "['N', 'N', 'N', 'N', 'N', 'N', 'N'],\n",
    "['N', 'N', 'N', 'N', 'N', 'N', 'N']]"
   ]
  },
  {
   "cell_type": "code",
   "execution_count": 18,
   "metadata": {},
   "outputs": [
    {
     "name": "stdout",
     "output_type": "stream",
     "text": [
      "[[2, 2, 2, 2, 2, 2, 2], [2, 2, 2, 3, 3, 3, 2], [2, 2, 2, 2, 2, 2, 2]]\n"
     ]
    }
   ],
   "source": [
    "pprint(demand)"
   ]
  },
  {
   "cell_type": "code",
   "execution_count": 19,
   "metadata": {},
   "outputs": [
    {
     "data": {
      "text/plain": [
       "[['D', 'D', 'D', 'D', 'D', 'D', 'D'],\n",
       " ['D', 'D', 'D', 'D', 'D', 'D', 'D'],\n",
       " ['A', 'A', 'A', 'A', 'A', 'A', 'A'],\n",
       " ['A', 'A', 'A', 'A', 'A', 'A', 'A'],\n",
       " ['A', 'A', 'A', 'A', 'A', 'A', 'A'],\n",
       " ['-', '-', '-', '-', '-', '-', '-'],\n",
       " ['-', '-', '-', '-', '-', '-', '-'],\n",
       " ['N', 'N', 'N', 'N', 'N', 'N', 'N'],\n",
       " ['N', 'N', 'N', 'N', 'N', 'N', 'N']]"
      ]
     },
     "execution_count": 19,
     "metadata": {},
     "output_type": "execute_result"
    }
   ],
   "source": [
    "fake_data"
   ]
  },
  {
   "cell_type": "code",
   "execution_count": 20,
   "metadata": {
    "scrolled": true
   },
   "outputs": [
    {
     "name": "stdout",
     "output_type": "stream",
     "text": [
      "[['D', 'D', 'D', 'D', 'D', 'D', 'D'],\n",
      " ['D', 'D', 'D', 'D', 'D', 'D', 'D'],\n",
      " ['A', 'A', 'A', 'A', 'A', 'A', 'A'],\n",
      " ['A', 'A', 'A', 'A', 'A', 'A', 'A'],\n",
      " ['A', 'A', 'A', 'A', 'A', 'A', 'A'],\n",
      " ['-', '-', '-', '-', '-', '-', '-'],\n",
      " ['-', '-', '-', '-', '-', '-', '-'],\n",
      " ['N', 'N', 'N', 'N', 'N', 'N', 'N'],\n",
      " ['N', 'N', 'N', 'N', 'N', 'N', 'N']]\n",
      "True\n",
      "False\n",
      "False\n",
      "True\n",
      "False\n"
     ]
    }
   ],
   "source": [
    "#result = calculate_result(input_data)\n",
    "result = fake_data\n",
    "pprint(result)\n",
    "print(demand_constraint(result))\n",
    "print(day_off_constraint(result))\n",
    "print(length_work_blocks_constraint(result))\n",
    "print(forbidden_constraint2(result))\n",
    "print(forbidden_constraint3(result))"
   ]
  },
  {
   "cell_type": "code",
   "execution_count": 21,
   "metadata": {},
   "outputs": [],
   "source": [
    "result = calculate_result(input_data)"
   ]
  },
  {
   "cell_type": "code",
   "execution_count": 22,
   "metadata": {},
   "outputs": [
    {
     "data": {
      "text/plain": [
       "False"
      ]
     },
     "execution_count": 22,
     "metadata": {},
     "output_type": "execute_result"
    }
   ],
   "source": [
    "demand_constraint(result)"
   ]
  },
  {
   "cell_type": "code",
   "execution_count": 26,
   "metadata": {},
   "outputs": [],
   "source": [
    "def solve_problem(input_data):\n",
    "    result = calculate_result(input_data)\n",
    "    while True:\n",
    "        if demand_constraint(result):\n",
    "            update_result = update_demand_constraint(result)\n",
    "            break\n",
    "        else:\n",
    "            result = update_demand_constraint(result)\n",
    "    return result"
   ]
  },
  {
   "cell_type": "code",
   "execution_count": 28,
   "metadata": {},
   "outputs": [
    {
     "data": {
      "text/plain": [
       "[['-', 'N', 'D', '-', '-', 'D', 'D'],\n",
       " ['D', '-', 'N', 'D', 'D', 'N', 'N'],\n",
       " ['-', '-', 'D', 'N', 'D', 'N', 'A'],\n",
       " ['N', 'D', 'N', 'A', '-', 'D', 'N'],\n",
       " ['D', 'N', 'N', 'A', 'N', 'A', '-'],\n",
       " ['A', 'D', '-', 'N', 'A', '-', 'A'],\n",
       " ['N', 'A', 'N', 'A', 'A', '-', 'D'],\n",
       " ['N', 'A', 'A', '-', 'N', 'A', '-'],\n",
       " ['A', 'A', 'A', 'D', 'A', 'A', 'D']]"
      ]
     },
     "execution_count": 28,
     "metadata": {},
     "output_type": "execute_result"
    }
   ],
   "source": [
    "solution = solve_problem(input_data)\n",
    "solution"
   ]
  },
  {
   "cell_type": "code",
   "execution_count": 29,
   "metadata": {},
   "outputs": [
    {
     "data": {
      "text/plain": [
       "True"
      ]
     },
     "execution_count": 29,
     "metadata": {},
     "output_type": "execute_result"
    }
   ],
   "source": [
    "demand_constraint(solution)"
   ]
  }
 ],
 "metadata": {
  "kernelspec": {
   "display_name": "Python 3",
   "language": "python",
   "name": "python3"
  },
  "language_info": {
   "codemirror_mode": {
    "name": "ipython",
    "version": 3
   },
   "file_extension": ".py",
   "mimetype": "text/x-python",
   "name": "python",
   "nbconvert_exporter": "python",
   "pygments_lexer": "ipython3",
   "version": "3.8.5"
  }
 },
 "nbformat": 4,
 "nbformat_minor": 4
}
