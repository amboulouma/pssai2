{
 "cells": [
  {
   "cell_type": "code",
   "execution_count": 1,
   "metadata": {},
   "outputs": [],
   "source": [
    "import random\n",
    "from pprint import pprint\n",
    "\n",
    "import numpy as np\n",
    "\n",
    "from utils import read_data\n",
    "from constants import FILENAME_EXAMPLE_1, FILENAME_EXAMPLE_4"
   ]
  },
  {
   "cell_type": "code",
   "execution_count": 2,
   "metadata": {},
   "outputs": [],
   "source": [
    "#input_data = read_data(FILENAME_EXAMPLE_1)\n",
    "input_data = read_data(FILENAME_EXAMPLE_4)\n",
    "\n",
    "days    = input_data['length_of_schedule']\n",
    "ne      = input_data['number_of_employees']\n",
    "ns      = input_data['number_of_shifts']\n",
    "demand  = input_data['temporal_requirements_matrix']\n",
    "sn      = input_data['shift_name']\n",
    "ss      = input_data['start_shift']\n",
    "ls      = input_data['length_shift']\n",
    "min_ls  = input_data['min_length_of_blocks']\n",
    "max_ls  = input_data['max_length_of_blocks']\n",
    "min_do  = input_data['min_days_off']\n",
    "max_do  = input_data['max_days_off']\n",
    "min_lw  = input_data['min_length_work_blocks']\n",
    "max_lw  = input_data['max_length_work_blocks']\n",
    "nf2     = input_data['nr_sequences_of_length_2']\n",
    "nf3     = input_data['nr_sequences_of_length_3']\n",
    "f2      = input_data['not_allowed_shift_sequences_2']\n",
    "f3      = input_data['not_allowed_shift_sequences_3']"
   ]
  },
  {
   "cell_type": "code",
   "execution_count": 3,
   "metadata": {},
   "outputs": [],
   "source": [
    "shifts = ns + 1\n",
    "day, afternoon, night, dayoff = 1, 2, 3, 4\n",
    "code = sn + ['-']"
   ]
  },
  {
   "cell_type": "code",
   "execution_count": 4,
   "metadata": {},
   "outputs": [],
   "source": [
    "def calculate_result(input_data):\n",
    "    return [[random.choice(code) for d in range(days)] for e in range(ne)]"
   ]
  },
  {
   "cell_type": "code",
   "execution_count": 5,
   "metadata": {},
   "outputs": [],
   "source": [
    "def demand_constraint(result):\n",
    "    for e in range(ne):\n",
    "        for d in range(days):\n",
    "            sum_day, sum_afternoon, sum_night = 0, 0, 0\n",
    "            if result[e][d] == 'D': sum_day += 1\n",
    "            elif result[e][d] == 'A': sum_afternoon += 1\n",
    "            elif result[e][d] == 'N': sum_night += 1        \n",
    "        if sum_day >= demand[0][d] and sum_afternoon >= demand[1][d] and sum_night >= demand[2][d]:\n",
    "            pass\n",
    "        else:\n",
    "            return False\n",
    "    return True"
   ]
  },
  {
   "cell_type": "code",
   "execution_count": 6,
   "metadata": {},
   "outputs": [],
   "source": [
    "def update_demand_constraint(result):\n",
    "    updated_result = result\n",
    "    for d in range(days):\n",
    "        sum_day, sum_afternoon, sum_night = 0, 0, 0\n",
    "        for e in range(ne):\n",
    "            if updated_result[e][d] == 'D': sum_day += 1\n",
    "            elif updated_result[e][d] == 'A': sum_afternoon += 1\n",
    "            elif updated_result[e][d] == 'N': sum_night += 1\n",
    "\n",
    "        if sum_day >= demand[0][d]:\n",
    "            pass\n",
    "        else:\n",
    "            updated_result[random.randint(0, ne-1)][d] = 'D'\n",
    "        if sum_afternoon >= demand[1][d]:\n",
    "            pass\n",
    "        else:\n",
    "            updated_result[random.randint(0, ne-1)][d] = 'A'\n",
    "\n",
    "        if sum_night >= demand[2][d]:\n",
    "            pass\n",
    "        else:\n",
    "            updated_result[random.randint(0, ne-1)][d] = 'N'\n",
    "    return updated_result"
   ]
  },
  {
   "cell_type": "code",
   "execution_count": 7,
   "metadata": {},
   "outputs": [],
   "source": [
    "#day off constraint\n",
    "def day_off_constraint(result):\n",
    "    for e in range(ne):\n",
    "        count_dayoff = 0\n",
    "        for d in range(days):\n",
    "            if result[e][d] == '-': count_dayoff += 1\n",
    "        if min_do <= count_dayoff <= max_do: pass\n",
    "        else: return False\n",
    "    return True"
   ]
  },
  {
   "cell_type": "code",
   "execution_count": 8,
   "metadata": {},
   "outputs": [],
   "source": [
    "#working days in a row constraint\n",
    "def length_work_blocks_constraint(result):\n",
    "    for e in range(ne):\n",
    "        count_consecutive = 0\n",
    "        min_flag, max_flag = False, False\n",
    "        for d in range(days - 1):\n",
    "            if result[e][d] != '-' and result[e][d+1] != '-': \n",
    "                count_consecutive += 1\n",
    "                if count_consecutive >= min_lw - 1:\n",
    "                    min_flag = True\n",
    "                    if count_consecutive <= max_lw - 1:\n",
    "                        max_flag = True\n",
    "            else:  count_consecutive = 0\n",
    "        if min_flag and max_flag: pass\n",
    "        else: return False\n",
    "    return True"
   ]
  },
  {
   "cell_type": "code",
   "execution_count": 9,
   "metadata": {},
   "outputs": [],
   "source": [
    "#forbidden shifts constraint\n",
    "def forbidden_constraint2(result):\n",
    "    if f2 == []: return True\n",
    "    if f2 != []:\n",
    "        for e in range(ne):\n",
    "            for d in range(days - 1):\n",
    "                for f in f2:\n",
    "                    if result[e][d] == f[0] and result[e][d+1] == f[1]: return False\n",
    "        return True"
   ]
  },
  {
   "cell_type": "code",
   "execution_count": 10,
   "metadata": {},
   "outputs": [],
   "source": [
    "def forbidden_constraint3(result):\n",
    "    if f3 == []: return True\n",
    "    if f3 != []:\n",
    "        for e in range(ne):\n",
    "            for d in range(days - 2):\n",
    "                for f in f3:\n",
    "                    if result[e][d] == f[0] and result[e][d+1] == f[1] \\\n",
    "                                            and result[e][d+2] == f[2]: return False\n",
    "        return True"
   ]
  },
  {
   "cell_type": "code",
   "execution_count": 12,
   "metadata": {
    "scrolled": true
   },
   "outputs": [
    {
     "name": "stdout",
     "output_type": "stream",
     "text": [
      "[['-', 'A', 'D', 'A', 'N', '-', 'D'],\n",
      " ['-', 'N', 'N', 'A', '-', 'D', 'A'],\n",
      " ['A', 'A', 'A', 'D', '-', 'D', 'D'],\n",
      " ['N', '-', 'A', 'A', '-', '-', 'N'],\n",
      " ['D', 'D', '-', 'N', 'D', '-', '-'],\n",
      " ['N', 'N', 'A', 'A', 'D', 'A', '-'],\n",
      " ['A', '-', '-', '-', 'A', 'N', '-'],\n",
      " ['-', '-', 'A', 'D', 'A', 'A', 'A'],\n",
      " ['-', '-', 'N', 'D', 'A', 'D', 'A'],\n",
      " ['D', 'N', '-', 'N', 'N', '-', 'D'],\n",
      " ['-', 'N', 'A', 'D', 'A', '-', 'N'],\n",
      " ['N', '-', 'A', 'D', '-', 'D', 'A'],\n",
      " ['A', 'A', 'D', 'D', 'A', 'A', 'A']]\n",
      "True\n",
      "False\n",
      "False\n",
      "False\n",
      "False\n"
     ]
    }
   ],
   "source": [
    "result = calculate_result(input_data)\n",
    "#result = fake_data\n",
    "pprint(result)\n",
    "print(demand_constraint(result))\n",
    "print(day_off_constraint(result))\n",
    "print(length_work_blocks_constraint(result))\n",
    "print(forbidden_constraint2(result))\n",
    "print(forbidden_constraint3(result))"
   ]
  },
  {
   "cell_type": "code",
   "execution_count": null,
   "metadata": {},
   "outputs": [],
   "source": [
    "def solve_problem(input_data):\n",
    "    result = calculate_result(input_data)\n",
    "    while True:\n",
    "        if demand_constraint(result) or day_off_constraint(result):\n",
    "            break\n",
    "        else:\n",
    "            result = calculate_result(input_data)\n",
    "            if not demand_constraint(result):\n",
    "                result = update_demand_constraint(result)\n",
    "            # update day_off constraint\n",
    "    return result"
   ]
  },
  {
   "cell_type": "code",
   "execution_count": null,
   "metadata": {},
   "outputs": [],
   "source": [
    "solution = solve_problem(input_data)\n",
    "solution"
   ]
  }
 ],
 "metadata": {
  "kernelspec": {
   "display_name": "Python 3",
   "language": "python",
   "name": "python3"
  },
  "language_info": {
   "codemirror_mode": {
    "name": "ipython",
    "version": 3
   },
   "file_extension": ".py",
   "mimetype": "text/x-python",
   "name": "python",
   "nbconvert_exporter": "python",
   "pygments_lexer": "ipython3",
   "version": "3.8.5"
  }
 },
 "nbformat": 4,
 "nbformat_minor": 4
}
