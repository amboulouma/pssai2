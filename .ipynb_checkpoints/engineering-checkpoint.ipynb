{
 "cells": [
  {
   "cell_type": "code",
   "execution_count": 1,
   "metadata": {},
   "outputs": [],
   "source": [
    "from constraints import *\n",
    "from simulated_annealing import *"
   ]
  },
  {
   "cell_type": "code",
   "execution_count": 2,
   "metadata": {},
   "outputs": [
    {
     "data": {
      "text/plain": [
       "[['D', 'A', 'D', '-', 'N', 'N', '-'],\n",
       " ['D', 'D', '-', '-', 'D', 'A', 'D'],\n",
       " ['D', 'A', 'A', 'D', 'N', 'D', 'D'],\n",
       " ['A', 'N', 'N', 'N', 'N', 'N', 'A'],\n",
       " ['D', 'A', 'N', 'N', 'A', 'N', 'D'],\n",
       " ['D', 'D', '-', 'N', 'A', 'A', 'N'],\n",
       " ['A', 'A', 'A', 'D', 'D', 'N', 'A'],\n",
       " ['D', 'N', 'N', 'A', 'D', 'N', '-'],\n",
       " ['N', 'N', 'N', 'D', 'D', 'A', '-']]"
      ]
     },
     "execution_count": 2,
     "metadata": {},
     "output_type": "execute_result"
    }
   ],
   "source": [
    "input_data = read_data(get_examples()[0])\n",
    "\n",
    "solution_1 = generate_random_solution(input_data)\n",
    "solution_1"
   ]
  },
  {
   "cell_type": "code",
   "execution_count": 3,
   "metadata": {},
   "outputs": [
    {
     "data": {
      "text/plain": [
       "[['N', 'A', 'D', 'A', 'A', 'D', 'N'],\n",
       " ['D', 'D', 'D', 'A', 'D', 'A', 'D'],\n",
       " ['D', 'A', 'A', 'D', 'N', 'D', 'D'],\n",
       " ['A', 'N', 'N', 'N', 'N', 'N', 'A'],\n",
       " ['D', 'A', 'N', 'N', 'A', 'N', 'D'],\n",
       " ['D', 'D', '-', 'N', 'A', 'A', 'N'],\n",
       " ['A', 'A', 'A', 'D', 'D', 'N', 'A'],\n",
       " ['D', 'N', 'N', 'A', 'D', 'N', '-'],\n",
       " ['N', 'N', 'N', 'D', 'D', 'A', '-']]"
      ]
     },
     "execution_count": 3,
     "metadata": {},
     "output_type": "execute_result"
    }
   ],
   "source": [
    "solution_2 = move_all_demand_constraint(solution_1, input_data)\n",
    "solution_2"
   ]
  },
  {
   "cell_type": "code",
   "execution_count": 4,
   "metadata": {},
   "outputs": [
    {
     "data": {
      "text/plain": [
       "[[5, 2, 2, 3, 4, 2, 3], [2, 4, 2, 3, 3, 3, 2], [2, 3, 4, 3, 2, 4, 2]]"
      ]
     },
     "execution_count": 4,
     "metadata": {},
     "output_type": "execute_result"
    }
   ],
   "source": [
    "solution_to_demand(solution_2, 3)"
   ]
  },
  {
   "cell_type": "code",
   "execution_count": 5,
   "metadata": {
    "scrolled": true
   },
   "outputs": [
    {
     "data": {
      "text/plain": [
       "True"
      ]
     },
     "execution_count": 5,
     "metadata": {},
     "output_type": "execute_result"
    }
   ],
   "source": [
    "demand_constraint(solution_2, input_data)"
   ]
  },
  {
   "cell_type": "code",
   "execution_count": null,
   "metadata": {},
   "outputs": [],
   "source": [
    "def calibrate_parameter_per_example(example):\n",
    "    for termination_condition in [10**x for x in range(1, 4)]:\n",
    "        for halting_condition in [10**x for x in range(1, 4)]:\n",
    "            for T_max in [10**x for x in range(1, 5)]:\n",
    "                for r in range(10, 100, 10):\n",
    "                    print(f'params: T_max={T_max}, r={r/100}, termination_condition={termination_condition}, halting_condition={halting_condition}')\n",
    "                    params = T_max, r, termination_condition, halting_condition, True\n",
    "                    eval_function = eval_solution_4\n",
    "                    best_solution = test_SA_per_example(example, eval_function, *params)\n",
    "                    pprint(report_solution(best_solution, read_data(example)))"
   ]
  }
 ],
 "metadata": {
  "kernelspec": {
   "display_name": "Python 3",
   "language": "python",
   "name": "python3"
  },
  "language_info": {
   "codemirror_mode": {
    "name": "ipython",
    "version": 3
   },
   "file_extension": ".py",
   "mimetype": "text/x-python",
   "name": "python",
   "nbconvert_exporter": "python",
   "pygments_lexer": "ipython3",
   "version": "3.8.5"
  }
 },
 "nbformat": 4,
 "nbformat_minor": 4
}
