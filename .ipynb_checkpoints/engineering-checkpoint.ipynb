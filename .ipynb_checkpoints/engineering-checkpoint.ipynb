{
 "cells": [
  {
   "cell_type": "code",
   "execution_count": 1,
   "metadata": {},
   "outputs": [],
   "source": [
    "from all_functions import *\n",
    "from datetime import datetime"
   ]
  },
  {
   "cell_type": "code",
   "execution_count": 2,
   "metadata": {},
   "outputs": [
    {
     "data": {
      "text/plain": [
       "[['D', '-', 'N', 'D', '-', 'D', 'N'],\n",
       " ['-', 'A', 'A', 'D', '-', 'D', 'N'],\n",
       " ['A', 'D', '-', '-', '-', 'N', 'D'],\n",
       " ['N', 'A', '-', 'D', 'D', 'N', 'N'],\n",
       " ['N', 'A', 'A', '-', 'N', 'N', 'D'],\n",
       " ['D', 'N', '-', '-', 'A', 'D', 'A'],\n",
       " ['D', 'A', '-', '-', 'A', 'D', 'D'],\n",
       " ['A', 'A', '-', 'D', 'A', 'D', 'A'],\n",
       " ['D', 'D', 'N', '-', 'D', 'A', 'A']]"
      ]
     },
     "execution_count": 2,
     "metadata": {},
     "output_type": "execute_result"
    }
   ],
   "source": [
    "input_data = read_data(get_examples()[0])\n",
    "\n",
    "solution_1 = generate_random_solution(input_data)\n",
    "solution_1"
   ]
  },
  {
   "cell_type": "code",
   "execution_count": 3,
   "metadata": {},
   "outputs": [
    {
     "data": {
      "text/plain": [
       "[['D', 'N', 'N', 'A', 'N', 'A', 'N'],\n",
       " ['-', 'A', 'A', 'D', '-', 'D', 'N'],\n",
       " ['A', 'D', 'D', 'A', '-', 'A', 'D'],\n",
       " ['N', 'A', 'D', 'D', 'D', 'N', 'N'],\n",
       " ['N', 'A', 'A', 'A', 'N', 'N', 'D'],\n",
       " ['D', 'N', '-', 'N', 'A', 'D', 'A'],\n",
       " ['D', 'A', '-', 'N', 'A', 'D', 'D'],\n",
       " ['A', 'A', '-', 'D', 'A', 'D', 'A'],\n",
       " ['D', 'D', 'N', '-', 'D', 'A', 'A']]"
      ]
     },
     "execution_count": 3,
     "metadata": {},
     "output_type": "execute_result"
    }
   ],
   "source": [
    "solution_2 = move_all_demand_constraint(solution_1, input_data)\n",
    "solution_2"
   ]
  },
  {
   "cell_type": "code",
   "execution_count": 4,
   "metadata": {},
   "outputs": [
    {
     "data": {
      "text/plain": [
       "[[4, 2, 2, 3, 2, 4, 3], [2, 5, 2, 3, 3, 3, 3], [2, 2, 2, 2, 2, 2, 3]]"
      ]
     },
     "execution_count": 4,
     "metadata": {},
     "output_type": "execute_result"
    }
   ],
   "source": [
    "solution_to_demand(solution_2, 3)"
   ]
  },
  {
   "cell_type": "code",
   "execution_count": 5,
   "metadata": {
    "scrolled": true
   },
   "outputs": [
    {
     "data": {
      "text/plain": [
       "True"
      ]
     },
     "execution_count": 5,
     "metadata": {},
     "output_type": "execute_result"
    }
   ],
   "source": [
    "demand_constraint(solution_2, input_data)"
   ]
  },
  {
   "cell_type": "code",
   "execution_count": 6,
   "metadata": {},
   "outputs": [],
   "source": [
    "termination_condition = 1000\n",
    "halting_condition = 1000\n",
    "def calibrate_parameter_per_example(example):\n",
    "    for T_max in [10**x for x in range(1, 5)]:\n",
    "        for r in range(10, 100, 10):\n",
    "            params = T_max, r/100, termination_condition, halting_condition, False\n",
    "            eval_function = eval_solution\n",
    "            start_time = datetime.now()\n",
    "            best_solution = test_SA_per_example(example, eval_function, *params)\n",
    "            end_time = datetime.now()\n",
    "            if eval_function(best_solution, input_data) >= 90:\n",
    "                pprint(report_solution(best_solution, read_data(example)))\n",
    "                print(f'params: Example={example}, Duration={end_time - start_time}, evaluation={eval_function(best_solution, input_data)}, T_max={T_max}, r={r/100}, termination_condition={termination_condition}, halting_condition={halting_condition}')\n",
    "                print()\n",
    "                \n",
    "                "
   ]
  },
  {
   "cell_type": "code",
   "execution_count": 7,
   "metadata": {},
   "outputs": [],
   "source": [
    "def examples():\n",
    "    for example in get_examples()[6:]:\n",
    "        print(example)\n",
    "        calibrate_parameter_per_example(example)"
   ]
  },
  {
   "cell_type": "code",
   "execution_count": 8,
   "metadata": {},
   "outputs": [
    {
     "name": "stdout",
     "output_type": "stream",
     "text": [
      "{'day_off_constraint': False,\n",
      " 'demand_afternoon_constraint': True,\n",
      " 'demand_constraint': True,\n",
      " 'demand_day_constraint': True,\n",
      " 'demand_night_constraint': True,\n",
      " 'forbidden_constraint2': False,\n",
      " 'forbidden_constraint3': True,\n",
      " 'length_work_blocks_constraint': True,\n",
      " 'max_day_off_constraint': True,\n",
      " 'max_length_work_blocks_constraint': True,\n",
      " 'min_day_off_constraint': False,\n",
      " 'min_length_work_blocks_constraint': True}\n",
      "params: Example=rws_instances/Example1.txt, Duration=0:00:03.486719, evaluation=80, T_max=10, r=0.1, termination_condition=1000, halting_condition=1000\n",
      "\n",
      "{'day_off_constraint': False,\n",
      " 'demand_afternoon_constraint': True,\n",
      " 'demand_constraint': True,\n",
      " 'demand_day_constraint': True,\n",
      " 'demand_night_constraint': True,\n",
      " 'forbidden_constraint2': False,\n",
      " 'forbidden_constraint3': True,\n",
      " 'length_work_blocks_constraint': True,\n",
      " 'max_day_off_constraint': True,\n",
      " 'max_length_work_blocks_constraint': True,\n",
      " 'min_day_off_constraint': False,\n",
      " 'min_length_work_blocks_constraint': True}\n",
      "params: Example=rws_instances/Example1.txt, Duration=0:00:03.368002, evaluation=80, T_max=10, r=0.2, termination_condition=1000, halting_condition=1000\n",
      "\n",
      "{'day_off_constraint': False,\n",
      " 'demand_afternoon_constraint': True,\n",
      " 'demand_constraint': True,\n",
      " 'demand_day_constraint': True,\n",
      " 'demand_night_constraint': True,\n",
      " 'forbidden_constraint2': False,\n",
      " 'forbidden_constraint3': True,\n",
      " 'length_work_blocks_constraint': True,\n",
      " 'max_day_off_constraint': True,\n",
      " 'max_length_work_blocks_constraint': True,\n",
      " 'min_day_off_constraint': False,\n",
      " 'min_length_work_blocks_constraint': True}\n",
      "params: Example=rws_instances/Example1.txt, Duration=0:00:03.011674, evaluation=80, T_max=10, r=0.3, termination_condition=1000, halting_condition=1000\n",
      "\n",
      "{'day_off_constraint': False,\n",
      " 'demand_afternoon_constraint': True,\n",
      " 'demand_constraint': True,\n",
      " 'demand_day_constraint': True,\n",
      " 'demand_night_constraint': True,\n",
      " 'forbidden_constraint2': False,\n",
      " 'forbidden_constraint3': True,\n",
      " 'length_work_blocks_constraint': True,\n",
      " 'max_day_off_constraint': True,\n",
      " 'max_length_work_blocks_constraint': True,\n",
      " 'min_day_off_constraint': False,\n",
      " 'min_length_work_blocks_constraint': True}\n",
      "params: Example=rws_instances/Example1.txt, Duration=0:00:03.390731, evaluation=80, T_max=10, r=0.4, termination_condition=1000, halting_condition=1000\n",
      "\n"
     ]
    },
    {
     "ename": "KeyboardInterrupt",
     "evalue": "",
     "output_type": "error",
     "traceback": [
      "\u001b[0;31m----------------------------------\u001b[0m",
      "\u001b[0;31mKeyboardInterrupt\u001b[0mTraceback (most recent call last)",
      "\u001b[0;32m<ipython-input-8-2668c6642a4e>\u001b[0m in \u001b[0;36m<module>\u001b[0;34m\u001b[0m\n\u001b[0;32m----> 1\u001b[0;31m \u001b[0mcalibrate_parameter_per_example\u001b[0m\u001b[0;34m(\u001b[0m\u001b[0mget_examples\u001b[0m\u001b[0;34m(\u001b[0m\u001b[0;34m)\u001b[0m\u001b[0;34m[\u001b[0m\u001b[0;36m0\u001b[0m\u001b[0;34m]\u001b[0m\u001b[0;34m)\u001b[0m\u001b[0;34m\u001b[0m\u001b[0;34m\u001b[0m\u001b[0m\n\u001b[0m",
      "\u001b[0;32m<ipython-input-6-af041f296a38>\u001b[0m in \u001b[0;36mcalibrate_parameter_per_example\u001b[0;34m(example)\u001b[0m\n\u001b[1;32m      7\u001b[0m             \u001b[0meval_function\u001b[0m \u001b[0;34m=\u001b[0m \u001b[0meval_solution\u001b[0m\u001b[0;34m\u001b[0m\u001b[0;34m\u001b[0m\u001b[0m\n\u001b[1;32m      8\u001b[0m             \u001b[0mstart_time\u001b[0m \u001b[0;34m=\u001b[0m \u001b[0mdatetime\u001b[0m\u001b[0;34m.\u001b[0m\u001b[0mnow\u001b[0m\u001b[0;34m(\u001b[0m\u001b[0;34m)\u001b[0m\u001b[0;34m\u001b[0m\u001b[0;34m\u001b[0m\u001b[0m\n\u001b[0;32m----> 9\u001b[0;31m             \u001b[0mbest_solution\u001b[0m \u001b[0;34m=\u001b[0m \u001b[0mtest_SA_per_example\u001b[0m\u001b[0;34m(\u001b[0m\u001b[0mexample\u001b[0m\u001b[0;34m,\u001b[0m \u001b[0meval_function\u001b[0m\u001b[0;34m,\u001b[0m \u001b[0;34m*\u001b[0m\u001b[0mparams\u001b[0m\u001b[0;34m)\u001b[0m\u001b[0;34m\u001b[0m\u001b[0;34m\u001b[0m\u001b[0m\n\u001b[0m\u001b[1;32m     10\u001b[0m             \u001b[0mend_time\u001b[0m \u001b[0;34m=\u001b[0m \u001b[0mdatetime\u001b[0m\u001b[0;34m.\u001b[0m\u001b[0mnow\u001b[0m\u001b[0;34m(\u001b[0m\u001b[0;34m)\u001b[0m\u001b[0;34m\u001b[0m\u001b[0;34m\u001b[0m\u001b[0m\n\u001b[1;32m     11\u001b[0m             \u001b[0;32mif\u001b[0m \u001b[0meval_function\u001b[0m\u001b[0;34m(\u001b[0m\u001b[0mbest_solution\u001b[0m\u001b[0;34m,\u001b[0m \u001b[0minput_data\u001b[0m\u001b[0;34m)\u001b[0m \u001b[0;34m>=\u001b[0m \u001b[0;36m80\u001b[0m\u001b[0;34m:\u001b[0m\u001b[0;34m\u001b[0m\u001b[0;34m\u001b[0m\u001b[0m\n",
      "\u001b[0;32m~/repos/pssai2/all_functions.py\u001b[0m in \u001b[0;36mtest_SA_per_example\u001b[0;34m(example, eval_function, T_max, r, termination_condition, halting_condition, show_non_optimal)\u001b[0m\n\u001b[1;32m    847\u001b[0m         \u001b[0mprint\u001b[0m\u001b[0;34m(\u001b[0m\u001b[0mexample\u001b[0m\u001b[0;34m)\u001b[0m\u001b[0;34m\u001b[0m\u001b[0;34m\u001b[0m\u001b[0m\n\u001b[1;32m    848\u001b[0m     \u001b[0minput_data\u001b[0m \u001b[0;34m=\u001b[0m \u001b[0mread_data\u001b[0m\u001b[0;34m(\u001b[0m\u001b[0mexample\u001b[0m\u001b[0;34m)\u001b[0m\u001b[0;34m\u001b[0m\u001b[0;34m\u001b[0m\u001b[0m\n\u001b[0;32m--> 849\u001b[0;31m     \u001b[0msolution\u001b[0m \u001b[0;34m=\u001b[0m \u001b[0msimulated_annealing\u001b[0m\u001b[0;34m(\u001b[0m\u001b[0minput_data\u001b[0m\u001b[0;34m,\u001b[0m \u001b[0meval_function\u001b[0m\u001b[0;34m,\u001b[0m \u001b[0mT_max\u001b[0m\u001b[0;34m,\u001b[0m \u001b[0mr\u001b[0m\u001b[0;34m,\u001b[0m \u001b[0mtermination_condition\u001b[0m\u001b[0;34m,\u001b[0m \u001b[0mhalting_condition\u001b[0m\u001b[0;34m)\u001b[0m\u001b[0;34m\u001b[0m\u001b[0;34m\u001b[0m\u001b[0m\n\u001b[0m\u001b[1;32m    850\u001b[0m     \u001b[0mbest_solution\u001b[0m \u001b[0;34m=\u001b[0m \u001b[0mdeepcopy\u001b[0m\u001b[0;34m(\u001b[0m\u001b[0msolution\u001b[0m\u001b[0;34m)\u001b[0m\u001b[0;34m\u001b[0m\u001b[0;34m\u001b[0m\u001b[0m\n\u001b[1;32m    851\u001b[0m     \u001b[0;32mif\u001b[0m \u001b[0;34m\"Not satified in the given time\"\u001b[0m \u001b[0;32mnot\u001b[0m \u001b[0;32min\u001b[0m \u001b[0msolution\u001b[0m\u001b[0;34m:\u001b[0m\u001b[0;34m\u001b[0m\u001b[0;34m\u001b[0m\u001b[0m\n",
      "\u001b[0;32m~/repos/pssai2/all_functions.py\u001b[0m in \u001b[0;36msimulated_annealing\u001b[0;34m(input_data, eval_function, T_max, r, termination_condition, halting_condition)\u001b[0m\n\u001b[1;32m    801\u001b[0m \u001b[0;34m\u001b[0m\u001b[0m\n\u001b[1;32m    802\u001b[0m             \u001b[0;32mif\u001b[0m \u001b[0meval_function\u001b[0m\u001b[0;34m(\u001b[0m\u001b[0msolution\u001b[0m\u001b[0;34m,\u001b[0m \u001b[0minput_data\u001b[0m\u001b[0;34m)\u001b[0m \u001b[0;34m<\u001b[0m \u001b[0meval_function\u001b[0m\u001b[0;34m(\u001b[0m\u001b[0mmove\u001b[0m\u001b[0;34m,\u001b[0m \u001b[0minput_data\u001b[0m\u001b[0;34m)\u001b[0m\u001b[0;34m:\u001b[0m \u001b[0msolution\u001b[0m \u001b[0;34m=\u001b[0m \u001b[0mmove\u001b[0m\u001b[0;34m\u001b[0m\u001b[0;34m\u001b[0m\u001b[0m\n\u001b[0;32m--> 803\u001b[0;31m             \u001b[0;32melif\u001b[0m \u001b[0mrandom\u001b[0m\u001b[0;34m.\u001b[0m\u001b[0muniform\u001b[0m\u001b[0;34m(\u001b[0m\u001b[0;36m0\u001b[0m\u001b[0;34m,\u001b[0m \u001b[0;36m1\u001b[0m\u001b[0;34m)\u001b[0m \u001b[0;34m<\u001b[0m \u001b[0mexp_probability\u001b[0m\u001b[0;34m(\u001b[0m\u001b[0msolution\u001b[0m\u001b[0;34m,\u001b[0m \u001b[0meval_function\u001b[0m\u001b[0;34m,\u001b[0m \u001b[0mmove\u001b[0m\u001b[0;34m,\u001b[0m \u001b[0mT\u001b[0m\u001b[0;34m,\u001b[0m \u001b[0minput_data\u001b[0m\u001b[0;34m)\u001b[0m\u001b[0;34m:\u001b[0m \u001b[0msolution\u001b[0m \u001b[0;34m=\u001b[0m \u001b[0mmove\u001b[0m\u001b[0;34m\u001b[0m\u001b[0;34m\u001b[0m\u001b[0m\n\u001b[0m\u001b[1;32m    804\u001b[0m \u001b[0;34m\u001b[0m\u001b[0m\n\u001b[1;32m    805\u001b[0m             \u001b[0;32mif\u001b[0m \u001b[0meval_function\u001b[0m\u001b[0;34m(\u001b[0m\u001b[0msolution\u001b[0m\u001b[0;34m,\u001b[0m \u001b[0minput_data\u001b[0m\u001b[0;34m)\u001b[0m \u001b[0;34m>\u001b[0m \u001b[0meval_function\u001b[0m\u001b[0;34m(\u001b[0m\u001b[0mbest_solution\u001b[0m\u001b[0;34m,\u001b[0m \u001b[0minput_data\u001b[0m\u001b[0;34m)\u001b[0m\u001b[0;34m:\u001b[0m\u001b[0;34m\u001b[0m\u001b[0;34m\u001b[0m\u001b[0m\n",
      "\u001b[0;32m~/repos/pssai2/all_functions.py\u001b[0m in \u001b[0;36mexp_probability\u001b[0;34m(solution, eval_function, neighbor, T, input_data)\u001b[0m\n\u001b[1;32m    753\u001b[0m \u001b[0;31m# %%\u001b[0m\u001b[0;34m\u001b[0m\u001b[0;34m\u001b[0m\u001b[0;34m\u001b[0m\u001b[0m\n\u001b[1;32m    754\u001b[0m \u001b[0;32mdef\u001b[0m \u001b[0mexp_probability\u001b[0m\u001b[0;34m(\u001b[0m\u001b[0msolution\u001b[0m\u001b[0;34m,\u001b[0m \u001b[0meval_function\u001b[0m\u001b[0;34m,\u001b[0m \u001b[0mneighbor\u001b[0m\u001b[0;34m,\u001b[0m \u001b[0mT\u001b[0m\u001b[0;34m,\u001b[0m \u001b[0minput_data\u001b[0m\u001b[0;34m)\u001b[0m\u001b[0;34m:\u001b[0m\u001b[0;34m\u001b[0m\u001b[0;34m\u001b[0m\u001b[0m\n\u001b[0;32m--> 755\u001b[0;31m     \u001b[0;32mreturn\u001b[0m \u001b[0mmath\u001b[0m\u001b[0;34m.\u001b[0m\u001b[0mexp\u001b[0m\u001b[0;34m(\u001b[0m\u001b[0;34m(\u001b[0m\u001b[0meval_function\u001b[0m\u001b[0;34m(\u001b[0m\u001b[0mneighbor\u001b[0m\u001b[0;34m,\u001b[0m \u001b[0minput_data\u001b[0m\u001b[0;34m)\u001b[0m \u001b[0;34m-\u001b[0m \u001b[0meval_function\u001b[0m\u001b[0;34m(\u001b[0m\u001b[0msolution\u001b[0m\u001b[0;34m,\u001b[0m \u001b[0minput_data\u001b[0m\u001b[0;34m)\u001b[0m\u001b[0;34m)\u001b[0m\u001b[0;34m/\u001b[0m\u001b[0mT\u001b[0m\u001b[0;34m)\u001b[0m\u001b[0;34m\u001b[0m\u001b[0;34m\u001b[0m\u001b[0m\n\u001b[0m\u001b[1;32m    756\u001b[0m \u001b[0;34m\u001b[0m\u001b[0m\n\u001b[1;32m    757\u001b[0m \u001b[0;34m\u001b[0m\u001b[0m\n",
      "\u001b[0;32m~/repos/pssai2/all_functions.py\u001b[0m in \u001b[0;36meval_solution\u001b[0;34m(solution, input_data)\u001b[0m\n\u001b[1;32m    196\u001b[0m     \u001b[0;32mif\u001b[0m \u001b[0mc6\u001b[0m\u001b[0;34m(\u001b[0m\u001b[0msolution\u001b[0m\u001b[0;34m,\u001b[0m \u001b[0minput_data\u001b[0m\u001b[0;34m)\u001b[0m\u001b[0;34m:\u001b[0m \u001b[0mscore\u001b[0m \u001b[0;34m+=\u001b[0m \u001b[0;36m10\u001b[0m\u001b[0;34m\u001b[0m\u001b[0;34m\u001b[0m\u001b[0m\n\u001b[1;32m    197\u001b[0m     \u001b[0;32mif\u001b[0m \u001b[0mc7\u001b[0m\u001b[0;34m(\u001b[0m\u001b[0msolution\u001b[0m\u001b[0;34m,\u001b[0m \u001b[0minput_data\u001b[0m\u001b[0;34m)\u001b[0m\u001b[0;34m:\u001b[0m \u001b[0mscore\u001b[0m \u001b[0;34m+=\u001b[0m \u001b[0;36m10\u001b[0m\u001b[0;34m\u001b[0m\u001b[0;34m\u001b[0m\u001b[0m\n\u001b[0;32m--> 198\u001b[0;31m     \u001b[0;32mif\u001b[0m \u001b[0mc8\u001b[0m\u001b[0;34m(\u001b[0m\u001b[0msolution\u001b[0m\u001b[0;34m,\u001b[0m \u001b[0minput_data\u001b[0m\u001b[0;34m)\u001b[0m\u001b[0;34m:\u001b[0m \u001b[0mscore\u001b[0m \u001b[0;34m+=\u001b[0m \u001b[0;36m10\u001b[0m\u001b[0;34m\u001b[0m\u001b[0;34m\u001b[0m\u001b[0m\n\u001b[0m\u001b[1;32m    199\u001b[0m     \u001b[0;32mif\u001b[0m \u001b[0mc9\u001b[0m\u001b[0;34m(\u001b[0m\u001b[0msolution\u001b[0m\u001b[0;34m,\u001b[0m \u001b[0minput_data\u001b[0m\u001b[0;34m)\u001b[0m\u001b[0;34m:\u001b[0m \u001b[0mscore\u001b[0m \u001b[0;34m+=\u001b[0m \u001b[0;36m10\u001b[0m\u001b[0;34m\u001b[0m\u001b[0;34m\u001b[0m\u001b[0m\n\u001b[1;32m    200\u001b[0m     \u001b[0;32mif\u001b[0m \u001b[0mc10\u001b[0m\u001b[0;34m(\u001b[0m\u001b[0msolution\u001b[0m\u001b[0;34m,\u001b[0m \u001b[0minput_data\u001b[0m\u001b[0;34m)\u001b[0m\u001b[0;34m:\u001b[0m \u001b[0mscore\u001b[0m \u001b[0;34m+=\u001b[0m \u001b[0;36m5\u001b[0m\u001b[0;34m\u001b[0m\u001b[0;34m\u001b[0m\u001b[0m\n",
      "\u001b[0;32m~/repos/pssai2/all_functions.py\u001b[0m in \u001b[0;36mforbidden_constraint2\u001b[0;34m(result, input_data)\u001b[0m\n\u001b[1;32m    161\u001b[0m             \u001b[0;32mfor\u001b[0m \u001b[0md\u001b[0m \u001b[0;32min\u001b[0m \u001b[0mrange\u001b[0m\u001b[0;34m(\u001b[0m\u001b[0minput_data\u001b[0m\u001b[0;34m[\u001b[0m\u001b[0;34m'length_of_schedule'\u001b[0m\u001b[0;34m]\u001b[0m \u001b[0;34m-\u001b[0m \u001b[0;36m1\u001b[0m\u001b[0;34m)\u001b[0m\u001b[0;34m:\u001b[0m\u001b[0;34m\u001b[0m\u001b[0;34m\u001b[0m\u001b[0m\n\u001b[1;32m    162\u001b[0m                 \u001b[0;32mfor\u001b[0m \u001b[0mf\u001b[0m \u001b[0;32min\u001b[0m \u001b[0minput_data\u001b[0m\u001b[0;34m[\u001b[0m\u001b[0;34m'not_allowed_shift_sequences_2'\u001b[0m\u001b[0;34m]\u001b[0m\u001b[0;34m:\u001b[0m\u001b[0;34m\u001b[0m\u001b[0;34m\u001b[0m\u001b[0m\n\u001b[0;32m--> 163\u001b[0;31m                     \u001b[0;32mif\u001b[0m \u001b[0mresult\u001b[0m\u001b[0;34m[\u001b[0m\u001b[0me\u001b[0m\u001b[0;34m]\u001b[0m\u001b[0;34m[\u001b[0m\u001b[0md\u001b[0m\u001b[0;34m]\u001b[0m \u001b[0;34m==\u001b[0m \u001b[0mf\u001b[0m\u001b[0;34m[\u001b[0m\u001b[0;36m0\u001b[0m\u001b[0;34m]\u001b[0m \u001b[0;32mand\u001b[0m \u001b[0mresult\u001b[0m\u001b[0;34m[\u001b[0m\u001b[0me\u001b[0m\u001b[0;34m]\u001b[0m\u001b[0;34m[\u001b[0m\u001b[0md\u001b[0m\u001b[0;34m+\u001b[0m\u001b[0;36m1\u001b[0m\u001b[0;34m]\u001b[0m \u001b[0;34m==\u001b[0m \u001b[0mf\u001b[0m\u001b[0;34m[\u001b[0m\u001b[0;36m1\u001b[0m\u001b[0;34m]\u001b[0m\u001b[0;34m:\u001b[0m \u001b[0;32mreturn\u001b[0m \u001b[0;32mFalse\u001b[0m\u001b[0;34m\u001b[0m\u001b[0;34m\u001b[0m\u001b[0m\n\u001b[0m\u001b[1;32m    164\u001b[0m         \u001b[0;32mreturn\u001b[0m \u001b[0;32mTrue\u001b[0m\u001b[0;34m\u001b[0m\u001b[0;34m\u001b[0m\u001b[0m\n\u001b[1;32m    165\u001b[0m \u001b[0;34m\u001b[0m\u001b[0m\n",
      "\u001b[0;31mKeyboardInterrupt\u001b[0m: "
     ]
    }
   ],
   "source": [
    "calibrate_parameter_per_example(get_examples()[0])"
   ]
  },
  {
   "cell_type": "code",
   "execution_count": null,
   "metadata": {},
   "outputs": [],
   "source": [
    "read_data(get_examples()[5])"
   ]
  },
  {
   "cell_type": "code",
   "execution_count": null,
   "metadata": {},
   "outputs": [],
   "source": [
    "read_data(get_examples()[0])"
   ]
  },
  {
   "cell_type": "code",
   "execution_count": null,
   "metadata": {},
   "outputs": [],
   "source": [
    "import collections\n",
    "\n",
    "def min_length_of_shift_constraint(result, input_data):\n",
    "    for e in range(input_data['number_of_employees']):  \n",
    "        counter = collections.Counter(result[e])\n",
    "        for s in range(input_data['number_of_shifts']):\n",
    "            if index_to_shift(s) in counter:\n",
    "                if input_data['min_length_of_blocks'][s] <= counter[index_to_shift(s)]:\n",
    "                    continue\n",
    "                else:\n",
    "                    return False\n",
    "            else:\n",
    "                return False\n",
    "    return True "
   ]
  },
  {
   "cell_type": "code",
   "execution_count": null,
   "metadata": {},
   "outputs": [],
   "source": [
    "def move_min_length_of_shift_constraint(result, input_data):\n",
    "    updated_result = deepcopy(result)\n",
    "    if not min_length_of_shift_constraint(result, input_data):\n",
    "        for e in range(input_data['number_of_employees']):  \n",
    "            counter = collections.Counter(result[e])\n",
    "            for s in range(input_data['number_of_shifts']):\n",
    "                if index_to_shift(s) in counter:\n",
    "                    if input_data['min_length_of_blocks'][s] > counter[index_to_shift(s)]:\n",
    "                        updated_result[e] = update_shift_employee_min(updated_result[e], \n",
    "                                                                      index_to_shift(s),\n",
    "                                                                     input_data['min_length_of_blocks'][s] - counter[index_to_shift(s)])\n",
    "                else:\n",
    "                    updated_result[e] = update_shift_employee_min(updated_result[e], \n",
    "                                                                    index_to_shift(s),\n",
    "                                                                    input_data['min_length_of_blocks'][s])\n",
    "    return updated_result "
   ]
  },
  {
   "cell_type": "code",
   "execution_count": null,
   "metadata": {},
   "outputs": [],
   "source": [
    "def replace(list_, element_1, element_2):\n",
    "    result = deepcopy(list_)\n",
    "    for i in range(len(result)):\n",
    "        if result[i] == element_1:\n",
    "            result[i] = element_2\n",
    "            break\n",
    "    return result"
   ]
  },
  {
   "cell_type": "code",
   "execution_count": null,
   "metadata": {},
   "outputs": [],
   "source": [
    "def update_shift_employee_min(employee, shift, times):\n",
    "    result = deepcopy(employee)\n",
    "    for i in range(times):\n",
    "        counter = collections.Counter(result)\n",
    "        max_shifts = counter.most_common(1)[0][0]\n",
    "        if '-' in result:\n",
    "            max_shifts = '-'\n",
    "        else:\n",
    "            max_shifts = counter.most_common(1)[0][0]\n",
    "        result = replace(result, max_shifts, shift)\n",
    "    return result"
   ]
  },
  {
   "cell_type": "code",
   "execution_count": 59,
   "metadata": {},
   "outputs": [],
   "source": [
    "def update_shift_employee_max(employee, shift, times):\n",
    "    result = deepcopy(employee)\n",
    "    for i in range(times):\n",
    "        result = replace(result, shift, '-')\n",
    "        print(result)\n",
    "    return result"
   ]
  },
  {
   "cell_type": "code",
   "execution_count": null,
   "metadata": {},
   "outputs": [],
   "source": []
  },
  {
   "cell_type": "code",
   "execution_count": 20,
   "metadata": {},
   "outputs": [
    {
     "data": {
      "text/plain": [
       "False"
      ]
     },
     "execution_count": 20,
     "metadata": {},
     "output_type": "execute_result"
    }
   ],
   "source": [
    "input_data = read_data(get_examples()[0])\n",
    "solution_1 = generate_random_solution(input_data)\n",
    "max_length_of_shift_constraint(move_max_length_of_shift_constraint(solution_1, input_data), input_data)"
   ]
  },
  {
   "cell_type": "code",
   "execution_count": 76,
   "metadata": {},
   "outputs": [],
   "source": [
    "def max_length_of_shift_constraint(result, input_data):\n",
    "    for e in range(input_data['number_of_employees']):  \n",
    "        counter = collections.Counter(result[e])\n",
    "        for s in range(input_data['number_of_shifts']):\n",
    "            if index_to_shift(s) in counter:\n",
    "                if input_data['max_length_of_blocks'][s] > counter[index_to_shift(s)]:\n",
    "                    continue\n",
    "                else:\n",
    "                    print(e)\n",
    "                    pprint(result)\n",
    "                    return False\n",
    "            else:\n",
    "                print(e)\n",
    "                pprint(result)\n",
    "                return False\n",
    "    return True "
   ]
  },
  {
   "cell_type": "code",
   "execution_count": 67,
   "metadata": {},
   "outputs": [],
   "source": [
    "def move_max_length_of_shift_constraint(result, input_data):\n",
    "    updated_result = deepcopy(result)\n",
    "    if not max_length_of_shift_constraint(result, input_data):\n",
    "        for e in range(input_data['number_of_employees']):  \n",
    "            counter = collections.Counter(result[e])\n",
    "            for s in range(input_data['number_of_shifts']):\n",
    "                if index_to_shift(s) in counter:\n",
    "                    if input_data['max_length_of_blocks'][s] < counter[index_to_shift(s)]:\n",
    "                              counter[index_to_shift(s)] - input_data['max_length_of_blocks'][s])\n",
    "                        updated_result[e] = update_shift_employee_max(updated_result[e], \n",
    "                                                                      index_to_shift(s),\n",
    "                                                                     counter[index_to_shift(s)] - input_data['max_length_of_blocks'][s])\n",
    "    return updated_result "
   ]
  },
  {
   "cell_type": "code",
   "execution_count": 23,
   "metadata": {},
   "outputs": [
    {
     "data": {
      "text/plain": [
       "{'length_of_schedule': 7,\n",
       " 'number_of_employees': 9,\n",
       " 'number_of_shifts': 3,\n",
       " 'temporal_requirements_matrix': [[2, 2, 2, 2, 2, 2, 2],\n",
       "  [2, 2, 2, 3, 3, 3, 2],\n",
       "  [2, 2, 2, 2, 2, 2, 2]],\n",
       " 'shift_name': ['D', 'A', 'N'],\n",
       " 'start_shift': [[3, 6, 0], [8, 4, 0], [1, 3, 2, 0]],\n",
       " 'length_shift': [[4, 8, 0], [4, 8, 0], [4, 8, 0]],\n",
       " 'min_length_of_blocks': [2, 2, 2],\n",
       " 'max_length_of_blocks': [7, 6, 4],\n",
       " 'min_days_off': 2,\n",
       " 'max_days_off': 4,\n",
       " 'min_length_work_blocks': 4,\n",
       " 'max_length_work_blocks': 7,\n",
       " 'nr_sequences_of_length_2': 3,\n",
       " 'nr_sequences_of_length_3': 0,\n",
       " 'not_allowed_shift_sequences_2': [['N', 'D'], ['N', 'A'], ['A', 'D']],\n",
       " 'not_allowed_shift_sequences_3': []}"
      ]
     },
     "execution_count": 23,
     "metadata": {},
     "output_type": "execute_result"
    }
   ],
   "source": [
    "input_data"
   ]
  },
  {
   "cell_type": "code",
   "execution_count": 32,
   "metadata": {},
   "outputs": [
    {
     "data": {
      "text/plain": [
       "False"
      ]
     },
     "execution_count": 32,
     "metadata": {},
     "output_type": "execute_result"
    }
   ],
   "source": [
    "max_length_of_shift_constraint(solution_1, input_data)"
   ]
  },
  {
   "cell_type": "code",
   "execution_count": 22,
   "metadata": {},
   "outputs": [
    {
     "data": {
      "text/plain": [
       "[['-', 'D', 'N', 'N', 'N', 'A', '-'],\n",
       " ['N', 'A', 'A', 'A', 'N', 'D', 'A'],\n",
       " ['N', 'N', 'D', 'N', '-', 'A', '-'],\n",
       " ['N', 'N', 'D', 'N', 'N', 'N', 'D'],\n",
       " ['D', '-', '-', 'N', 'A', '-', 'A'],\n",
       " ['D', 'A', 'N', '-', 'N', '-', 'D'],\n",
       " ['-', '-', 'A', 'D', 'N', 'D', 'N'],\n",
       " ['N', 'A', 'N', 'A', '-', 'N', 'N'],\n",
       " ['-', 'D', 'N', 'D', '-', 'D', '-']]"
      ]
     },
     "execution_count": 22,
     "metadata": {},
     "output_type": "execute_result"
    }
   ],
   "source": [
    "solution_1"
   ]
  },
  {
   "cell_type": "code",
   "execution_count": 77,
   "metadata": {},
   "outputs": [
    {
     "name": "stdout",
     "output_type": "stream",
     "text": [
      "3\n",
      "[['-', 'D', 'N', 'N', 'N', 'A', '-'],\n",
      " ['N', 'A', 'A', 'A', 'N', 'D', 'A'],\n",
      " ['N', 'N', 'D', 'N', '-', 'A', '-'],\n",
      " ['N', 'N', 'D', 'N', 'N', 'N', 'D'],\n",
      " ['D', '-', '-', 'N', 'A', '-', 'A'],\n",
      " ['D', 'A', 'N', '-', 'N', '-', 'D'],\n",
      " ['-', '-', 'A', 'D', 'N', 'D', 'N'],\n",
      " ['N', 'A', 'N', 'A', '-', 'N', 'N'],\n",
      " ['-', 'D', 'N', 'D', '-', 'D', '-']]\n",
      "3 ['N', 'N', 'D', 'N', 'N', 'N', 'D'] N 1\n",
      "['-', 'N', 'D', 'N', 'N', 'N', 'D']\n",
      "3\n",
      "[['-', 'D', 'N', 'N', 'N', 'A', '-'],\n",
      " ['N', 'A', 'A', 'A', 'N', 'D', 'A'],\n",
      " ['N', 'N', 'D', 'N', '-', 'A', '-'],\n",
      " ['-', 'N', 'D', 'N', 'N', 'N', 'D'],\n",
      " ['D', '-', '-', 'N', 'A', '-', 'A'],\n",
      " ['D', 'A', 'N', '-', 'N', '-', 'D'],\n",
      " ['-', '-', 'A', 'D', 'N', 'D', 'N'],\n",
      " ['N', 'A', 'N', 'A', '-', 'N', 'N'],\n",
      " ['-', 'D', 'N', 'D', '-', 'D', '-']]\n"
     ]
    },
    {
     "data": {
      "text/plain": [
       "False"
      ]
     },
     "execution_count": 77,
     "metadata": {},
     "output_type": "execute_result"
    }
   ],
   "source": [
    "max_length_of_shift_constraint(move_max_length_of_shift_constraint(solution_1, input_data), input_data)"
   ]
  },
  {
   "cell_type": "code",
   "execution_count": 68,
   "metadata": {},
   "outputs": [
    {
     "name": "stdout",
     "output_type": "stream",
     "text": [
      "3\n",
      "3 ['N', 'N', 'D', 'N', 'N', 'N', 'D'] N 1\n",
      "['-', 'N', 'D', 'N', 'N', 'N', 'D']\n"
     ]
    },
    {
     "data": {
      "text/plain": [
       "[['-', 'D', 'N', 'N', 'N', 'A', '-'],\n",
       " ['N', 'A', 'A', 'A', 'N', 'D', 'A'],\n",
       " ['N', 'N', 'D', 'N', '-', 'A', '-'],\n",
       " ['-', 'N', 'D', 'N', 'N', 'N', 'D'],\n",
       " ['D', '-', '-', 'N', 'A', '-', 'A'],\n",
       " ['D', 'A', 'N', '-', 'N', '-', 'D'],\n",
       " ['-', '-', 'A', 'D', 'N', 'D', 'N'],\n",
       " ['N', 'A', 'N', 'A', '-', 'N', 'N'],\n",
       " ['-', 'D', 'N', 'D', '-', 'D', '-']]"
      ]
     },
     "execution_count": 68,
     "metadata": {},
     "output_type": "execute_result"
    }
   ],
   "source": [
    "move_max_length_of_shift_constraint(solution_1, input_data)"
   ]
  },
  {
   "cell_type": "code",
   "execution_count": null,
   "metadata": {},
   "outputs": [],
   "source": [
    "solution_1 = [\n",
    " ['N', 'A', 'A', 'A', 'A', 'A', 'A'],\n",
    " ['A', 'A', 'N', 'N', 'D', 'D', 'A'],\n",
    " ['N', 'N', '-', 'A', 'D', 'N', 'A'],\n",
    "['N', 'N', '-', '-','-','-', 'A'],\n",
    "    ['N', 'N', 'D', 'A', 'D', 'N', 'A'],\n",
    "    ['N', 'N', 'D', 'A', 'D', 'N', 'A'],\n",
    "    ['N', '-','-','-', 'D', 'N', 'A'],\n",
    "    ['N', 'N', 'D', 'A', 'D', 'N', 'A'],\n",
    " ['N', 'N', 'D', 'A', 'D', 'N', 'A'],]\n",
    "pprint(input_data)\n",
    "print(max_length_of_shift_constraint(solution_1, input_data))\n",
    "solution_1"
   ]
  },
  {
   "cell_type": "code",
   "execution_count": null,
   "metadata": {},
   "outputs": [],
   "source": []
  },
  {
   "cell_type": "code",
   "execution_count": null,
   "metadata": {},
   "outputs": [],
   "source": [
    "pprint(report_solution(best_solution, read_data(example)))"
   ]
  }
 ],
 "metadata": {
  "kernelspec": {
   "display_name": "Python 3",
   "language": "python",
   "name": "python3"
  },
  "language_info": {
   "codemirror_mode": {
    "name": "ipython",
    "version": 3
   },
   "file_extension": ".py",
   "mimetype": "text/x-python",
   "name": "python",
   "nbconvert_exporter": "python",
   "pygments_lexer": "ipython3",
   "version": "3.8.5"
  }
 },
 "nbformat": 4,
 "nbformat_minor": 4
}
