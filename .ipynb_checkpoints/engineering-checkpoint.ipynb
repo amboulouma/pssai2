{
 "cells": [
  {
   "cell_type": "code",
   "execution_count": 5,
   "metadata": {},
   "outputs": [],
   "source": [
    "from constraints import *"
   ]
  },
  {
   "cell_type": "code",
   "execution_count": 3,
   "metadata": {},
   "outputs": [],
   "source": [
    "input_solution = [\n",
    "    ['A', 'N', 'A', 'N', 'D', '-', '-'],\n",
    "    ['-', 'N', 'D', 'N', 'A', 'A', 'N'],\n",
    "    ['-', 'D', 'N', 'D', 'D', '-', 'A'],\n",
    "    ['-', '-', '-', 'D', 'A', 'D', 'A'],\n",
    "    ['-', 'N', 'N', 'D', 'N', 'D', '-'],\n",
    "    ['N', 'N', 'A', 'N', '-', '-', 'N'],\n",
    "    ['-', 'D', 'A', '-', 'N', 'A', '-'],\n",
    "    ['A', 'N', '-', '-', 'A', 'A', 'N'],\n",
    "    ['-', 'N', 'A', 'D', 'D', '-', 'A']]\n",
    "\n",
    "input_demand = [\n",
    "    [2, 2, 2, 2, 2, 2, 2],\n",
    "    [2, 2, 2, 3, 3, 3, 2],\n",
    "    [2, 2, 2, 2, 2, 2, 2]]"
   ]
  },
  {
   "cell_type": "code",
   "execution_count": 124,
   "metadata": {},
   "outputs": [],
   "source": [
    "def transpose_matrix(matrix):\n",
    "    transposed_matrix = [[matrix[j][i] for j in range(len(matrix))] for i in range(len(matrix[0]))]\n",
    "    return transposed_matrix"
   ]
  },
  {
   "cell_type": "code",
   "execution_count": 114,
   "metadata": {},
   "outputs": [],
   "source": [
    "def solution_to_demand(solution, numshifts):\n",
    "    demand = [[0 for i in range(len(solution[0]))] for i in range(numshifts)]\n",
    "    for d in range(len(solution[0])):\n",
    "        for e in range(len(solution)):\n",
    "            if solution[e][d] == 'D': demand[0][d] += 1\n",
    "            elif solution[e][d] == 'A': demand[1][d] += 1\n",
    "            elif solution[e][d] == 'N': demand[2][d] += 1\n",
    "    return demand"
   ]
  },
  {
   "cell_type": "code",
   "execution_count": 247,
   "metadata": {},
   "outputs": [],
   "source": [
    "def transform(input_solution, input_demand, numshifts):\n",
    "    pprint(input_solution)\n",
    "    solution = []\n",
    "    demand = transpose_matrix(input_demand)\n",
    "    for d in range(len(input_demand[0])):\n",
    "        solution.append(adapt_solution_day(transpose_matrix(input_solution)[:][d], demand[d][:]))\n",
    "\n",
    "    return transpose_matrix(solution)"
   ]
  },
  {
   "cell_type": "code",
   "execution_count": 256,
   "metadata": {},
   "outputs": [
    {
     "name": "stdout",
     "output_type": "stream",
     "text": [
      "[['A', 'N', 'A', 'N', 'D', '-', '-'],\n",
      " ['-', 'N', 'D', 'N', 'A', 'A', 'N'],\n",
      " ['-', 'D', 'N', 'D', 'D', '-', 'A'],\n",
      " ['-', '-', '-', 'D', 'A', 'D', 'A'],\n",
      " ['-', 'N', 'N', 'D', 'N', 'D', '-'],\n",
      " ['N', 'N', 'A', 'N', '-', '-', 'N'],\n",
      " ['-', 'D', 'A', '-', 'N', 'A', '-'],\n",
      " ['A', 'N', '-', '-', 'A', 'A', 'N'],\n",
      " ['-', 'N', 'A', 'D', 'D', '-', 'A']]\n",
      "['-', '-', '-', '-', '-', '-'] ['D', 'D', 'N']\n",
      "['N', '-'] ['A', 'A']\n",
      "['A', '-', '-'] ['D']\n",
      "['D', 'N', '-', '-'] ['A', 'A', 'A']\n",
      "['D', '-'] []\n",
      "['-', '-', '-', '-'] ['N', 'N']\n",
      "['A', 'N', '-', '-', '-'] ['D', 'D']\n"
     ]
    },
    {
     "data": {
      "text/plain": [
       "[['A', 'A', 'D', 'A', 'D', 'N', 'D'],\n",
       " ['D', 'N', 'D', 'N', 'A', 'A', 'D'],\n",
       " ['D', 'D', 'N', 'A', 'D', 'N', 'A'],\n",
       " ['N', 'A', '-', 'D', 'A', 'D', 'A'],\n",
       " ['-', 'N', 'N', 'D', 'N', 'D', '-'],\n",
       " ['N', 'N', 'A', 'N', '-', '-', 'N'],\n",
       " ['-', 'D', 'A', 'A', 'N', 'A', '-'],\n",
       " ['A', 'N', '-', '-', 'A', 'A', 'N'],\n",
       " ['-', 'N', 'A', 'D', 'D', '-', 'A']]"
      ]
     },
     "execution_count": 256,
     "metadata": {},
     "output_type": "execute_result"
    }
   ],
   "source": [
    "transform(input_solution, input_demand, 3)"
   ]
  },
  {
   "cell_type": "code",
   "execution_count": 70,
   "metadata": {},
   "outputs": [],
   "source": [
    "def count_sums_per_day_solution(solution_day):\n",
    "    sum_day, sum_afternoon, sum_night = 0, 0, 0\n",
    "    for e in range(len(solution_day)):\n",
    "        if solution_day[e] == 'D': sum_day += 1\n",
    "        elif solution_day[e] == 'A': sum_afternoon += 1\n",
    "        elif solution_day[e] == 'N': sum_night += 1\n",
    "    return [sum_day, sum_afternoon, sum_night]"
   ]
  },
  {
   "cell_type": "code",
   "execution_count": 148,
   "metadata": {},
   "outputs": [],
   "source": [
    "def shift_to_index(shift):\n",
    "    if shift == 'D': return 0\n",
    "    elif shift == 'A': return 1\n",
    "    elif shift == 'N': return 2\n",
    "    elif shift == '-': return 3\n",
    "    return False"
   ]
  },
  {
   "cell_type": "code",
   "execution_count": 154,
   "metadata": {},
   "outputs": [],
   "source": [
    "def index_to_shift(index):\n",
    "    if index == 0: return 'D'\n",
    "    elif index == 1: return 'A'\n",
    "    elif index == 2: return 'N'\n",
    "    elif index == 3: return '-'\n",
    "    return False"
   ]
  },
  {
   "cell_type": "code",
   "execution_count": 255,
   "metadata": {},
   "outputs": [],
   "source": [
    "def adapt_solution_day(solution_day, demand_day):\n",
    "    solution = deepcopy(solution_day)\n",
    "    solution_shifts_sums = count_sums_per_day_solution(solution_day)\n",
    "    available_shifts, demand_shifts = [], []\n",
    "    \n",
    "    \n",
    "    for i in range(len(demand_day)):\n",
    "        if demand_day[i] > solution_shifts_sums[i]:\n",
    "            for j in range(demand_day[i] - solution_shifts_sums[i]):\n",
    "                demand_shifts.append(index_to_shift(i))\n",
    "        elif demand_day[i] < solution_shifts_sums[i]: \n",
    "            available_shifts.append(index_to_shift(i))\n",
    "    for shift in solution:\n",
    "        if shift == '-':\n",
    "            available_shifts.append('-')\n",
    "            \n",
    "    print(available_shifts, demand_shifts)\n",
    "    \n",
    "    for shift in demand_shifts:\n",
    "        for i in range(len(solution)):\n",
    "            if solution[i] in available_shifts:\n",
    "                available_shifts.remove(solution[i])\n",
    "                solution[i] = shift\n",
    "                break\n",
    "        \n",
    "    return solution"
   ]
  },
  {
   "cell_type": "code",
   "execution_count": 233,
   "metadata": {},
   "outputs": [
    {
     "data": {
      "text/plain": [
       "[['A', 'N', 'A', 'N', 'D', '-', '-'],\n",
       " ['-', 'N', 'D', 'N', 'A', 'A', 'N'],\n",
       " ['-', 'D', 'N', 'D', 'D', '-', 'A'],\n",
       " ['-', '-', '-', 'D', 'A', 'D', 'A'],\n",
       " ['-', 'N', 'N', 'D', 'N', 'D', '-'],\n",
       " ['N', 'N', 'A', 'N', '-', '-', 'N'],\n",
       " ['-', 'D', 'A', '-', 'N', 'A', '-'],\n",
       " ['A', 'N', '-', '-', 'A', 'A', 'N'],\n",
       " ['-', 'N', 'A', 'D', 'D', '-', 'A']]"
      ]
     },
     "execution_count": 233,
     "metadata": {},
     "output_type": "execute_result"
    }
   ],
   "source": [
    "input_solution"
   ]
  },
  {
   "cell_type": "code",
   "execution_count": 232,
   "metadata": {},
   "outputs": [
    {
     "name": "stdout",
     "output_type": "stream",
     "text": [
      "['A', '-', '-', '-', '-', 'N', '-', 'A', '-'] [2, 2, 2]\n",
      "['-', '-', '-', '-', '-', '-'] ['D', 'D', 'N']\n"
     ]
    },
    {
     "data": {
      "text/plain": [
       "['A', 'D', 'D', 'N', '-', 'N', '-', 'A', '-']"
      ]
     },
     "execution_count": 232,
     "metadata": {},
     "output_type": "execute_result"
    }
   ],
   "source": [
    "adapt_solution_day(transpose_matrix(input_solution)[:][0], \n",
    "                   transpose_matrix(input_demand)[0][:])"
   ]
  },
  {
   "cell_type": "code",
   "execution_count": 258,
   "metadata": {},
   "outputs": [
    {
     "name": "stdout",
     "output_type": "stream",
     "text": [
      "[['A', 'N', 'A', 'N', 'D', '-', '-'],\n",
      " ['-', 'N', 'D', 'N', 'A', 'A', 'N'],\n",
      " ['-', 'D', 'N', 'D', 'D', '-', 'A'],\n",
      " ['-', '-', '-', 'D', 'A', 'D', 'A'],\n",
      " ['-', 'N', 'N', 'D', 'N', 'D', '-'],\n",
      " ['N', 'N', 'A', 'N', '-', '-', 'N'],\n",
      " ['-', 'D', 'A', '-', 'N', 'A', '-'],\n",
      " ['A', 'N', '-', '-', 'A', 'A', 'N'],\n",
      " ['-', 'N', 'A', 'D', 'D', '-', 'A']]\n",
      "['-', '-', '-', '-', '-', '-'] ['D', 'D', 'N']\n",
      "['N', '-'] ['A', 'A']\n",
      "['A', '-', '-'] ['D']\n",
      "['D', 'N', '-', '-'] ['A', 'A', 'A']\n",
      "['D', '-'] []\n",
      "['-', '-', '-', '-'] ['N', 'N']\n",
      "['A', 'N', '-', '-', '-'] ['D', 'D']\n"
     ]
    },
    {
     "data": {
      "text/plain": [
       "False"
      ]
     },
     "execution_count": 258,
     "metadata": {},
     "output_type": "execute_result"
    }
   ],
   "source": [
    "demand_constraint(transform(input_solution, input_demand, 3), input_data) == True"
   ]
  },
  {
   "cell_type": "code",
   "execution_count": 12,
   "metadata": {},
   "outputs": [],
   "source": [
    "input_data = {'length_of_schedule': 7,\n",
    " 'number_of_employees': 9,\n",
    " 'number_of_shifts': 3,\n",
    " 'temporal_requirements_matrix': [[2, 2, 2, 2, 2, 2, 2],\n",
    "  [2, 2, 2, 3, 3, 3, 2],\n",
    "  [2, 2, 2, 2, 2, 2, 2]],\n",
    " 'shift_name': ['D', 'A', 'N'],\n",
    " 'start_shift': [[3, 6, 0], [8, 4, 0], [1, 3, 2, 0]],\n",
    " 'length_shift': [[4, 8, 0], [4, 8, 0], [4, 8, 0]],\n",
    " 'min_length_of_blocks': [2, 2, 2],\n",
    " 'max_length_of_blocks': [7, 6, 4],\n",
    " 'min_days_off': 2,\n",
    " 'max_days_off': 4,\n",
    " 'min_length_work_blocks': 4,\n",
    " 'max_length_work_blocks': 7,\n",
    " 'nr_sequences_of_length_2': 3,\n",
    " 'nr_sequences_of_length_3': 0,\n",
    " 'not_allowed_shift_sequences_2': [['N', 'D'], ['N', 'A'], ['A', 'D']],\n",
    " 'not_allowed_shift_sequences_3': []}"
   ]
  }
 ],
 "metadata": {
  "kernelspec": {
   "display_name": "Python 3",
   "language": "python",
   "name": "python3"
  },
  "language_info": {
   "codemirror_mode": {
    "name": "ipython",
    "version": 3
   },
   "file_extension": ".py",
   "mimetype": "text/x-python",
   "name": "python",
   "nbconvert_exporter": "python",
   "pygments_lexer": "ipython3",
   "version": "3.8.5"
  }
 },
 "nbformat": 4,
 "nbformat_minor": 4
}
