{
 "cells": [
  {
   "cell_type": "code",
   "execution_count": 1,
   "metadata": {},
   "outputs": [],
   "source": [
    "from all_functions import *"
   ]
  },
  {
   "cell_type": "code",
   "execution_count": 2,
   "metadata": {},
   "outputs": [
    {
     "data": {
      "text/plain": [
       "[['-', 'N', 'D', 'N', 'A', 'A', 'A'],\n",
       " ['D', 'N', 'N', 'D', '-', 'A', '-'],\n",
       " ['A', 'D', 'A', 'N', 'A', 'A', '-'],\n",
       " ['-', 'D', 'N', 'A', 'N', 'D', 'D'],\n",
       " ['-', '-', 'A', 'D', 'D', 'D', '-'],\n",
       " ['-', 'A', 'N', '-', '-', 'D', 'D'],\n",
       " ['N', '-', '-', '-', 'N', 'D', 'A'],\n",
       " ['-', 'N', '-', 'A', 'A', '-', 'D'],\n",
       " ['A', 'D', 'A', 'D', 'D', 'D', 'A']]"
      ]
     },
     "execution_count": 2,
     "metadata": {},
     "output_type": "execute_result"
    }
   ],
   "source": [
    "input_data = read_data(get_examples()[0])\n",
    "\n",
    "solution_1 = generate_random_solution(input_data)\n",
    "solution_1"
   ]
  },
  {
   "cell_type": "code",
   "execution_count": 3,
   "metadata": {},
   "outputs": [
    {
     "data": {
      "text/plain": [
       "[['D', 'A', 'D', 'N', 'A', 'A', 'N'],\n",
       " ['D', 'N', 'D', 'A', '-', 'A', 'N'],\n",
       " ['A', 'D', 'A', 'N', 'A', 'A', '-'],\n",
       " ['N', 'D', 'N', 'A', 'N', 'N', 'D'],\n",
       " ['-', '-', 'A', 'D', 'D', 'D', '-'],\n",
       " ['-', 'A', 'N', '-', '-', 'D', 'D'],\n",
       " ['N', '-', '-', '-', 'N', 'D', 'A'],\n",
       " ['-', 'N', '-', 'A', 'A', 'N', 'D'],\n",
       " ['A', 'D', 'A', 'D', 'D', 'D', 'A']]"
      ]
     },
     "execution_count": 3,
     "metadata": {},
     "output_type": "execute_result"
    }
   ],
   "source": [
    "solution_2 = move_all_demand_constraint(solution_1, input_data)\n",
    "solution_2"
   ]
  },
  {
   "cell_type": "code",
   "execution_count": 4,
   "metadata": {},
   "outputs": [
    {
     "data": {
      "text/plain": [
       "[[2, 3, 2, 2, 2, 4, 3], [2, 2, 3, 3, 3, 3, 2], [2, 2, 2, 2, 2, 2, 2]]"
      ]
     },
     "execution_count": 4,
     "metadata": {},
     "output_type": "execute_result"
    }
   ],
   "source": [
    "solution_to_demand(solution_2, 3)"
   ]
  },
  {
   "cell_type": "code",
   "execution_count": 5,
   "metadata": {
    "scrolled": true
   },
   "outputs": [
    {
     "data": {
      "text/plain": [
       "True"
      ]
     },
     "execution_count": 5,
     "metadata": {},
     "output_type": "execute_result"
    }
   ],
   "source": [
    "demand_constraint(solution_2, input_data)"
   ]
  },
  {
   "cell_type": "code",
   "execution_count": 6,
   "metadata": {},
   "outputs": [],
   "source": [
    "def calibrate_parameter_per_example(example):\n",
    "    for termination_condition in [10**x for x in range(1, 4)]:\n",
    "        for halting_condition in [10**x for x in range(1, 4)]:\n",
    "            for T_max in [10**x for x in range(1, 5)]:\n",
    "                for r in range(10, 100, 10):\n",
    "                    params = T_max, r, termination_condition, halting_condition, False\n",
    "                    eval_function = eval_solution_4\n",
    "                    best_solution = test_SA_per_example(example, eval_function, *params)\n",
    "                    if eval_function(best_solution, input_data) >= 90:\n",
    "                        pprint(report_solution(best_solution, read_data(example)))\n",
    "                        print(f'Last solution: {eval_function(best_solution, input_data)}')\n",
    "                        pprint(best_solution)\n",
    "                        print(f'params: T_max={T_max}, r={r/100}, termination_condition={termination_condition}, halting_condition={halting_condition}')\n",
    "                        print()"
   ]
  },
  {
   "cell_type": "code",
   "execution_count": 7,
   "metadata": {
    "scrolled": true
   },
   "outputs": [
    {
     "name": "stdout",
     "output_type": "stream",
     "text": [
      "{'day_off_constraint': False,\n",
      " 'demand_afternoon_constraint': True,\n",
      " 'demand_constraint': True,\n",
      " 'demand_day_constraint': True,\n",
      " 'demand_night_constraint': True,\n",
      " 'forbidden_constraint2': True,\n",
      " 'forbidden_constraint3': True,\n",
      " 'length_work_blocks_constraint': True}\n",
      "Last solution: 90\n",
      "[['D', 'D', 'D', 'D', 'D', 'D', 'D'],\n",
      " ['A', '-', 'D', 'D', 'D', 'D', 'A'],\n",
      " ['D', 'A', 'N', 'N', 'N', '-', 'D'],\n",
      " ['D', 'A', 'A', 'A', 'A', 'A', 'N'],\n",
      " ['A', 'N', 'N', 'N', '-', 'N', 'N'],\n",
      " ['N', 'N', 'N', 'N', '-', 'A', 'N'],\n",
      " ['D', 'A', 'A', 'A', 'N', 'N', '-'],\n",
      " ['-', 'D', '-', 'A', 'A', 'A', 'A'],\n",
      " ['N', 'N', '-', 'A', 'A', 'A', 'A']]\n",
      "params: T_max=1000, r=0.9, termination_condition=100, halting_condition=10\n",
      "\n",
      "{'day_off_constraint': False,\n",
      " 'demand_afternoon_constraint': True,\n",
      " 'demand_constraint': True,\n",
      " 'demand_day_constraint': True,\n",
      " 'demand_night_constraint': True,\n",
      " 'forbidden_constraint2': True,\n",
      " 'forbidden_constraint3': True,\n",
      " 'length_work_blocks_constraint': True}\n",
      "Last solution: 90\n",
      "[['D', 'D', 'D', 'D', 'D', 'D', 'D'],\n",
      " ['A', 'A', 'A', 'A', 'A', 'A', 'A'],\n",
      " ['-', 'D', 'A', 'A', 'A', 'A', 'A'],\n",
      " ['D', 'D', 'D', 'D', 'D', 'D', 'D'],\n",
      " ['-', 'A', '-', 'A', 'A', 'A', 'N'],\n",
      " ['N', 'N', 'N', 'N', 'N', 'N', '-'],\n",
      " ['A', '-', 'N', 'N', 'N', 'N', '-'],\n",
      " ['N', '-', '-', 'N', 'N', 'N', 'N'],\n",
      " ['N', 'N', 'N', 'N', 'N', '-', 'N']]\n",
      "params: T_max=100, r=0.4, termination_condition=100, halting_condition=100\n",
      "\n",
      "{'day_off_constraint': False,\n",
      " 'demand_afternoon_constraint': True,\n",
      " 'demand_constraint': True,\n",
      " 'demand_day_constraint': True,\n",
      " 'demand_night_constraint': True,\n",
      " 'forbidden_constraint2': True,\n",
      " 'forbidden_constraint3': True,\n",
      " 'length_work_blocks_constraint': True}\n",
      "Last solution: 90\n",
      "[['N', '-', 'D', 'D', 'D', 'D', 'D'],\n",
      " ['D', 'D', 'D', 'D', 'D', 'D', 'D'],\n",
      " ['D', '-', 'D', 'D', 'D', 'A', 'A'],\n",
      " ['N', 'N', 'N', 'N', 'N', 'N', '-'],\n",
      " ['A', '-', '-', 'A', 'A', 'A', 'A'],\n",
      " ['-', 'D', 'A', 'A', 'A', 'N', '-'],\n",
      " ['A', 'N', 'N', 'N', 'N', '-', '-'],\n",
      " ['-', 'A', 'A', 'A', 'A', 'A', 'N'],\n",
      " ['-', 'A', '-', 'N', 'N', 'N', 'N']]\n",
      "params: T_max=100, r=0.6, termination_condition=1000, halting_condition=10\n",
      "\n",
      "{'day_off_constraint': False,\n",
      " 'demand_afternoon_constraint': True,\n",
      " 'demand_constraint': True,\n",
      " 'demand_day_constraint': True,\n",
      " 'demand_night_constraint': True,\n",
      " 'forbidden_constraint2': True,\n",
      " 'forbidden_constraint3': True,\n",
      " 'length_work_blocks_constraint': True}\n",
      "Last solution: 90\n",
      "[['-', 'N', '-', 'A', 'A', 'A', 'N'],\n",
      " ['D', 'D', 'D', 'A', 'A', 'A', 'A'],\n",
      " ['A', 'A', 'A', 'N', '-', 'N', 'N'],\n",
      " ['-', 'A', 'N', 'N', 'N', 'N', '-'],\n",
      " ['D', 'D', 'D', 'N', '-', '-', 'D'],\n",
      " ['A', '-', 'A', 'A', 'A', 'A', '-'],\n",
      " ['N', '-', '-', 'D', 'D', 'D', 'A'],\n",
      " ['N', '-', '-', 'D', 'D', 'D', 'D'],\n",
      " ['-', 'N', 'N', 'N', 'N', '-', 'D']]\n",
      "params: T_max=100, r=0.8, termination_condition=1000, halting_condition=10\n",
      "\n",
      "{'day_off_constraint': False,\n",
      " 'demand_afternoon_constraint': True,\n",
      " 'demand_constraint': True,\n",
      " 'demand_day_constraint': True,\n",
      " 'demand_night_constraint': True,\n",
      " 'forbidden_constraint2': True,\n",
      " 'forbidden_constraint3': True,\n",
      " 'length_work_blocks_constraint': True}\n",
      "Last solution: 90\n",
      "[['-', 'N', '-', 'A', 'A', 'A', 'A'],\n",
      " ['D', 'D', 'D', 'D', 'D', 'D', 'D'],\n",
      " ['D', 'A', 'A', 'A', 'A', 'A', 'A'],\n",
      " ['N', '-', '-', 'D', 'D', 'D', 'D'],\n",
      " ['A', 'N', '-', 'D', 'A', 'N', 'N'],\n",
      " ['N', '-', 'N', 'N', 'N', 'N', 'N'],\n",
      " ['-', 'D', 'N', 'N', 'N', 'N', '-'],\n",
      " ['D', 'A', 'A', 'A', '-', 'A', '-'],\n",
      " ['A', '-', 'D', 'D', 'N', 'N', '-']]\n",
      "params: T_max=1000, r=0.4, termination_condition=1000, halting_condition=10\n",
      "\n",
      "{'day_off_constraint': False,\n",
      " 'demand_afternoon_constraint': True,\n",
      " 'demand_constraint': True,\n",
      " 'demand_day_constraint': True,\n",
      " 'demand_night_constraint': True,\n",
      " 'forbidden_constraint2': True,\n",
      " 'forbidden_constraint3': True,\n",
      " 'length_work_blocks_constraint': True}\n",
      "Last solution: 90\n",
      "[['A', 'A', 'A', 'A', 'A', 'A', 'A'],\n",
      " ['D', 'D', 'D', 'D', 'D', 'D', 'D'],\n",
      " ['-', 'D', 'D', 'A', 'A', 'A', 'A'],\n",
      " ['D', 'D', 'D', 'D', 'D', 'D', 'D'],\n",
      " ['D', 'D', 'D', 'D', '-', 'A', 'N'],\n",
      " ['-', 'A', 'A', 'A', 'N', 'N', '-'],\n",
      " ['A', 'N', 'N', 'N', 'N', 'N', '-'],\n",
      " ['N', 'N', 'N', 'N', 'N', 'N', 'N'],\n",
      " ['N', '-', '-', 'A', 'A', 'N', 'N']]\n",
      "params: T_max=1000, r=0.6, termination_condition=1000, halting_condition=10\n",
      "\n",
      "{'day_off_constraint': False,\n",
      " 'demand_afternoon_constraint': True,\n",
      " 'demand_constraint': True,\n",
      " 'demand_day_constraint': True,\n",
      " 'demand_night_constraint': True,\n",
      " 'forbidden_constraint2': True,\n",
      " 'forbidden_constraint3': True,\n",
      " 'length_work_blocks_constraint': True}\n",
      "Last solution: 90\n",
      "[['D', '-', 'D', 'D', 'D', 'D', 'D'],\n",
      " ['A', 'A', 'A', 'A', 'A', 'A', 'A'],\n",
      " ['N', 'N', 'N', 'N', '-', 'D', 'D'],\n",
      " ['D', 'A', 'A', 'A', 'A', 'A', 'N'],\n",
      " ['-', 'D', 'A', 'A', 'A', '-', 'A'],\n",
      " ['D', 'D', '-', 'N', 'N', 'N', 'N'],\n",
      " ['N', 'N', 'N', 'N', 'N', 'N', 'N'],\n",
      " ['-', 'D', 'D', 'D', 'D', 'A', '-'],\n",
      " ['A', '-', 'N', 'N', 'N', 'N', '-']]\n",
      "params: T_max=1000, r=0.7, termination_condition=1000, halting_condition=10\n",
      "\n",
      "{'day_off_constraint': False,\n",
      " 'demand_afternoon_constraint': True,\n",
      " 'demand_constraint': True,\n",
      " 'demand_day_constraint': True,\n",
      " 'demand_night_constraint': True,\n",
      " 'forbidden_constraint2': True,\n",
      " 'forbidden_constraint3': True,\n",
      " 'length_work_blocks_constraint': True}\n",
      "Last solution: 90\n",
      "[['D', 'D', 'D', 'D', 'D', 'D', 'A'],\n",
      " ['N', 'N', 'N', 'N', 'N', 'N', 'N'],\n",
      " ['-', 'D', 'D', 'D', 'D', 'D', 'D'],\n",
      " ['N', 'N', 'N', 'N', '-', 'A', 'A'],\n",
      " ['-', 'D', 'A', 'A', 'A', 'A', '-'],\n",
      " ['D', 'D', '-', 'A', 'A', 'A', 'N'],\n",
      " ['D', 'D', 'N', 'N', 'N', '-', '-'],\n",
      " ['A', 'A', 'A', 'A', '-', '-', 'D'],\n",
      " ['A', 'A', '-', 'A', 'A', 'N', 'N']]\n",
      "params: T_max=10000, r=0.7, termination_condition=1000, halting_condition=10\n",
      "\n",
      "{'day_off_constraint': False,\n",
      " 'demand_afternoon_constraint': True,\n",
      " 'demand_constraint': True,\n",
      " 'demand_day_constraint': True,\n",
      " 'demand_night_constraint': True,\n",
      " 'forbidden_constraint2': True,\n",
      " 'forbidden_constraint3': True,\n",
      " 'length_work_blocks_constraint': True}\n",
      "Last solution: 90\n",
      "[['A', 'A', '-', 'A', 'A', 'A', 'A'],\n",
      " ['N', 'N', 'N', 'N', '-', 'D', 'N'],\n",
      " ['N', '-', '-', 'D', 'D', 'D', 'N'],\n",
      " ['A', '-', '-', 'D', 'D', 'A', 'N'],\n",
      " ['D', 'N', 'N', 'N', 'N', 'N', 'N'],\n",
      " ['D', 'D', 'A', 'A', 'N', 'N', 'N'],\n",
      " ['-', 'A', 'A', 'A', 'A', 'A', 'A'],\n",
      " ['-', 'D', 'D', 'D', 'A', '-', 'D'],\n",
      " ['D', 'D', 'D', 'D', '-', '-', 'D']]\n",
      "params: T_max=100, r=0.2, termination_condition=1000, halting_condition=100\n",
      "\n",
      "{'day_off_constraint': False,\n",
      " 'demand_afternoon_constraint': True,\n",
      " 'demand_constraint': True,\n",
      " 'demand_day_constraint': True,\n",
      " 'demand_night_constraint': True,\n",
      " 'forbidden_constraint2': True,\n",
      " 'forbidden_constraint3': True,\n",
      " 'length_work_blocks_constraint': True}\n",
      "Last solution: 90\n",
      "[['N', 'N', '-', 'D', 'D', 'D', 'D'],\n",
      " ['N', 'N', '-', 'A', 'A', 'A', 'A'],\n",
      " ['-', 'D', 'A', 'A', 'A', 'A', 'A'],\n",
      " ['D', 'D', 'D', 'D', 'D', 'D', 'D'],\n",
      " ['-', 'A', 'A', 'A', 'A', 'A', '-'],\n",
      " ['A', '-', 'D', 'N', 'N', 'N', '-'],\n",
      " ['D', '-', '-', 'N', 'N', 'N', 'N'],\n",
      " ['-', 'A', 'N', 'N', 'N', 'N', '-'],\n",
      " ['A', 'A', 'N', 'N', 'N', '-', 'N']]\n",
      "params: T_max=100, r=0.4, termination_condition=1000, halting_condition=100\n",
      "\n",
      "{'day_off_constraint': False,\n",
      " 'demand_afternoon_constraint': True,\n",
      " 'demand_constraint': True,\n",
      " 'demand_day_constraint': True,\n",
      " 'demand_night_constraint': True,\n",
      " 'forbidden_constraint2': True,\n",
      " 'forbidden_constraint3': True,\n",
      " 'length_work_blocks_constraint': True}\n",
      "Last solution: 90\n",
      "[['D', 'A', 'A', 'A', '-', 'D', 'D'],\n",
      " ['N', 'N', 'N', 'N', '-', 'A', 'A'],\n",
      " ['D', 'D', '-', 'A', 'A', 'A', 'A'],\n",
      " ['-', 'D', 'D', 'A', 'A', 'A', 'N'],\n",
      " ['N', 'N', '-', 'D', 'D', 'D', 'N'],\n",
      " ['D', 'A', 'N', 'N', 'N', 'N', 'N'],\n",
      " ['D', 'D', 'D', 'D', 'D', 'D', 'D'],\n",
      " ['A', 'A', 'A', 'A', 'A', '-', 'N'],\n",
      " ['A', 'A', 'A', 'N', 'N', 'N', '-']]\n",
      "params: T_max=100, r=0.7, termination_condition=1000, halting_condition=100\n",
      "\n",
      "{'day_off_constraint': False,\n",
      " 'demand_afternoon_constraint': True,\n",
      " 'demand_constraint': True,\n",
      " 'demand_day_constraint': True,\n",
      " 'demand_night_constraint': True,\n",
      " 'forbidden_constraint2': True,\n",
      " 'forbidden_constraint3': True,\n",
      " 'length_work_blocks_constraint': True}\n",
      "Last solution: 90\n",
      "[['A', '-', 'D', 'A', 'A', 'A', 'A'],\n",
      " ['A', 'A', 'A', 'A', '-', 'D', 'D'],\n",
      " ['D', 'N', '-', 'D', 'D', 'D', 'D'],\n",
      " ['D', 'A', 'A', 'N', 'N', 'N', 'N'],\n",
      " ['-', 'D', 'D', 'D', 'A', 'A', '-'],\n",
      " ['-', 'D', 'D', 'A', 'A', 'A', '-'],\n",
      " ['N', 'N', 'N', 'N', 'N', '-', '-'],\n",
      " ['N', '-', '-', 'D', 'D', 'D', 'A'],\n",
      " ['-', '-', 'N', 'N', 'N', 'N', 'N']]\n",
      "params: T_max=1000, r=0.5, termination_condition=1000, halting_condition=100\n",
      "\n"
     ]
    },
    {
     "name": "stdout",
     "output_type": "stream",
     "text": [
      "{'day_off_constraint': False,\n",
      " 'demand_afternoon_constraint': True,\n",
      " 'demand_constraint': True,\n",
      " 'demand_day_constraint': True,\n",
      " 'demand_night_constraint': True,\n",
      " 'forbidden_constraint2': True,\n",
      " 'forbidden_constraint3': True,\n",
      " 'length_work_blocks_constraint': True}\n",
      "Last solution: 90\n",
      "[['A', 'A', 'A', 'A', 'A', 'A', 'A'],\n",
      " ['A', 'A', 'A', 'A', 'A', 'A', '-'],\n",
      " ['D', 'D', 'D', 'D', 'A', 'N', '-'],\n",
      " ['-', 'N', '-', 'D', 'D', 'A', 'N'],\n",
      " ['-', '-', 'D', 'D', 'D', 'D', 'D'],\n",
      " ['N', '-', 'N', 'N', 'N', 'N', 'N'],\n",
      " ['D', 'D', 'D', 'D', '-', '-', 'A'],\n",
      " ['-', 'D', 'D', 'A', 'N', '-', 'D'],\n",
      " ['N', 'N', 'N', 'N', '-', 'D', '-']]\n",
      "params: T_max=1000, r=0.8, termination_condition=1000, halting_condition=100\n",
      "\n",
      "{'day_off_constraint': False,\n",
      " 'demand_afternoon_constraint': True,\n",
      " 'demand_constraint': True,\n",
      " 'demand_day_constraint': True,\n",
      " 'demand_night_constraint': True,\n",
      " 'forbidden_constraint2': True,\n",
      " 'forbidden_constraint3': True,\n",
      " 'length_work_blocks_constraint': True}\n",
      "Last solution: 90\n",
      "[['D', 'A', 'A', 'A', 'A', 'A', 'A'],\n",
      " ['N', 'N', 'N', 'N', 'N', '-', 'N'],\n",
      " ['A', 'A', 'A', 'A', 'N', 'N', 'N'],\n",
      " ['A', '-', 'N', 'N', 'N', 'N', '-'],\n",
      " ['-', 'D', 'D', 'A', 'A', 'A', '-'],\n",
      " ['-', 'D', '-', 'D', 'D', 'D', 'D'],\n",
      " ['N', '-', 'D', 'D', 'A', 'A', '-'],\n",
      " ['D', '-', '-', 'D', 'D', 'D', 'A'],\n",
      " ['-', 'N', '-', 'D', 'D', 'D', 'D']]\n",
      "params: T_max=10000, r=0.4, termination_condition=1000, halting_condition=100\n",
      "\n",
      "{'day_off_constraint': False,\n",
      " 'demand_afternoon_constraint': True,\n",
      " 'demand_constraint': True,\n",
      " 'demand_day_constraint': True,\n",
      " 'demand_night_constraint': True,\n",
      " 'forbidden_constraint2': True,\n",
      " 'forbidden_constraint3': True,\n",
      " 'length_work_blocks_constraint': True}\n",
      "Last solution: 90\n",
      "[['-', 'D', '-', 'D', 'D', 'D', 'D'],\n",
      " ['D', 'D', 'D', 'D', 'A', 'A', 'A'],\n",
      " ['A', 'A', 'A', 'A', 'A', 'A', 'N'],\n",
      " ['D', 'D', 'A', 'A', 'A', 'A', 'A'],\n",
      " ['-', 'N', 'N', 'N', 'N', 'N', 'N'],\n",
      " ['N', 'N', '-', 'D', 'D', 'N', 'N'],\n",
      " ['-', 'D', 'N', 'N', 'N', 'N', '-'],\n",
      " ['N', '-', 'D', 'A', 'N', 'N', '-'],\n",
      " ['A', 'A', 'N', 'N', '-', 'D', 'D']]\n",
      "params: T_max=10000, r=0.7, termination_condition=1000, halting_condition=100\n",
      "\n",
      "{'day_off_constraint': False,\n",
      " 'demand_afternoon_constraint': True,\n",
      " 'demand_constraint': True,\n",
      " 'demand_day_constraint': True,\n",
      " 'demand_night_constraint': True,\n",
      " 'forbidden_constraint2': True,\n",
      " 'forbidden_constraint3': True,\n",
      " 'length_work_blocks_constraint': True}\n",
      "Last solution: 90\n",
      "[['-', 'D', 'D', 'D', 'A', 'A', 'A'],\n",
      " ['-', 'N', '-', 'D', 'A', 'A', 'N'],\n",
      " ['-', 'A', 'A', 'A', 'N', 'N', 'N'],\n",
      " ['N', 'N', 'N', 'N', '-', '-', 'D'],\n",
      " ['D', 'D', 'D', 'A', '-', '-', 'N'],\n",
      " ['N', '-', 'N', 'N', 'N', 'N', '-'],\n",
      " ['A', 'A', 'A', 'A', 'A', 'A', '-'],\n",
      " ['A', '-', 'D', 'D', 'D', 'D', 'D'],\n",
      " ['D', '-', '-', 'D', 'D', 'D', 'A']]\n",
      "params: T_max=100, r=0.5, termination_condition=1000, halting_condition=1000\n",
      "\n",
      "{'day_off_constraint': False,\n",
      " 'demand_afternoon_constraint': True,\n",
      " 'demand_constraint': True,\n",
      " 'demand_day_constraint': True,\n",
      " 'demand_night_constraint': True,\n",
      " 'forbidden_constraint2': True,\n",
      " 'forbidden_constraint3': True,\n",
      " 'length_work_blocks_constraint': True}\n",
      "Last solution: 90\n",
      "[['A', 'A', 'A', 'A', 'A', 'A', 'A'],\n",
      " ['D', 'D', 'D', 'A', 'A', 'A', 'A'],\n",
      " ['D', 'D', 'D', 'D', 'D', 'D', 'D'],\n",
      " ['D', 'D', 'D', 'N', '-', 'A', 'N'],\n",
      " ['A', 'A', 'N', 'N', 'N', 'N', 'N'],\n",
      " ['N', 'N', '-', 'D', 'D', 'D', 'D'],\n",
      " ['D', 'D', 'D', 'A', 'A', '-', '-'],\n",
      " ['N', 'N', 'N', 'N', 'N', '-', '-'],\n",
      " ['D', 'D', 'A', 'N', '-', 'N', '-']]\n",
      "params: T_max=100, r=0.7, termination_condition=1000, halting_condition=1000\n",
      "\n"
     ]
    },
    {
     "ename": "KeyboardInterrupt",
     "evalue": "",
     "output_type": "error",
     "traceback": [
      "\u001b[0;31m----------------------------------\u001b[0m",
      "\u001b[0;31mKeyboardInterrupt\u001b[0mTraceback (most recent call last)",
      "\u001b[0;32m<ipython-input-7-2668c6642a4e>\u001b[0m in \u001b[0;36m<module>\u001b[0;34m\u001b[0m\n\u001b[0;32m----> 1\u001b[0;31m \u001b[0mcalibrate_parameter_per_example\u001b[0m\u001b[0;34m(\u001b[0m\u001b[0mget_examples\u001b[0m\u001b[0;34m(\u001b[0m\u001b[0;34m)\u001b[0m\u001b[0;34m[\u001b[0m\u001b[0;36m0\u001b[0m\u001b[0;34m]\u001b[0m\u001b[0;34m)\u001b[0m\u001b[0;34m\u001b[0m\u001b[0;34m\u001b[0m\u001b[0m\n\u001b[0m",
      "\u001b[0;32m<ipython-input-6-174843e12aa5>\u001b[0m in \u001b[0;36mcalibrate_parameter_per_example\u001b[0;34m(example)\u001b[0m\n\u001b[1;32m      6\u001b[0m                     \u001b[0mparams\u001b[0m \u001b[0;34m=\u001b[0m \u001b[0mT_max\u001b[0m\u001b[0;34m,\u001b[0m \u001b[0mr\u001b[0m\u001b[0;34m,\u001b[0m \u001b[0mtermination_condition\u001b[0m\u001b[0;34m,\u001b[0m \u001b[0mhalting_condition\u001b[0m\u001b[0;34m,\u001b[0m \u001b[0;32mFalse\u001b[0m\u001b[0;34m\u001b[0m\u001b[0;34m\u001b[0m\u001b[0m\n\u001b[1;32m      7\u001b[0m                     \u001b[0meval_function\u001b[0m \u001b[0;34m=\u001b[0m \u001b[0meval_solution_4\u001b[0m\u001b[0;34m\u001b[0m\u001b[0;34m\u001b[0m\u001b[0m\n\u001b[0;32m----> 8\u001b[0;31m                     \u001b[0mbest_solution\u001b[0m \u001b[0;34m=\u001b[0m \u001b[0mtest_SA_per_example\u001b[0m\u001b[0;34m(\u001b[0m\u001b[0mexample\u001b[0m\u001b[0;34m,\u001b[0m \u001b[0meval_function\u001b[0m\u001b[0;34m,\u001b[0m \u001b[0;34m*\u001b[0m\u001b[0mparams\u001b[0m\u001b[0;34m)\u001b[0m\u001b[0;34m\u001b[0m\u001b[0;34m\u001b[0m\u001b[0m\n\u001b[0m\u001b[1;32m      9\u001b[0m                     \u001b[0;32mif\u001b[0m \u001b[0meval_function\u001b[0m\u001b[0;34m(\u001b[0m\u001b[0mbest_solution\u001b[0m\u001b[0;34m,\u001b[0m \u001b[0minput_data\u001b[0m\u001b[0;34m)\u001b[0m \u001b[0;34m>=\u001b[0m \u001b[0;36m90\u001b[0m\u001b[0;34m:\u001b[0m\u001b[0;34m\u001b[0m\u001b[0;34m\u001b[0m\u001b[0m\n\u001b[1;32m     10\u001b[0m                         \u001b[0mpprint\u001b[0m\u001b[0;34m(\u001b[0m\u001b[0mreport_solution\u001b[0m\u001b[0;34m(\u001b[0m\u001b[0mbest_solution\u001b[0m\u001b[0;34m,\u001b[0m \u001b[0mread_data\u001b[0m\u001b[0;34m(\u001b[0m\u001b[0mexample\u001b[0m\u001b[0;34m)\u001b[0m\u001b[0;34m)\u001b[0m\u001b[0;34m)\u001b[0m\u001b[0;34m\u001b[0m\u001b[0;34m\u001b[0m\u001b[0m\n",
      "\u001b[0;32m~/repos/pssai2/all_functions.py\u001b[0m in \u001b[0;36mtest_SA_per_example\u001b[0;34m(example, eval_function, T_max, r, termination_condition, halting_condition, show_non_optimal)\u001b[0m\n\u001b[1;32m    690\u001b[0m         \u001b[0mprint\u001b[0m\u001b[0;34m(\u001b[0m\u001b[0mexample\u001b[0m\u001b[0;34m)\u001b[0m\u001b[0;34m\u001b[0m\u001b[0;34m\u001b[0m\u001b[0m\n\u001b[1;32m    691\u001b[0m     \u001b[0minput_data\u001b[0m \u001b[0;34m=\u001b[0m \u001b[0mread_data\u001b[0m\u001b[0;34m(\u001b[0m\u001b[0mexample\u001b[0m\u001b[0;34m)\u001b[0m\u001b[0;34m\u001b[0m\u001b[0;34m\u001b[0m\u001b[0m\n\u001b[0;32m--> 692\u001b[0;31m     \u001b[0msolution\u001b[0m \u001b[0;34m=\u001b[0m \u001b[0msimulated_annealing\u001b[0m\u001b[0;34m(\u001b[0m\u001b[0minput_data\u001b[0m\u001b[0;34m,\u001b[0m \u001b[0meval_function\u001b[0m\u001b[0;34m,\u001b[0m \u001b[0mT_max\u001b[0m\u001b[0;34m,\u001b[0m \u001b[0mr\u001b[0m\u001b[0;34m,\u001b[0m \u001b[0mtermination_condition\u001b[0m\u001b[0;34m,\u001b[0m \u001b[0mhalting_condition\u001b[0m\u001b[0;34m)\u001b[0m\u001b[0;34m\u001b[0m\u001b[0;34m\u001b[0m\u001b[0m\n\u001b[0m\u001b[1;32m    693\u001b[0m     \u001b[0mbest_solution\u001b[0m \u001b[0;34m=\u001b[0m \u001b[0mdeepcopy\u001b[0m\u001b[0;34m(\u001b[0m\u001b[0msolution\u001b[0m\u001b[0;34m)\u001b[0m\u001b[0;34m\u001b[0m\u001b[0;34m\u001b[0m\u001b[0m\n\u001b[1;32m    694\u001b[0m     \u001b[0;32mif\u001b[0m \u001b[0;34m\"Not satified in the given time\"\u001b[0m \u001b[0;32mnot\u001b[0m \u001b[0;32min\u001b[0m \u001b[0msolution\u001b[0m\u001b[0;34m:\u001b[0m\u001b[0;34m\u001b[0m\u001b[0;34m\u001b[0m\u001b[0m\n",
      "\u001b[0;32m~/repos/pssai2/all_functions.py\u001b[0m in \u001b[0;36msimulated_annealing\u001b[0;34m(input_data, eval_function, T_max, r, termination_condition, halting_condition)\u001b[0m\n\u001b[1;32m    641\u001b[0m \u001b[0;34m\u001b[0m\u001b[0m\n\u001b[1;32m    642\u001b[0m             \u001b[0mmove_choice\u001b[0m \u001b[0;34m=\u001b[0m \u001b[0mrandom\u001b[0m\u001b[0;34m.\u001b[0m\u001b[0mchoice\u001b[0m\u001b[0;34m(\u001b[0m\u001b[0mmoves\u001b[0m\u001b[0;34m)\u001b[0m\u001b[0;34m\u001b[0m\u001b[0;34m\u001b[0m\u001b[0m\n\u001b[0;32m--> 643\u001b[0;31m             \u001b[0mmove\u001b[0m \u001b[0;34m=\u001b[0m \u001b[0mmove_choice\u001b[0m\u001b[0;34m(\u001b[0m\u001b[0msolution\u001b[0m\u001b[0;34m,\u001b[0m \u001b[0minput_data\u001b[0m\u001b[0;34m)\u001b[0m\u001b[0;34m\u001b[0m\u001b[0;34m\u001b[0m\u001b[0m\n\u001b[0m\u001b[1;32m    644\u001b[0m \u001b[0;34m\u001b[0m\u001b[0m\n\u001b[1;32m    645\u001b[0m             \u001b[0;32mif\u001b[0m \u001b[0meval_function\u001b[0m\u001b[0;34m(\u001b[0m\u001b[0msolution\u001b[0m\u001b[0;34m,\u001b[0m \u001b[0minput_data\u001b[0m\u001b[0;34m)\u001b[0m \u001b[0;34m<\u001b[0m \u001b[0meval_function\u001b[0m\u001b[0;34m(\u001b[0m\u001b[0mmove\u001b[0m\u001b[0;34m,\u001b[0m \u001b[0minput_data\u001b[0m\u001b[0;34m)\u001b[0m\u001b[0;34m:\u001b[0m \u001b[0msolution\u001b[0m \u001b[0;34m=\u001b[0m \u001b[0mmove\u001b[0m\u001b[0;34m\u001b[0m\u001b[0;34m\u001b[0m\u001b[0m\n",
      "\u001b[0;32m~/repos/pssai2/all_functions.py\u001b[0m in \u001b[0;36mmove_day_demand_constraint\u001b[0;34m(result, input_data)\u001b[0m\n\u001b[1;32m    251\u001b[0m \u001b[0;34m\u001b[0m\u001b[0m\n\u001b[1;32m    252\u001b[0m \u001b[0;32mdef\u001b[0m \u001b[0mmove_day_demand_constraint\u001b[0m\u001b[0;34m(\u001b[0m\u001b[0mresult\u001b[0m\u001b[0;34m,\u001b[0m \u001b[0minput_data\u001b[0m\u001b[0;34m)\u001b[0m\u001b[0;34m:\u001b[0m\u001b[0;34m\u001b[0m\u001b[0;34m\u001b[0m\u001b[0m\n\u001b[0;32m--> 253\u001b[0;31m     \u001b[0mupdated_result\u001b[0m \u001b[0;34m=\u001b[0m \u001b[0mdeepcopy\u001b[0m\u001b[0;34m(\u001b[0m\u001b[0mresult\u001b[0m\u001b[0;34m)\u001b[0m\u001b[0;34m\u001b[0m\u001b[0;34m\u001b[0m\u001b[0m\n\u001b[0m\u001b[1;32m    254\u001b[0m     \u001b[0;32mif\u001b[0m \u001b[0;32mnot\u001b[0m \u001b[0mdemand_constraint\u001b[0m\u001b[0;34m(\u001b[0m\u001b[0mupdated_result\u001b[0m\u001b[0;34m,\u001b[0m \u001b[0minput_data\u001b[0m\u001b[0;34m)\u001b[0m\u001b[0;34m:\u001b[0m\u001b[0;34m\u001b[0m\u001b[0;34m\u001b[0m\u001b[0m\n\u001b[1;32m    255\u001b[0m         \u001b[0;32mfor\u001b[0m \u001b[0md\u001b[0m \u001b[0;32min\u001b[0m \u001b[0mrange\u001b[0m\u001b[0;34m(\u001b[0m\u001b[0minput_data\u001b[0m\u001b[0;34m[\u001b[0m\u001b[0;34m'length_of_schedule'\u001b[0m\u001b[0;34m]\u001b[0m\u001b[0;34m)\u001b[0m\u001b[0;34m:\u001b[0m\u001b[0;34m\u001b[0m\u001b[0;34m\u001b[0m\u001b[0m\n",
      "\u001b[0;32m~/opt/anaconda3/lib/python3.8/copy.py\u001b[0m in \u001b[0;36mdeepcopy\u001b[0;34m(x, memo, _nil)\u001b[0m\n\u001b[1;32m    144\u001b[0m     \u001b[0mcopier\u001b[0m \u001b[0;34m=\u001b[0m \u001b[0m_deepcopy_dispatch\u001b[0m\u001b[0;34m.\u001b[0m\u001b[0mget\u001b[0m\u001b[0;34m(\u001b[0m\u001b[0mcls\u001b[0m\u001b[0;34m)\u001b[0m\u001b[0;34m\u001b[0m\u001b[0;34m\u001b[0m\u001b[0m\n\u001b[1;32m    145\u001b[0m     \u001b[0;32mif\u001b[0m \u001b[0mcopier\u001b[0m \u001b[0;32mis\u001b[0m \u001b[0;32mnot\u001b[0m \u001b[0;32mNone\u001b[0m\u001b[0;34m:\u001b[0m\u001b[0;34m\u001b[0m\u001b[0;34m\u001b[0m\u001b[0m\n\u001b[0;32m--> 146\u001b[0;31m         \u001b[0my\u001b[0m \u001b[0;34m=\u001b[0m \u001b[0mcopier\u001b[0m\u001b[0;34m(\u001b[0m\u001b[0mx\u001b[0m\u001b[0;34m,\u001b[0m \u001b[0mmemo\u001b[0m\u001b[0;34m)\u001b[0m\u001b[0;34m\u001b[0m\u001b[0;34m\u001b[0m\u001b[0m\n\u001b[0m\u001b[1;32m    147\u001b[0m     \u001b[0;32melse\u001b[0m\u001b[0;34m:\u001b[0m\u001b[0;34m\u001b[0m\u001b[0;34m\u001b[0m\u001b[0m\n\u001b[1;32m    148\u001b[0m         \u001b[0;32mif\u001b[0m \u001b[0missubclass\u001b[0m\u001b[0;34m(\u001b[0m\u001b[0mcls\u001b[0m\u001b[0;34m,\u001b[0m \u001b[0mtype\u001b[0m\u001b[0;34m)\u001b[0m\u001b[0;34m:\u001b[0m\u001b[0;34m\u001b[0m\u001b[0;34m\u001b[0m\u001b[0m\n",
      "\u001b[0;32m~/opt/anaconda3/lib/python3.8/copy.py\u001b[0m in \u001b[0;36m_deepcopy_list\u001b[0;34m(x, memo, deepcopy)\u001b[0m\n\u001b[1;32m    203\u001b[0m     \u001b[0mappend\u001b[0m \u001b[0;34m=\u001b[0m \u001b[0my\u001b[0m\u001b[0;34m.\u001b[0m\u001b[0mappend\u001b[0m\u001b[0;34m\u001b[0m\u001b[0;34m\u001b[0m\u001b[0m\n\u001b[1;32m    204\u001b[0m     \u001b[0;32mfor\u001b[0m \u001b[0ma\u001b[0m \u001b[0;32min\u001b[0m \u001b[0mx\u001b[0m\u001b[0;34m:\u001b[0m\u001b[0;34m\u001b[0m\u001b[0;34m\u001b[0m\u001b[0m\n\u001b[0;32m--> 205\u001b[0;31m         \u001b[0mappend\u001b[0m\u001b[0;34m(\u001b[0m\u001b[0mdeepcopy\u001b[0m\u001b[0;34m(\u001b[0m\u001b[0ma\u001b[0m\u001b[0;34m,\u001b[0m \u001b[0mmemo\u001b[0m\u001b[0;34m)\u001b[0m\u001b[0;34m)\u001b[0m\u001b[0;34m\u001b[0m\u001b[0;34m\u001b[0m\u001b[0m\n\u001b[0m\u001b[1;32m    206\u001b[0m     \u001b[0;32mreturn\u001b[0m \u001b[0my\u001b[0m\u001b[0;34m\u001b[0m\u001b[0;34m\u001b[0m\u001b[0m\n\u001b[1;32m    207\u001b[0m \u001b[0md\u001b[0m\u001b[0;34m[\u001b[0m\u001b[0mlist\u001b[0m\u001b[0;34m]\u001b[0m \u001b[0;34m=\u001b[0m \u001b[0m_deepcopy_list\u001b[0m\u001b[0;34m\u001b[0m\u001b[0;34m\u001b[0m\u001b[0m\n",
      "\u001b[0;32m~/opt/anaconda3/lib/python3.8/copy.py\u001b[0m in \u001b[0;36mdeepcopy\u001b[0;34m(x, memo, _nil)\u001b[0m\n\u001b[1;32m    144\u001b[0m     \u001b[0mcopier\u001b[0m \u001b[0;34m=\u001b[0m \u001b[0m_deepcopy_dispatch\u001b[0m\u001b[0;34m.\u001b[0m\u001b[0mget\u001b[0m\u001b[0;34m(\u001b[0m\u001b[0mcls\u001b[0m\u001b[0;34m)\u001b[0m\u001b[0;34m\u001b[0m\u001b[0;34m\u001b[0m\u001b[0m\n\u001b[1;32m    145\u001b[0m     \u001b[0;32mif\u001b[0m \u001b[0mcopier\u001b[0m \u001b[0;32mis\u001b[0m \u001b[0;32mnot\u001b[0m \u001b[0;32mNone\u001b[0m\u001b[0;34m:\u001b[0m\u001b[0;34m\u001b[0m\u001b[0;34m\u001b[0m\u001b[0m\n\u001b[0;32m--> 146\u001b[0;31m         \u001b[0my\u001b[0m \u001b[0;34m=\u001b[0m \u001b[0mcopier\u001b[0m\u001b[0;34m(\u001b[0m\u001b[0mx\u001b[0m\u001b[0;34m,\u001b[0m \u001b[0mmemo\u001b[0m\u001b[0;34m)\u001b[0m\u001b[0;34m\u001b[0m\u001b[0;34m\u001b[0m\u001b[0m\n\u001b[0m\u001b[1;32m    147\u001b[0m     \u001b[0;32melse\u001b[0m\u001b[0;34m:\u001b[0m\u001b[0;34m\u001b[0m\u001b[0;34m\u001b[0m\u001b[0m\n\u001b[1;32m    148\u001b[0m         \u001b[0;32mif\u001b[0m \u001b[0missubclass\u001b[0m\u001b[0;34m(\u001b[0m\u001b[0mcls\u001b[0m\u001b[0;34m,\u001b[0m \u001b[0mtype\u001b[0m\u001b[0;34m)\u001b[0m\u001b[0;34m:\u001b[0m\u001b[0;34m\u001b[0m\u001b[0;34m\u001b[0m\u001b[0m\n",
      "\u001b[0;32m~/opt/anaconda3/lib/python3.8/copy.py\u001b[0m in \u001b[0;36m_deepcopy_list\u001b[0;34m(x, memo, deepcopy)\u001b[0m\n\u001b[1;32m    203\u001b[0m     \u001b[0mappend\u001b[0m \u001b[0;34m=\u001b[0m \u001b[0my\u001b[0m\u001b[0;34m.\u001b[0m\u001b[0mappend\u001b[0m\u001b[0;34m\u001b[0m\u001b[0;34m\u001b[0m\u001b[0m\n\u001b[1;32m    204\u001b[0m     \u001b[0;32mfor\u001b[0m \u001b[0ma\u001b[0m \u001b[0;32min\u001b[0m \u001b[0mx\u001b[0m\u001b[0;34m:\u001b[0m\u001b[0;34m\u001b[0m\u001b[0;34m\u001b[0m\u001b[0m\n\u001b[0;32m--> 205\u001b[0;31m         \u001b[0mappend\u001b[0m\u001b[0;34m(\u001b[0m\u001b[0mdeepcopy\u001b[0m\u001b[0;34m(\u001b[0m\u001b[0ma\u001b[0m\u001b[0;34m,\u001b[0m \u001b[0mmemo\u001b[0m\u001b[0;34m)\u001b[0m\u001b[0;34m)\u001b[0m\u001b[0;34m\u001b[0m\u001b[0;34m\u001b[0m\u001b[0m\n\u001b[0m\u001b[1;32m    206\u001b[0m     \u001b[0;32mreturn\u001b[0m \u001b[0my\u001b[0m\u001b[0;34m\u001b[0m\u001b[0;34m\u001b[0m\u001b[0m\n\u001b[1;32m    207\u001b[0m \u001b[0md\u001b[0m\u001b[0;34m[\u001b[0m\u001b[0mlist\u001b[0m\u001b[0;34m]\u001b[0m \u001b[0;34m=\u001b[0m \u001b[0m_deepcopy_list\u001b[0m\u001b[0;34m\u001b[0m\u001b[0;34m\u001b[0m\u001b[0m\n",
      "\u001b[0;32m~/opt/anaconda3/lib/python3.8/copy.py\u001b[0m in \u001b[0;36mdeepcopy\u001b[0;34m(x, memo, _nil)\u001b[0m\n\u001b[1;32m    135\u001b[0m         \u001b[0mmemo\u001b[0m \u001b[0;34m=\u001b[0m \u001b[0;34m{\u001b[0m\u001b[0;34m}\u001b[0m\u001b[0;34m\u001b[0m\u001b[0;34m\u001b[0m\u001b[0m\n\u001b[1;32m    136\u001b[0m \u001b[0;34m\u001b[0m\u001b[0m\n\u001b[0;32m--> 137\u001b[0;31m     \u001b[0md\u001b[0m \u001b[0;34m=\u001b[0m \u001b[0mid\u001b[0m\u001b[0;34m(\u001b[0m\u001b[0mx\u001b[0m\u001b[0;34m)\u001b[0m\u001b[0;34m\u001b[0m\u001b[0;34m\u001b[0m\u001b[0m\n\u001b[0m\u001b[1;32m    138\u001b[0m     \u001b[0my\u001b[0m \u001b[0;34m=\u001b[0m \u001b[0mmemo\u001b[0m\u001b[0;34m.\u001b[0m\u001b[0mget\u001b[0m\u001b[0;34m(\u001b[0m\u001b[0md\u001b[0m\u001b[0;34m,\u001b[0m \u001b[0m_nil\u001b[0m\u001b[0;34m)\u001b[0m\u001b[0;34m\u001b[0m\u001b[0;34m\u001b[0m\u001b[0m\n\u001b[1;32m    139\u001b[0m     \u001b[0;32mif\u001b[0m \u001b[0my\u001b[0m \u001b[0;32mis\u001b[0m \u001b[0;32mnot\u001b[0m \u001b[0m_nil\u001b[0m\u001b[0;34m:\u001b[0m\u001b[0;34m\u001b[0m\u001b[0;34m\u001b[0m\u001b[0m\n",
      "\u001b[0;31mKeyboardInterrupt\u001b[0m: "
     ]
    }
   ],
   "source": [
    "calibrate_parameter_per_example(get_examples()[0])"
   ]
  },
  {
   "cell_type": "code",
   "execution_count": 12,
   "metadata": {},
   "outputs": [
    {
     "data": {
      "text/plain": [
       "[['A', 'D', 'D', 'D', 'N', 'N', '-'],\n",
       " ['-', 'D', 'N', 'N', 'D', 'D', 'A'],\n",
       " ['-', 'A', 'D', 'N', 'A', 'A', 'N'],\n",
       " ['-', 'D', 'D', 'D', 'A', '-', 'N'],\n",
       " ['A', 'A', 'D', 'N', '-', 'N', 'D'],\n",
       " ['N', 'A', 'D', '-', 'D', 'N', 'D'],\n",
       " ['N', '-', '-', 'N', 'D', 'N', 'D'],\n",
       " ['-', 'A', 'D', 'A', 'A', 'D', '-'],\n",
       " ['N', '-', 'N', 'N', 'N', 'D', '-']]"
      ]
     },
     "execution_count": 12,
     "metadata": {},
     "output_type": "execute_result"
    }
   ],
   "source": [
    "input_data = read_data(get_examples()[0])\n",
    "\n",
    "solution_1 = generate_random_solution(input_data)\n",
    "solution_1"
   ]
  },
  {
   "cell_type": "code",
   "execution_count": 222,
   "metadata": {},
   "outputs": [],
   "source": [
    "def day_off_constraint(result, input_data):\n",
    "    for e in range(input_data['number_of_employees']):\n",
    "        count_day_off = 0\n",
    "        for d in range(input_data['length_of_schedule']):\n",
    "            if result[e][d] == '-': count_day_off += 1\n",
    "        if count_day_off >= input_data['min_days_off'] and count_day_off <= input_data['max_days_off']: pass\n",
    "        else: \n",
    "            print(count_day_off, input_data['min_days_off'], input_data['max_days_off'])\n",
    "            return False\n",
    "    return True\n"
   ]
  },
  {
   "cell_type": "code",
   "execution_count": 221,
   "metadata": {},
   "outputs": [],
   "source": [
    "def move_all_day_off_constraint(result, input_data):\n",
    "    count_day_off, min_days_off, max_days_off = 0,input_data['min_days_off'],input_data['max_days_off']\n",
    "    updated_result = deepcopy(result)\n",
    "    if not day_off_constraint(updated_result, input_data):\n",
    "        code = input_data['shift_name'] + ['-']\n",
    "        for e in range(input_data['number_of_employees']):\n",
    "            count_day_off = 0\n",
    "            for d in range(input_data['length_of_schedule']):\n",
    "                if updated_result[e][d] == '-': count_day_off += 1\n",
    "            if count_day_off >= input_data['min_days_off']: pass\n",
    "            else: \n",
    "                while count_day_off <= min_days_off:\n",
    "                    updated_result[e][random.randint(0, input_data['length_of_schedule']-1)] = '-'\n",
    "                    count_day_off += 1\n",
    "            if count_day_off <= input_data['max_days_off']: pass\n",
    "            else: \n",
    "                while count_day_off >= max_days_off:\n",
    "                    updated_result[e][random.randint(0, input_data['length_of_schedule']-1)] = random.choice(list(set(code) - set('-')))            \n",
    "                    count_day_off -= 1        \n",
    "    return updated_result"
   ]
  },
  {
   "cell_type": "code",
   "execution_count": 220,
   "metadata": {},
   "outputs": [
    {
     "name": "stdout",
     "output_type": "stream",
     "text": [
      "2 2 4\n"
     ]
    },
    {
     "data": {
      "text/plain": [
       "False"
      ]
     },
     "execution_count": 220,
     "metadata": {},
     "output_type": "execute_result"
    }
   ],
   "source": [
    "day_off_constraint(move_all_day_off_constraint(solution_1, input_data), input_data)"
   ]
  },
  {
   "cell_type": "code",
   "execution_count": 45,
   "metadata": {},
   "outputs": [
    {
     "data": {
      "text/plain": [
       "[['-', 'D', 'D', 'D', 'N', 'N', '-'],\n",
       " ['-', 'D', 'N', 'N', '-', 'D', 'A'],\n",
       " ['-', 'A', 'D', '-', 'A', 'A', 'N'],\n",
       " ['-', 'D', 'D', 'D', 'A', '-', 'N'],\n",
       " ['A', 'A', 'D', '-', '-', 'N', 'D'],\n",
       " ['N', 'A', 'D', '-', 'D', '-', 'D'],\n",
       " ['N', '-', '-', 'N', 'D', 'N', 'D'],\n",
       " ['-', 'A', 'D', 'A', 'A', 'D', '-'],\n",
       " ['N', '-', 'N', 'N', 'N', 'D', '-']]"
      ]
     },
     "execution_count": 45,
     "metadata": {},
     "output_type": "execute_result"
    }
   ],
   "source": [
    "move_all_day_off_constraint(solution_1, input_data)"
   ]
  }
 ],
 "metadata": {
  "kernelspec": {
   "display_name": "Python 3",
   "language": "python",
   "name": "python3"
  },
  "language_info": {
   "codemirror_mode": {
    "name": "ipython",
    "version": 3
   },
   "file_extension": ".py",
   "mimetype": "text/x-python",
   "name": "python",
   "nbconvert_exporter": "python",
   "pygments_lexer": "ipython3",
   "version": "3.8.5"
  }
 },
 "nbformat": 4,
 "nbformat_minor": 4
}
