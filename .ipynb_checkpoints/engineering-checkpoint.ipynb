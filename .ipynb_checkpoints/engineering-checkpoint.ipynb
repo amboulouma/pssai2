{
 "cells": [
  {
   "cell_type": "code",
   "execution_count": 1,
   "metadata": {},
   "outputs": [],
   "source": [
    "from simulated_annealing import *\n",
    "from datetime import datetime"
   ]
  },
  {
   "cell_type": "code",
   "execution_count": 2,
   "metadata": {},
   "outputs": [],
   "source": [
    "def quick_SA(example):\n",
    "    input_data = read_data(example)\n",
    "    termination_condition = 1000\n",
    "    halting_condition = 10000\n",
    "    T_max = 10000\n",
    "    r = 0.99\n",
    "    params = T_max, r/100, termination_condition, halting_condition, False\n",
    "    eval_function = eval_solution\n",
    "    start_time = datetime.now()\n",
    "    best_solution = test_SA_per_example(example, eval_function, *params)\n",
    "    end_time = datetime.now()\n",
    "    pprint(report_solution(best_solution, input_data))\n",
    "    print()\n",
    "    print(f'params: Example={example}, Duration={end_time - start_time}, evaluation={eval_function(best_solution, input_data)}, T_max={T_max}, r={r/100}, termination_condition={termination_condition}, halting_condition={halting_condition}')\n",
    "    return best_solution"
   ]
  },
  {
   "cell_type": "code",
   "execution_count": 3,
   "metadata": {},
   "outputs": [],
   "source": [
    "def calibrate_parameter_per_example(example):\n",
    "    termination_condition = 1000\n",
    "    halting_condition = 1000\n",
    "    for T_max in [10**x for x in range(1, 5)]:\n",
    "        for r in range(10, 100, 10):\n",
    "            params = T_max, r/100, termination_condition, halting_condition, False\n",
    "            eval_function = eval_solution\n",
    "            start_time = datetime.now()\n",
    "            best_solution = test_SA_per_example(example, eval_function, *params)\n",
    "            end_time = datetime.now()\n",
    "            if eval_function(best_solution, input_data) >= 80:\n",
    "                pprint(report_solution(best_solution, read_data(example)))\n",
    "                print(f'params: Example={example}, Duration={end_time - start_time}, evaluation={eval_function(best_solution, input_data)}, T_max={T_max}, r={r/100}, termination_condition={termination_condition}, halting_condition={halting_condition}')\n",
    "                print()\n",
    "                \n",
    "                "
   ]
  },
  {
   "cell_type": "code",
   "execution_count": 4,
   "metadata": {
    "scrolled": true
   },
   "outputs": [
    {
     "name": "stdout",
     "output_type": "stream",
     "text": [
      "{'day_off_constraint': False,\n",
      " 'demand_afternoon_constraint': False,\n",
      " 'demand_constraint': False,\n",
      " 'demand_day_constraint': False,\n",
      " 'demand_night_constraint': False,\n",
      " 'forbidden_constraint2': False,\n",
      " 'forbidden_constraint3': True,\n",
      " 'length_work_blocks_constraint': True,\n",
      " 'max_day_off_constraint': True,\n",
      " 'max_length_of_shift_constraint': True,\n",
      " 'max_length_work_blocks_constraint': True,\n",
      " 'min_day_off_constraint': False,\n",
      " 'min_length_of_shift_constraint': True,\n",
      " 'min_length_work_blocks_constraint': True,\n",
      " 'optimization_score': 60}\n",
      "\n",
      "params: Example=rws_instances/Example1.txt, Duration=0:00:54.840022, evaluation=0, T_max=10000, r=0.009899999999999999, termination_condition=1000, halting_condition=10000\n"
     ]
    },
    {
     "data": {
      "text/plain": [
       "[['D', 'D', '-', 'N', 'A', 'A', 'N'],\n",
       " ['D', 'D', 'N', 'A', 'A', 'N', '-'],\n",
       " ['N', 'D', 'A', 'A', '-', 'N', 'D'],\n",
       " ['D', 'N', 'D', 'A', 'N', 'A', '-'],\n",
       " ['D', 'N', 'D', 'A', 'A', 'N', '-'],\n",
       " ['A', 'D', 'N', 'D', 'A', 'N', '-'],\n",
       " ['N', 'D', 'A', 'N', '-', 'A', 'D'],\n",
       " ['A', 'N', 'N', 'D', 'A', '-', 'D'],\n",
       " ['D', 'D', 'N', 'A', '-', 'N', 'A']]"
      ]
     },
     "execution_count": 4,
     "metadata": {},
     "output_type": "execute_result"
    }
   ],
   "source": [
    "solution = quick_SA(get_examples()[0])\n",
    "solution"
   ]
  },
  {
   "cell_type": "code",
   "execution_count": 34,
   "metadata": {},
   "outputs": [],
   "source": [
    "def move_optimize_b(result, input_data):\n",
    "    result = deepcopy(result)\n",
    "    if input_data['number_of_shifts'] > 2:\n",
    "        updated_result = '-'.join(''.join([random.choice(['D', 'A', 'N']) for i in range(5)])\n",
    "                for j in range(input_data['number_of_employees']))\n",
    "        result = deepcopy(result)\n",
    "        iter_move = iter(updated_result)\n",
    "        for e in range(input_data['number_of_employees']):\n",
    "            for d in range(input_data['length_of_schedule']):\n",
    "                try:\n",
    "                    result[e][d] = next(iter_move)\n",
    "                except e:\n",
    "                    return result\n",
    "    else:\n",
    "        result = deepcopy(result)\n",
    "        updated_result = '-'.join(''.join([random.choice(['D', 'A']) for i in range(5)])\n",
    "                for j in range(input_data['number_of_employees']))\n",
    "        result = deepcopy(result)\n",
    "        iter_move = iter(updated_result)\n",
    "        for e in range(input_data['number_of_employees']):\n",
    "            for d in range(input_data['length_of_schedule']):\n",
    "                try:\n",
    "                    result[e][d] = next(iter_move)\n",
    "                except e:\n",
    "                    return result\n",
    "    return result"
   ]
  },
  {
   "cell_type": "code",
   "execution_count": 7,
   "metadata": {},
   "outputs": [
    {
     "name": "stdout",
     "output_type": "stream",
     "text": [
      "(10, [2, 10, 4, 8, 6, 6, 4, 7, 5, 2])\n",
      "60\n"
     ]
    }
   ],
   "source": [
    "print(optimize_sum(solution, read_data(get_examples()[0])))\n",
    "print(calculate_optimization_sum(optimize_sum(solution, read_data(get_examples()[0]))))"
   ]
  },
  {
   "cell_type": "code",
   "execution_count": 8,
   "metadata": {},
   "outputs": [
    {
     "name": "stdout",
     "output_type": "stream",
     "text": [
      "(15, [2, 8, 1, 4, 6, 1, 4, 1, 4, 1, 4, 6, 0, 5, 2])\n",
      "122\n"
     ]
    }
   ],
   "source": [
    "solution_1 = move_optimize_b(solution, read_data(get_examples()[0]))\n",
    "print(optimize_sum(solution_1, read_data(get_examples()[0])))\n",
    "print(calculate_optimization_sum(optimize_sum(solution_1, read_data(get_examples()[0]))))"
   ]
  },
  {
   "cell_type": "code",
   "execution_count": null,
   "metadata": {},
   "outputs": [],
   "source": [
    "solution_2 = limit_working_to_5_days(solution, read_data(get_examples()[0]))\n",
    "solution_2"
   ]
  },
  {
   "cell_type": "code",
   "execution_count": null,
   "metadata": {},
   "outputs": [],
   "source": [
    "def optimize_sum(result, input_data):\n",
    "    updated_result = deepcopy(result)\n",
    "    \n",
    "    updated_result = ''.join([shift for employee in updated_result for shift in employee])\n",
    "    blocks = updated_result.split('-')\n",
    "    b = len(blocks)\n",
    "    l = [len(block) for block in blocks]\n",
    "    \n",
    "    return b, l"
   ]
  },
  {
   "cell_type": "code",
   "execution_count": null,
   "metadata": {},
   "outputs": [],
   "source": [
    "print(optimize_sum(solution_2, read_data(get_examples()[0])))\n",
    "print(calculate_optimization_sum(optimize_sum(solution_2, read_data(get_examples()[0]))))"
   ]
  },
  {
   "cell_type": "code",
   "execution_count": null,
   "metadata": {},
   "outputs": [],
   "source": [
    "print(calculate_optimization_sum(optimize_sum(solution, read_data(get_examples()[0]))))"
   ]
  },
  {
   "cell_type": "code",
   "execution_count": 35,
   "metadata": {},
   "outputs": [
    {
     "ename": "StopIteration",
     "evalue": "",
     "output_type": "error",
     "traceback": [
      "\u001b[0;31m----------------------------------\u001b[0m",
      "\u001b[0;31mStopIteration\u001b[0mTraceback (most recent call last)",
      "\u001b[0;32m<ipython-input-35-1c29009eeb6d>\u001b[0m in \u001b[0;36m<module>\u001b[0;34m\u001b[0m\n\u001b[0;32m----> 1\u001b[0;31m \u001b[0mmove_optimize_b\u001b[0m\u001b[0;34m(\u001b[0m\u001b[0msolution\u001b[0m\u001b[0;34m,\u001b[0m \u001b[0mread_data\u001b[0m\u001b[0;34m(\u001b[0m\u001b[0mget_examples\u001b[0m\u001b[0;34m(\u001b[0m\u001b[0;34m)\u001b[0m\u001b[0;34m[\u001b[0m\u001b[0;36m0\u001b[0m\u001b[0;34m]\u001b[0m\u001b[0;34m)\u001b[0m\u001b[0;34m)\u001b[0m\u001b[0;34m\u001b[0m\u001b[0;34m\u001b[0m\u001b[0m\n\u001b[0m",
      "\u001b[0;32m<ipython-input-34-573c4304bb7b>\u001b[0m in \u001b[0;36mmove_optimize_b\u001b[0;34m(result, input_data)\u001b[0m\n\u001b[1;32m      9\u001b[0m             \u001b[0;32mfor\u001b[0m \u001b[0md\u001b[0m \u001b[0;32min\u001b[0m \u001b[0mrange\u001b[0m\u001b[0;34m(\u001b[0m\u001b[0minput_data\u001b[0m\u001b[0;34m[\u001b[0m\u001b[0;34m'length_of_schedule'\u001b[0m\u001b[0;34m]\u001b[0m\u001b[0;34m)\u001b[0m\u001b[0;34m:\u001b[0m\u001b[0;34m\u001b[0m\u001b[0;34m\u001b[0m\u001b[0m\n\u001b[1;32m     10\u001b[0m                 \u001b[0;32mif\u001b[0m \u001b[0miter_move\u001b[0m\u001b[0;34m:\u001b[0m\u001b[0;34m\u001b[0m\u001b[0;34m\u001b[0m\u001b[0m\n\u001b[0;32m---> 11\u001b[0;31m                     \u001b[0mresult\u001b[0m\u001b[0;34m[\u001b[0m\u001b[0me\u001b[0m\u001b[0;34m]\u001b[0m\u001b[0;34m[\u001b[0m\u001b[0md\u001b[0m\u001b[0;34m]\u001b[0m \u001b[0;34m=\u001b[0m \u001b[0mnext\u001b[0m\u001b[0;34m(\u001b[0m\u001b[0miter_move\u001b[0m\u001b[0;34m)\u001b[0m\u001b[0;34m\u001b[0m\u001b[0;34m\u001b[0m\u001b[0m\n\u001b[0m\u001b[1;32m     12\u001b[0m                 \u001b[0;32melse\u001b[0m\u001b[0;34m:\u001b[0m\u001b[0;34m\u001b[0m\u001b[0;34m\u001b[0m\u001b[0m\n\u001b[1;32m     13\u001b[0m                     \u001b[0;32mreturn\u001b[0m \u001b[0mresult\u001b[0m\u001b[0;34m\u001b[0m\u001b[0;34m\u001b[0m\u001b[0m\n",
      "\u001b[0;31mStopIteration\u001b[0m: "
     ]
    }
   ],
   "source": [
    "move_optimize_b(solution, read_data(get_examples()[0]))"
   ]
  }
 ],
 "metadata": {
  "kernelspec": {
   "display_name": "Python 3",
   "language": "python",
   "name": "python3"
  },
  "language_info": {
   "codemirror_mode": {
    "name": "ipython",
    "version": 3
   },
   "file_extension": ".py",
   "mimetype": "text/x-python",
   "name": "python",
   "nbconvert_exporter": "python",
   "pygments_lexer": "ipython3",
   "version": "3.8.5"
  }
 },
 "nbformat": 4,
 "nbformat_minor": 4
}
