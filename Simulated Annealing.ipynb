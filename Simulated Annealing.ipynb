{
 "cells": [
  {
   "cell_type": "code",
   "execution_count": 1,
   "metadata": {},
   "outputs": [],
   "source": [
    "from simulated_annealing import *"
   ]
  },
  {
   "cell_type": "code",
   "execution_count": 2,
   "metadata": {
    "scrolled": false
   },
   "outputs": [],
   "source": [
    "def basic_example(example):\n",
    "    T = 100\n",
    "    r = 0.99\n",
    "    tc = 1000\n",
    "    hc = 1000\n",
    "    solution = simulated_annealing(read_data(example), T, r/100, tc, hc)\n",
    "    solution"
   ]
  },
  {
   "cell_type": "code",
   "execution_count": null,
   "metadata": {
    "scrolled": true
   },
   "outputs": [
    {
     "name": "stdout",
     "output_type": "stream",
     "text": [
      "rws_instances/Example1.txt\n",
      "Not satified in the given time. Best solution found has a score of: 35\n",
      "Last solution: 25\n",
      "passed\n",
      "rws_instances/Example2.txt\n",
      "Not satified in the given time. Best solution found has a score of: 40\n",
      "Last solution: 10\n",
      "passed\n",
      "rws_instances/Example3.txt\n",
      "Not satified in the given time. Best solution found has a score of: 25\n",
      "Last solution: 25\n",
      "passed\n",
      "rws_instances/Example4.txt\n",
      "Not satified in the given time. Best solution found has a score of: 90\n",
      "Last solution: 90\n",
      "passed\n",
      "rws_instances/Example5.txt\n"
     ]
    }
   ],
   "source": [
    "T_max = 100\n",
    "r = 0.99\n",
    "termination_condition = 1000\n",
    "halting_condition = 1000000\n",
    "test_SA(T_max, r, termination_condition, halting_condition)"
   ]
  },
  {
   "cell_type": "code",
   "execution_count": null,
   "metadata": {
    "scrolled": true
   },
   "outputs": [],
   "source": [
    "solutions = run_SA_on_examples()"
   ]
  },
  {
   "cell_type": "code",
   "execution_count": null,
   "metadata": {},
   "outputs": [],
   "source": [
    "pprint(read_data(get_examples()[0]))\n",
    "print('------------------------')\n",
    "pprint(read_data(get_examples()[11]))\n"
   ]
  },
  {
   "cell_type": "code",
   "execution_count": null,
   "metadata": {},
   "outputs": [],
   "source": [
    "basic_example(get_examples()[11])"
   ]
  }
 ],
 "metadata": {
  "kernelspec": {
   "display_name": "Python 3",
   "language": "python",
   "name": "python3"
  },
  "language_info": {
   "codemirror_mode": {
    "name": "ipython",
    "version": 3
   },
   "file_extension": ".py",
   "mimetype": "text/x-python",
   "name": "python",
   "nbconvert_exporter": "python",
   "pygments_lexer": "ipython3",
   "version": "3.8.5"
  }
 },
 "nbformat": 4,
 "nbformat_minor": 4
}
