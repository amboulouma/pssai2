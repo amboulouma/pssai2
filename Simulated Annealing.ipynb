{
 "cells": [
  {
   "cell_type": "code",
   "execution_count": 1,
   "metadata": {},
   "outputs": [],
   "source": [
    "from simulated_annealing import *"
   ]
  },
  {
   "cell_type": "code",
   "execution_count": 2,
   "metadata": {
    "scrolled": true
   },
   "outputs": [],
   "source": [
    "def calibrate_parameter_all():\n",
    "    solutions_with_params = []\n",
    "    for termination_condition in [10**x for x in range(4)]:\n",
    "        for halting_condition in [10**x for x in range(4)]:\n",
    "            for T_max in [10**x for x in range(5)]:\n",
    "                for r in range(10, 100, 10):\n",
    "                    print(f'params: T_max={T_max}, r={r/100}, termination_condition={termination_condition}, halting_condition={halting_condition}')\n",
    "                    solutions = test_SA(T_max, r/100, termination_condition, halting_condition, False)\n",
    "                    solutions_with_params.append([\n",
    "                        (T_max, r, termination_condition, halting_condition),\n",
    "                        solutions\n",
    "                        ])\n",
    "    return solutions_with_params"
   ]
  },
  {
   "cell_type": "code",
   "execution_count": 3,
   "metadata": {},
   "outputs": [],
   "source": [
    "def calibrate_parameter_per_example(example):\n",
    "    for termination_condition in [10**x for x in range(1, 4)]:\n",
    "        for halting_condition in [10**x for x in range(1, 4)]:\n",
    "            for T_max in [10**x for x in range(1, 5)]:\n",
    "                for r in range(10, 100, 10):\n",
    "                    print(f'params: T_max={T_max}, r={r/100}, termination_condition={termination_condition}, halting_condition={halting_condition}')\n",
    "                    params = T_max, r, termination_condition, halting_condition, True\n",
    "                    eval_function = eval_solution_4\n",
    "                    best_solution = test_SA_per_example(example, eval_function, *params)\n",
    "                    pprint(report_solution(best_solution, read_data(example)))"
   ]
  },
  {
   "cell_type": "code",
   "execution_count": 4,
   "metadata": {},
   "outputs": [],
   "source": [
    "# calibrate_parameter_per_example(get_examples()[0])"
   ]
  },
  {
   "cell_type": "code",
   "execution_count": 5,
   "metadata": {
    "scrolled": false
   },
   "outputs": [
    {
     "name": "stdout",
     "output_type": "stream",
     "text": [
      "0 8 - D\n",
      "2 8 A D\n",
      "6 6 - D\n",
      "1 8 N A\n",
      "3 8 D A\n",
      "0 8 D N\n",
      "5 8 - N\n",
      "10\n",
      "10\n",
      "[['A', 'N', 'A', 'N', 'D', '-', '-'],\n",
      " ['-', 'N', 'D', 'N', 'A', 'A', 'N'],\n",
      " ['-', 'D', 'N', 'D', 'D', '-', 'A'],\n",
      " ['-', '-', '-', 'D', 'A', 'D', 'A'],\n",
      " ['-', 'N', 'N', 'D', 'N', 'D', '-'],\n",
      " ['N', 'N', 'A', 'N', '-', '-', 'N'],\n",
      " ['-', 'D', 'A', '-', 'N', 'A', '-'],\n",
      " ['A', 'N', '-', '-', 'A', 'A', 'N'],\n",
      " ['-', 'N', 'A', 'D', 'D', '-', 'A']]\n",
      "\n",
      "[['A', 'N', 'A', 'N', 'D', '-', '-'],\n",
      " ['-', 'N', 'D', 'N', 'A', 'A', 'N'],\n",
      " ['-', 'D', 'N', 'D', 'D', '-', 'A'],\n",
      " ['-', '-', '-', 'D', 'A', 'D', 'A'],\n",
      " ['-', 'N', 'N', 'D', 'N', 'D', '-'],\n",
      " ['N', 'N', 'A', 'N', '-', '-', 'N'],\n",
      " ['-', 'D', 'A', '-', 'N', 'A', 'D'],\n",
      " ['A', 'N', '-', '-', 'A', 'A', 'N'],\n",
      " ['N', 'A', 'D', 'A', 'D', 'N', 'A']]\n",
      "{'day_off_constraint': False,\n",
      " 'demand_afternoon_constraint': False,\n",
      " 'demand_constraint': False,\n",
      " 'demand_day_constraint': False,\n",
      " 'demand_night_constraint': False,\n",
      " 'forbidden_constraint2': False,\n",
      " 'forbidden_constraint3': True,\n",
      " 'length_work_blocks_constraint': False}\n",
      "{'day_off_constraint': False,\n",
      " 'demand_afternoon_constraint': False,\n",
      " 'demand_constraint': False,\n",
      " 'demand_day_constraint': False,\n",
      " 'demand_night_constraint': False,\n",
      " 'forbidden_constraint2': False,\n",
      " 'forbidden_constraint3': True,\n",
      " 'length_work_blocks_constraint': False}\n"
     ]
    },
    {
     "data": {
      "text/plain": [
       "{'length_of_schedule': 7,\n",
       " 'number_of_employees': 9,\n",
       " 'number_of_shifts': 3,\n",
       " 'temporal_requirements_matrix': [[2, 2, 2, 2, 2, 2, 2],\n",
       "  [2, 2, 2, 3, 3, 3, 2],\n",
       "  [2, 2, 2, 2, 2, 2, 2]],\n",
       " 'shift_name': ['D', 'A', 'N'],\n",
       " 'start_shift': [[3, 6, 0], [8, 4, 0], [1, 3, 2, 0]],\n",
       " 'length_shift': [[4, 8, 0], [4, 8, 0], [4, 8, 0]],\n",
       " 'min_length_of_blocks': [2, 2, 2],\n",
       " 'max_length_of_blocks': [7, 6, 4],\n",
       " 'min_days_off': 2,\n",
       " 'max_days_off': 4,\n",
       " 'min_length_work_blocks': 4,\n",
       " 'max_length_work_blocks': 7,\n",
       " 'nr_sequences_of_length_2': 3,\n",
       " 'nr_sequences_of_length_3': 0,\n",
       " 'not_allowed_shift_sequences_2': [['N', 'D'], ['N', 'A'], ['A', 'D']],\n",
       " 'not_allowed_shift_sequences_3': []}"
      ]
     },
     "execution_count": 5,
     "metadata": {},
     "output_type": "execute_result"
    }
   ],
   "source": [
    "input_data = read_data(get_examples()[0])\n",
    "solution_1 = generate_random_solution(input_data)\n",
    "solution_2 = move_all_demand_constraint(solution_1, input_data)\n",
    "\n",
    "print(eval_solution_4(solution_1, input_data))\n",
    "print(eval_solution_4(solution_2, input_data))\n",
    "pprint(solution_1)\n",
    "print()\n",
    "pprint(solution_2)\n",
    "pprint(report_solution(solution_1, input_data))\n",
    "pprint(report_solution(solution_2, input_data))\n",
    "\n",
    "input_data"
   ]
  },
  {
   "cell_type": "code",
   "execution_count": 6,
   "metadata": {},
   "outputs": [
    {
     "data": {
      "text/plain": [
       "{'length_of_schedule': 7,\n",
       " 'number_of_employees': 9,\n",
       " 'number_of_shifts': 3,\n",
       " 'temporal_requirements_matrix': [[2, 2, 2, 2, 2, 2, 2],\n",
       "  [2, 2, 2, 3, 3, 3, 2],\n",
       "  [2, 2, 2, 2, 2, 2, 2]],\n",
       " 'shift_name': ['D', 'A', 'N'],\n",
       " 'start_shift': [[3, 6, 0], [8, 4, 0], [1, 3, 2, 0]],\n",
       " 'length_shift': [[4, 8, 0], [4, 8, 0], [4, 8, 0]],\n",
       " 'min_length_of_blocks': [2, 2, 2],\n",
       " 'max_length_of_blocks': [7, 6, 4],\n",
       " 'min_days_off': 2,\n",
       " 'max_days_off': 4,\n",
       " 'min_length_work_blocks': 4,\n",
       " 'max_length_work_blocks': 7,\n",
       " 'nr_sequences_of_length_2': 3,\n",
       " 'nr_sequences_of_length_3': 0,\n",
       " 'not_allowed_shift_sequences_2': [['N', 'D'], ['N', 'A'], ['A', 'D']],\n",
       " 'not_allowed_shift_sequences_3': []}"
      ]
     },
     "execution_count": 6,
     "metadata": {},
     "output_type": "execute_result"
    }
   ],
   "source": [
    "input_data"
   ]
  }
 ],
 "metadata": {
  "kernelspec": {
   "display_name": "Python 3",
   "language": "python",
   "name": "python3"
  },
  "language_info": {
   "codemirror_mode": {
    "name": "ipython",
    "version": 3
   },
   "file_extension": ".py",
   "mimetype": "text/x-python",
   "name": "python",
   "nbconvert_exporter": "python",
   "pygments_lexer": "ipython3",
   "version": "3.8.5"
  }
 },
 "nbformat": 4,
 "nbformat_minor": 4
}
