{
 "cells": [
  {
   "cell_type": "code",
   "execution_count": 1,
   "metadata": {},
   "outputs": [],
   "source": [
    "import random\n",
    "from pprint import pprint\n",
    "import math\n",
    "from copy import deepcopy\n",
    "import time\n",
    "\n",
    "import numpy as np\n",
    "\n",
    "from utils import read_data\n",
    "from constants import FILENAME_EXAMPLE_1, FILENAME_EXAMPLE_4"
   ]
  },
  {
   "cell_type": "code",
   "execution_count": 2,
   "metadata": {},
   "outputs": [],
   "source": [
    "input_data = read_data(FILENAME_EXAMPLE_4)\n",
    "filename = FILENAME_EXAMPLE_4"
   ]
  },
  {
   "cell_type": "code",
   "execution_count": 3,
   "metadata": {},
   "outputs": [],
   "source": [
    "def generate_random_solution(input_data):\n",
    "    code = input_data['shift_name'] + ['-']\n",
    "    return [[random.choice(code) for d in range(input_data['length_of_schedule'])] for e in range(input_data['number_of_employees'])]"
   ]
  },
  {
   "cell_type": "code",
   "execution_count": 4,
   "metadata": {},
   "outputs": [],
   "source": [
    "def demand_constraint(result, input_data):\n",
    "    for e in range(input_data['number_of_employees']):\n",
    "        for d in range(input_data['length_of_schedule']):\n",
    "            sum_day, sum_afternoon, sum_night = 0, 0, 0\n",
    "            if result[e][d] == 'D': sum_day += 1\n",
    "            elif result[e][d] == 'A': sum_afternoon += 1\n",
    "            elif result[e][d] == 'N': sum_night += 1        \n",
    "        if sum_day >= input_data['temporal_requirements_matrix'][0][d] and sum_afternoon >= input_data['temporal_requirements_matrix'][1][d] and sum_night >= input_data['temporal_requirements_matrix'][2][d]:\n",
    "            pass\n",
    "        else:\n",
    "            return False\n",
    "    return True"
   ]
  },
  {
   "cell_type": "code",
   "execution_count": 5,
   "metadata": {},
   "outputs": [],
   "source": [
    "def update_demand_constraint(result, input_data):\n",
    "    updated_result = deepcopy(result)\n",
    "    for d in range(input_data['length_of_schedule']):\n",
    "        sum_day, sum_afternoon, sum_night = 0, 0, 0\n",
    "        for e in range(input_data['number_of_employees']):\n",
    "            if updated_result[e][d] == 'D': sum_day += 1\n",
    "            elif updated_result[e][d] == 'A': sum_afternoon += 1\n",
    "            elif updated_result[e][d] == 'N': sum_night += 1\n",
    "\n",
    "        if sum_day >= input_data['temporal_requirements_matrix'][0][d]: pass\n",
    "        else: updated_result[random.randint(0, input_data['number_of_employees']-1)][d] = 'D'\n",
    "        if sum_afternoon >= input_data['temporal_requirements_matrix'][1][d]: pass\n",
    "        else: updated_result[random.randint(0, input_data['number_of_employees']-1)][d] = 'A'\n",
    "        if sum_night >= input_data['temporal_requirements_matrix'][2][d]: pass\n",
    "        else: updated_result[random.randint(0, input_data['number_of_employees']-1)][d] = 'N'\n",
    "    return updated_result"
   ]
  },
  {
   "cell_type": "code",
   "execution_count": 6,
   "metadata": {},
   "outputs": [],
   "source": [
    "#day off constraint\n",
    "def day_off_constraint(result, input_data):\n",
    "    for e in range(input_data['number_of_employees']):\n",
    "        count_dayoff = 0\n",
    "        for d in range(input_data['length_of_schedule']):\n",
    "            if result[e][d] == '-': count_dayoff += 1\n",
    "        if input_data['min_days_off'] <= count_dayoff <= input_data['max_days_off']: pass\n",
    "        else: return False\n",
    "    return True"
   ]
  },
  {
   "cell_type": "code",
   "execution_count": 7,
   "metadata": {},
   "outputs": [],
   "source": [
    "#day off constraint\n",
    "def update_day_off_constraint(result, input_data):\n",
    "    updated_result = deepcopy(result)\n",
    "    code = input_data['shift_name'] + ['-']\n",
    "    for e in range(input_data['number_of_employees']):\n",
    "        count_dayoff = 0\n",
    "        for d in range(input_data['length_of_schedule']):\n",
    "            if updated_result[e][d] == '-': count_dayoff += 1\n",
    "        if count_dayoff >= input_data['min_days_off']: pass\n",
    "        else: updated_result[e][random.randint(0, input_data['length_of_schedule']-1)] = '-'\n",
    "        if count_dayoff <= input_data['max_days_off']: pass\n",
    "        else: updated_result[e][random.randint(0, input_data['length_of_schedule']-1)] = random.choice(list(set(code) - set('-')))            \n",
    "    return updated_result"
   ]
  },
  {
   "cell_type": "code",
   "execution_count": 8,
   "metadata": {},
   "outputs": [],
   "source": [
    "#working days in a row constraint\n",
    "def length_work_blocks_constraint(result, input_data):\n",
    "    for e in range(input_data['number_of_employees']):\n",
    "        count_consecutive = 0\n",
    "        min_flag, max_flag = False, False\n",
    "        for d in range(input_data['length_of_schedule'] - 1):\n",
    "            if result[e][d] != '-' and result[e][d+1] != '-': \n",
    "                count_consecutive += 1\n",
    "                if count_consecutive >= input_data['min_length_work_blocks'] - 1:\n",
    "                    min_flag = True\n",
    "                    if count_consecutive <= input_data['max_length_work_blocks'] - 1:\n",
    "                        max_flag = True\n",
    "            else:  count_consecutive = 0\n",
    "        if min_flag and max_flag: pass\n",
    "        else: return False\n",
    "    return True"
   ]
  },
  {
   "cell_type": "code",
   "execution_count": 9,
   "metadata": {},
   "outputs": [],
   "source": [
    "#working days in a row constraint\n",
    "def update_length_work_blocks_constraint(result, input_data):\n",
    "    updated_result = deepcopy(result)\n",
    "    code = input_data['shift_name'] + ['-']\n",
    "    for e in range(input_data['number_of_employees']):\n",
    "        count_consecutive = 0\n",
    "        min_flag, max_flag = False, False\n",
    "        for d in range(input_data['length_of_schedule'] - 1):\n",
    "            if updated_result[e][d] != '-' and updated_result[e][d+1] != '-': \n",
    "                count_consecutive += 1\n",
    "                if count_consecutive >= input_data['min_length_work_blocks'] - 1:\n",
    "                    min_flag = True\n",
    "                    if count_consecutive <= input_data['max_length_work_blocks'] - 1:\n",
    "                        max_flag = True\n",
    "            else:  count_consecutive = 0\n",
    "                \n",
    "        if min_flag: pass\n",
    "        else: \n",
    "            count_concecutive = 0\n",
    "            for d in range(input_data['length_of_schedule']):\n",
    "                if updated_result[e][d] == '-' and count_concecutive <= input_data['max_length_work_blocks'] - 1: \n",
    "                    updated_result[e][d] = random.choice(list(set(code) - set('-')))\n",
    "                count_concecutive += 1\n",
    "        if max_flag: pass\n",
    "        else: updated_result[e][random.randint(0, input_data['length_of_schedule']-1)] = '-'\n",
    "                \n",
    "    return updated_result "
   ]
  },
  {
   "cell_type": "code",
   "execution_count": 10,
   "metadata": {},
   "outputs": [],
   "source": [
    "#forbidden shifts constraint\n",
    "def forbidden_constraint2(result, input_data):\n",
    "    if input_data['not_allowed_shift_sequences_2'] == []: return True\n",
    "    if input_data['not_allowed_shift_sequences_2'] != []:\n",
    "        for e in range(input_data['number_of_employees']):\n",
    "            for d in range(input_data['length_of_schedule'] - 1):\n",
    "                for f in input_data['not_allowed_shift_sequences_2']:\n",
    "                    if result[e][d] == f[0] and result[e][d+1] == f[1]: return False\n",
    "        return True"
   ]
  },
  {
   "cell_type": "code",
   "execution_count": 11,
   "metadata": {},
   "outputs": [],
   "source": [
    "#forbidden shifts constraint\n",
    "def update_forbidden_constraint2(result, input_data):\n",
    "    updated_result = deepcopy(result)\n",
    "    code = input_data['shift_name'] + ['-']\n",
    "    if input_data['not_allowed_shift_sequences_2'] == []: return updated_result\n",
    "    if input_data['not_allowed_shift_sequences_2'] != []:\n",
    "        for e in range(input_data['number_of_employees']):\n",
    "            for d in range(input_data['length_of_schedule'] - 1):\n",
    "                for f in input_data['not_allowed_shift_sequences_2']:\n",
    "                    if updated_result[e][d] == f[0] and updated_result[e][d+1] == f[1]:\n",
    "                        for c in code:\n",
    "                            if [f[0], c] not in input_data['not_allowed_shift_sequences_2']:\n",
    "                                updated_result[e][d+1] = c\n",
    "                                break\n",
    "        return updated_result"
   ]
  },
  {
   "cell_type": "code",
   "execution_count": 12,
   "metadata": {},
   "outputs": [],
   "source": [
    "#forbidden shifts constraint\n",
    "def update_forbidden_constraint2_2(result, input_data):\n",
    "    updated_result = deepcopy(result)\n",
    "    code = input_data['shift_name'] + ['-']\n",
    "    if input_data['not_allowed_shift_sequences_2'] == []: return updated_result\n",
    "    if input_data['not_allowed_shift_sequences_2'] != []:\n",
    "        for e in range(input_data['number_of_employees']):\n",
    "            for d in range(input_data['length_of_schedule'] - 1):\n",
    "                for f in input_data['not_allowed_shift_sequences_2']:\n",
    "                    if updated_result[e][d] == f[0] and updated_result[e][d+1] == f[1]: \n",
    "                        for c in code:\n",
    "                            if [c, f[1]] not in input_data['not_allowed_shift_sequences_2']:\n",
    "                                updated_result[e][d] = c\n",
    "                                break\n",
    "        return updated_result"
   ]
  },
  {
   "cell_type": "code",
   "execution_count": 13,
   "metadata": {},
   "outputs": [],
   "source": [
    "def forbidden_constraint3(result, input_data):\n",
    "    if input_data['not_allowed_shift_sequences_3'] == []: return True\n",
    "    if input_data['not_allowed_shift_sequences_3'] != []:\n",
    "        for e in range(input_data['number_of_employees']):\n",
    "            for d in range(input_data['length_of_schedule'] - 2):\n",
    "                for f in input_data['not_allowed_shift_sequences_3']:\n",
    "                    if result[e][d] == f[0] and result[e][d+1] == f[1] \\\n",
    "                                            and result[e][d+2] == f[2]: return False\n",
    "        return True"
   ]
  },
  {
   "cell_type": "code",
   "execution_count": 14,
   "metadata": {},
   "outputs": [],
   "source": [
    "def update_forbidden_constraint3(result, input_data):\n",
    "    updated_result = deepcopy(result)\n",
    "    code = input_data['shift_name'] + ['-']\n",
    "    if input_data['not_allowed_shift_sequences_3'] == []: return updated_result\n",
    "    if input_data['not_allowed_shift_sequences_3'] != []:\n",
    "        for e in range(input_data['number_of_employees']):\n",
    "            for d in range(input_data['length_of_schedule'] - 2):\n",
    "                for f in input_data['not_allowed_shift_sequences_3']:\n",
    "                    if result[e][d] == f[0] and result[e][d+1] == f[1] \\\n",
    "                                            and result[e][d+2] == f[2]: \n",
    "                        for c in code:\n",
    "                            if [c, f[1], f[2]] not in input_data['not_allowed_shift_sequences_3']:\n",
    "                                updated_result[e][d] = c\n",
    "                                break\n",
    "                            \n",
    "        return updated_result"
   ]
  },
  {
   "cell_type": "code",
   "execution_count": 15,
   "metadata": {},
   "outputs": [],
   "source": [
    "def update_forbidden_constraint3_2(result, input_data):\n",
    "    updated_result = deepcopy(result)\n",
    "    code = input_data['shift_name'] + ['-']\n",
    "    if input_data['not_allowed_shift_sequences_3'] == []: return updated_result\n",
    "    if input_data['not_allowed_shift_sequences_3'] != []:\n",
    "        for e in range(input_data['number_of_employees']):\n",
    "            for d in range(input_data['length_of_schedule'] - 2):\n",
    "                for f in input_data['not_allowed_shift_sequences_3']:\n",
    "                    if result[e][d] == f[0] and result[e][d+1] == f[1] \\\n",
    "                                            and result[e][d+2] == f[2]: \n",
    "                        for c in code:\n",
    "                            if [f[0], c, f[2]] not in input_data['not_allowed_shift_sequences_3']:\n",
    "                                updated_result[e][d] = c\n",
    "                                break\n",
    "                            \n",
    "        return updated_result"
   ]
  },
  {
   "cell_type": "code",
   "execution_count": 16,
   "metadata": {},
   "outputs": [],
   "source": [
    "def eval_solution(solution, input_data):\n",
    "    score = 0\n",
    "    c1, c2, c3, c4, c5 = demand_constraint, \\\n",
    "                         day_off_constraint, \\\n",
    "                         length_work_blocks_constraint, \\\n",
    "                         forbidden_constraint2, \\\n",
    "                         forbidden_constraint3\n",
    "    if c1(solution, input_data): score += 50\n",
    "    if c2(solution, input_data): score += 15\n",
    "    if c3(solution, input_data): score += 15\n",
    "    if c4(solution, input_data): score += 10\n",
    "    if c5(solution, input_data): score += 10\n",
    "    \n",
    "    return score"
   ]
  },
  {
   "cell_type": "code",
   "execution_count": 17,
   "metadata": {},
   "outputs": [],
   "source": [
    "def exp_probability(solution, neighbor, T):\n",
    "    return math.exp((eval_solution(neighbor, input_data) - eval_solution(solution, input_data))/T)"
   ]
  },
  {
   "cell_type": "code",
   "execution_count": 18,
   "metadata": {},
   "outputs": [],
   "source": [
    "def simulated_annealing(input_data, T_max, r, termination_condition, halting_condition):\n",
    "    t = 0\n",
    "    tc = 0\n",
    "    score = 100\n",
    "    T = T_max\n",
    "    \n",
    "    solution = generate_random_solution(input_data)\n",
    "    \n",
    "    while t < halting_condition:\n",
    "        while tc < termination_condition:\n",
    "            if eval_solution(solution, input_data) == 100: \n",
    "                return solution\n",
    "            \n",
    "            n1 = update_forbidden_constraint3(solution, input_data)\n",
    "            n2 = update_forbidden_constraint3_2(solution, input_data)\n",
    "            n3 = update_forbidden_constraint2(solution, input_data)\n",
    "            n4 = update_forbidden_constraint2_2(solution, input_data)\n",
    "            n5 = update_length_work_blocks_constraint(solution, input_data)\n",
    "            n6 = update_day_off_constraint(solution, input_data)\n",
    "            n7 = update_demand_constraint(solution, input_data)\n",
    "\n",
    "            neighborhood = [n1, n2, n3, n4, n5, n6, n7]\n",
    "\n",
    "            neighbor = random.choice(neighborhood)\n",
    "\n",
    "            if eval_solution(solution, input_data) < eval_solution(neighbor, input_data): solution = neighbor\n",
    "            elif random.uniform(0, 1) < exp_probability(solution, neighbor, T): solution = neighbor\n",
    "            \n",
    "            tc += 1\n",
    "            \n",
    "        T *= r    \n",
    "        t += 1\n",
    "        \n",
    "    return \"Not satified in the given time\""
   ]
  },
  {
   "cell_type": "code",
   "execution_count": 19,
   "metadata": {},
   "outputs": [
    {
     "data": {
      "text/plain": [
       "[['D', 'D', 'A', 'N', '-', '-', '-'],\n",
       " ['A', 'A', 'A', 'A', 'A', 'A', '-'],\n",
       " ['D', 'D', 'A', '-', 'A', 'A', 'A'],\n",
       " ['D', '-', 'D', 'D', 'D', 'D', 'N'],\n",
       " ['D', 'D', 'D', 'A', 'A', '-', 'N'],\n",
       " ['-', 'D', 'D', 'D', 'D', 'A', 'N'],\n",
       " ['A', 'A', 'A', 'A', 'A', 'A', '-'],\n",
       " ['D', 'D', '-', 'D', 'D', 'D', 'D'],\n",
       " ['D', '-', 'D', 'D', 'D', 'D', 'N'],\n",
       " ['D', 'D', '-', 'D', 'D', 'D', 'N'],\n",
       " ['D', 'D', 'D', 'D', 'D', 'D', '-'],\n",
       " ['D', 'A', 'A', 'A', 'A', 'A', '-'],\n",
       " ['A', 'A', 'A', 'A', 'A', 'A', '-']]"
      ]
     },
     "execution_count": 19,
     "metadata": {},
     "output_type": "execute_result"
    }
   ],
   "source": [
    "T = 100\n",
    "r = 0.99\n",
    "tc = 1000\n",
    "hc = 1000\n",
    "solution = simulated_annealing(input_data, T, r/100, tc, hc)\n",
    "solution"
   ]
  },
  {
   "cell_type": "code",
   "execution_count": 20,
   "metadata": {
    "scrolled": true
   },
   "outputs": [],
   "source": [
    "def eval_SA_params(input_data, T_max, tc_max, hc_max):\n",
    "    params = []\n",
    "    for T in range(1, T_max):\n",
    "        for r in range(1, 99):\n",
    "            for hc in range(1, hc_max):\n",
    "                for tc in range(1, tc_max):\n",
    "                    start = time.time()\n",
    "                    solution = simulated_annealing(input_data, T, r/100, tc, hc)\n",
    "                    end = time.time()\n",
    "                    if solution != \"Not satified in the given time\":\n",
    "                        print(f'Parameters solution example={filename}\\tT={T}\\tr={r/100}\\ttermination_condition={tc}\\thalting_condition={hc}\\tRuntime {end - start}')\n",
    "                        params.append((filename, T, r/100, tc, hc, end - start))\n",
    "                print()\n",
    "            print()\n",
    "        print()\n",
    "    return params"
   ]
  },
  {
   "cell_type": "code",
   "execution_count": null,
   "metadata": {},
   "outputs": [],
   "source": []
  }
 ],
 "metadata": {
  "kernelspec": {
   "display_name": "Python 3",
   "language": "python",
   "name": "python3"
  },
  "language_info": {
   "codemirror_mode": {
    "name": "ipython",
    "version": 3
   },
   "file_extension": ".py",
   "mimetype": "text/x-python",
   "name": "python",
   "nbconvert_exporter": "python",
   "pygments_lexer": "ipython3",
   "version": "3.8.5"
  }
 },
 "nbformat": 4,
 "nbformat_minor": 4
}
