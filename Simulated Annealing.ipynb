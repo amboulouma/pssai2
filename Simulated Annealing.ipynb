{
 "cells": [
  {
   "cell_type": "code",
   "execution_count": 131,
   "metadata": {},
   "outputs": [],
   "source": [
    "import random\n",
    "from pprint import pprint\n",
    "\n",
    "import numpy as np\n",
    "\n",
    "from utils import read_data\n",
    "from constants import FILENAME_EXAMPLE_1"
   ]
  },
  {
   "cell_type": "code",
   "execution_count": 2,
   "metadata": {},
   "outputs": [],
   "source": [
    "input_data = read_data(FILENAME_EXAMPLE_1)\n",
    "\n",
    "days    = input_data['length_of_schedule']\n",
    "ne      = input_data['number_of_employees']\n",
    "ns      = input_data['number_of_shifts']\n",
    "demand  = input_data['temporal_requirements_matrix']\n",
    "sn      = input_data['shift_name']\n",
    "ss      = input_data['start_shift']\n",
    "ls      = input_data['length_shift']\n",
    "min_ls  = input_data['min_length_of_blocks']\n",
    "max_ls  = input_data['max_length_of_blocks']\n",
    "min_do  = input_data['min_days_off']\n",
    "max_do  = input_data['max_days_off']\n",
    "min_lw  = input_data['min_length_work_blocks']\n",
    "max_lw  = input_data['max_length_work_blocks']\n",
    "nf2     = input_data['nr_sequences_of_length_2']\n",
    "nf3     = input_data['nr_sequences_of_length_3']\n",
    "f2      = input_data['not_allowed_shift_sequences_2']\n",
    "f3      = input_data['not_allowed_shift_sequences_3']"
   ]
  },
  {
   "cell_type": "code",
   "execution_count": 3,
   "metadata": {},
   "outputs": [],
   "source": [
    "shifts = ns + 1\n",
    "day, afternoon, night, dayoff = 1, 2, 3, 4\n",
    "code = sn + ['-']"
   ]
  },
  {
   "cell_type": "code",
   "execution_count": 79,
   "metadata": {},
   "outputs": [
    {
     "data": {
      "text/plain": [
       "['D', 'A', 'N', '-']"
      ]
     },
     "execution_count": 79,
     "metadata": {},
     "output_type": "execute_result"
    }
   ],
   "source": [
    "code"
   ]
  },
  {
   "cell_type": "code",
   "execution_count": 17,
   "metadata": {},
   "outputs": [
    {
     "name": "stdout",
     "output_type": "stream",
     "text": [
      "[[2, 2, 2, 2, 2, 2, 2], [2, 2, 2, 3, 3, 3, 2], [2, 2, 2, 2, 2, 2, 2]]\n"
     ]
    }
   ],
   "source": [
    "pprint(demand)"
   ]
  },
  {
   "cell_type": "markdown",
   "metadata": {},
   "source": [
    "- demand[shift][day_int_week]\n",
    "- "
   ]
  },
  {
   "cell_type": "code",
   "execution_count": null,
   "metadata": {},
   "outputs": [],
   "source": []
  },
  {
   "cell_type": "code",
   "execution_count": 13,
   "metadata": {},
   "outputs": [
    {
     "name": "stdout",
     "output_type": "stream",
     "text": [
      "Help on function pprint in module pprint:\n",
      "\n",
      "pprint(object, stream=None, indent=1, width=80, depth=None, *, compact=False, sort_dicts=True)\n",
      "    Pretty-print a Python object to a stream [default is sys.stdout].\n",
      "\n"
     ]
    }
   ],
   "source": [
    "help(pprint)"
   ]
  },
  {
   "cell_type": "code",
   "execution_count": 143,
   "metadata": {},
   "outputs": [],
   "source": [
    "def demand_constraint(result):\n",
    "    demand_t = np.transpose(demand)\n",
    "    demand_constraint_result = result\n",
    "    # number of employees\n",
    "    # ne = 9\n",
    "    count_shift = [0]*3\n",
    "    for shift in range(ns):\n",
    "        sum(e in EMPLOYEE)(x[e,d] == day) == demand[1, d] /\\\n",
    "        if sum()\n",
    "        print(demand[shift])\n",
    "    return result"
   ]
  },
  {
   "cell_type": "code",
   "execution_count": 144,
   "metadata": {
    "scrolled": true
   },
   "outputs": [
    {
     "name": "stdout",
     "output_type": "stream",
     "text": [
      "[2, 2, 2, 2, 2, 2, 2]\n",
      "[2, 2, 2, 3, 3, 3, 2]\n",
      "[2, 2, 2, 2, 2, 2, 2]\n"
     ]
    },
    {
     "data": {
      "text/plain": [
       "[['D', 'D', 'A', '-', 'A', 'D', 'N'],\n",
       " ['D', 'D', 'A', '-', 'A', 'D', 'N'],\n",
       " ['D', 'D', 'A', '-', 'A', 'D', 'N'],\n",
       " ['D', 'D', 'A', '-', 'A', 'D', 'N'],\n",
       " ['D', 'D', 'A', '-', 'A', 'D', 'N'],\n",
       " ['D', 'D', 'A', '-', 'A', 'D', 'N'],\n",
       " ['D', 'D', 'A', '-', 'A', 'D', 'N'],\n",
       " ['D', 'D', 'A', '-', 'A', 'D', 'N'],\n",
       " ['D', 'D', 'A', '-', 'A', 'D', 'N']]"
      ]
     },
     "execution_count": 144,
     "metadata": {},
     "output_type": "execute_result"
    }
   ],
   "source": [
    "result = calculate_result(input_data)\n",
    "demand_constraint(result)"
   ]
  },
  {
   "cell_type": "code",
   "execution_count": 81,
   "metadata": {},
   "outputs": [],
   "source": [
    "def calculate_result(input_data):\n",
    "    result = [['-']*days]*ne\n",
    "\n",
    "    for e in range(ne):\n",
    "        for d in range(days):\n",
    "            result[e][d] = random.choice(code) \n",
    "\n",
    "    #result = demand_constraint(result)\n",
    "\n",
    "    return result"
   ]
  },
  {
   "cell_type": "code",
   "execution_count": 9,
   "metadata": {},
   "outputs": [
    {
     "data": {
      "text/plain": [
       "[['A', 'A', 'A', 'A', 'A', 'A', 'A'],\n",
       " ['A', 'A', 'A', 'A', 'A', 'A', 'A'],\n",
       " ['A', 'A', 'A', 'A', 'A', 'A', 'A'],\n",
       " ['A', 'A', 'A', 'A', 'A', 'A', 'A'],\n",
       " ['A', 'A', 'A', 'A', 'A', 'A', 'A'],\n",
       " ['A', 'A', 'A', 'A', 'A', 'A', 'A'],\n",
       " ['A', 'A', 'A', 'A', 'A', 'A', 'A'],\n",
       " ['A', 'A', 'A', 'A', 'A', 'A', 'A'],\n",
       " ['A', 'A', 'A', 'A', 'A', 'A', 'A']]"
      ]
     },
     "execution_count": 9,
     "metadata": {},
     "output_type": "execute_result"
    }
   ],
   "source": [
    "calculate_result(input_data)"
   ]
  }
 ],
 "metadata": {
  "kernelspec": {
   "display_name": "Python 3",
   "language": "python",
   "name": "python3"
  },
  "language_info": {
   "codemirror_mode": {
    "name": "ipython",
    "version": 3
   },
   "file_extension": ".py",
   "mimetype": "text/x-python",
   "name": "python",
   "nbconvert_exporter": "python",
   "pygments_lexer": "ipython3",
   "version": "3.8.5"
  }
 },
 "nbformat": 4,
 "nbformat_minor": 4
}
