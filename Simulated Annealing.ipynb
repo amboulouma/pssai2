{
 "cells": [
  {
   "cell_type": "code",
   "execution_count": 75,
   "metadata": {},
   "outputs": [],
   "source": [
    "from simulated_annealing import *"
   ]
  },
  {
   "cell_type": "code",
   "execution_count": 77,
   "metadata": {
    "scrolled": false
   },
   "outputs": [
    {
     "data": {
      "text/plain": [
       "[['D', 'D', 'D', 'D', 'D', 'A', '-'],\n",
       " ['A', 'A', 'A', 'A', 'A', 'A', '-'],\n",
       " ['-', 'A', 'A', 'A', 'A', 'N', 'N'],\n",
       " ['D', 'D', 'D', 'D', '-', 'D', 'A'],\n",
       " ['D', '-', 'D', 'D', 'D', 'D', 'D'],\n",
       " ['D', 'D', 'D', 'A', 'A', 'A', '-'],\n",
       " ['D', 'D', 'D', 'D', 'D', '-', 'D'],\n",
       " ['D', 'D', 'D', 'D', 'D', 'N', '-'],\n",
       " ['-', 'D', 'D', 'D', 'D', 'A', 'A'],\n",
       " ['D', 'D', 'D', 'D', 'D', 'D', '-'],\n",
       " ['D', 'D', '-', 'A', 'A', 'A', 'N'],\n",
       " ['-', 'D', 'D', 'D', 'D', 'D', 'N'],\n",
       " ['A', 'A', 'A', 'A', 'A', 'A', '-']]"
      ]
     },
     "execution_count": 77,
     "metadata": {},
     "output_type": "execute_result"
    }
   ],
   "source": [
    "T = 100\n",
    "r = 0.99\n",
    "tc = 1000\n",
    "hc = 1000\n",
    "solution = simulated_annealing(read_data(get_examples()[3]), T, r/100, tc, hc)\n",
    "solution"
   ]
  },
  {
   "cell_type": "code",
   "execution_count": 78,
   "metadata": {},
   "outputs": [
    {
     "name": "stdout",
     "output_type": "stream",
     "text": [
      "rws_instances/Example1.txt\n",
      "------------------------------------------------------------------------------------\n",
      "Not passed\n",
      "string index out of range\n",
      "------------------------------------------------------------------------------------\n",
      "rws_instances/Example2.txt\n",
      "------------------------------------------------------------------------------------\n",
      "Not passed\n",
      "string index out of range\n",
      "------------------------------------------------------------------------------------\n",
      "rws_instances/Example3.txt\n",
      "------------------------------------------------------------------------------------\n",
      "Not passed\n",
      "string index out of range\n",
      "------------------------------------------------------------------------------------\n",
      "rws_instances/Example4.txt\n",
      "100\n",
      "passed\n",
      "rws_instances/Example5.txt\n",
      "------------------------------------------------------------------------------------\n",
      "Not passed\n",
      "string index out of range\n",
      "------------------------------------------------------------------------------------\n",
      "rws_instances/Example6.txt\n",
      "------------------------------------------------------------------------------------\n",
      "Not passed\n",
      "string index out of range\n",
      "------------------------------------------------------------------------------------\n",
      "rws_instances/Example7.txt\n",
      "------------------------------------------------------------------------------------\n",
      "Not passed\n",
      "string index out of range\n",
      "------------------------------------------------------------------------------------\n",
      "rws_instances/Example8.txt\n",
      "------------------------------------------------------------------------------------\n",
      "Not passed\n",
      "string index out of range\n",
      "------------------------------------------------------------------------------------\n",
      "rws_instances/Example9.txt\n",
      "------------------------------------------------------------------------------------\n",
      "Not passed\n",
      "list index out of range\n",
      "------------------------------------------------------------------------------------\n",
      "rws_instances/Example10.txt\n",
      "------------------------------------------------------------------------------------\n",
      "Not passed\n",
      "string index out of range\n",
      "------------------------------------------------------------------------------------\n",
      "rws_instances/Example11.txt\n",
      "------------------------------------------------------------------------------------\n",
      "Not passed\n",
      "string index out of range\n",
      "------------------------------------------------------------------------------------\n",
      "rws_instances/Example12.txt\n",
      "------------------------------------------------------------------------------------\n",
      "Not passed\n",
      "list index out of range\n",
      "------------------------------------------------------------------------------------\n",
      "rws_instances/Example13.txt\n",
      "------------------------------------------------------------------------------------\n",
      "Not passed\n",
      "string index out of range\n",
      "------------------------------------------------------------------------------------\n",
      "rws_instances/Example14.txt\n",
      "------------------------------------------------------------------------------------\n",
      "Not passed\n",
      "string index out of range\n",
      "------------------------------------------------------------------------------------\n",
      "rws_instances/Example15.txt\n",
      "------------------------------------------------------------------------------------\n",
      "Not passed\n",
      "string index out of range\n",
      "------------------------------------------------------------------------------------\n",
      "rws_instances/Example16.txt\n",
      "------------------------------------------------------------------------------------\n",
      "Not passed\n",
      "string index out of range\n",
      "------------------------------------------------------------------------------------\n",
      "rws_instances/Example17.txt\n",
      "------------------------------------------------------------------------------------\n",
      "Not passed\n",
      "list index out of range\n",
      "------------------------------------------------------------------------------------\n",
      "rws_instances/Example18.txt\n",
      "------------------------------------------------------------------------------------\n",
      "Not passed\n",
      "string index out of range\n",
      "------------------------------------------------------------------------------------\n",
      "rws_instances/Example19.txt\n",
      "------------------------------------------------------------------------------------\n",
      "Not passed\n",
      "string index out of range\n",
      "------------------------------------------------------------------------------------\n",
      "rws_instances/Example20.txt\n",
      "------------------------------------------------------------------------------------\n",
      "Not passed\n",
      "string index out of range\n",
      "------------------------------------------------------------------------------------\n"
     ]
    }
   ],
   "source": [
    "test_SA()"
   ]
  },
  {
   "cell_type": "code",
   "execution_count": 45,
   "metadata": {
    "scrolled": false
   },
   "outputs": [
    {
     "name": "stdout",
     "output_type": "stream",
     "text": [
      "rws_instances/Example1.txt\n",
      "'Not satified in the given time'\n",
      "rws_instances/Example2.txt\n",
      "'Not satified in the given time'\n",
      "rws_instances/Example3.txt\n",
      "'Not satified in the given time'\n",
      "rws_instances/Example4.txt\n",
      "[['-', '-', 'D', '-', 'A', 'A', 'A'],\n",
      " ['D', 'D', '-', 'D', 'A', 'N', 'N'],\n",
      " ['-', 'D', 'A', 'A', 'A', 'A', '-'],\n",
      " ['-', 'D', 'D', 'D', 'A', 'N', '-'],\n",
      " ['D', 'D', 'D', 'D', 'D', 'D', '-'],\n",
      " ['D', 'D', '-', 'D', 'D', 'N', 'N'],\n",
      " ['D', 'A', 'A', 'A', '-', 'A', 'N'],\n",
      " ['D', 'D', '-', 'D', 'D', 'A', 'N'],\n",
      " ['D', 'D', 'D', 'D', '-', 'N', 'N'],\n",
      " ['D', 'D', 'D', '-', 'D', 'N', 'N'],\n",
      " ['D', '-', 'D', 'D', 'D', 'D', 'N'],\n",
      " ['A', 'A', 'A', 'A', '-', 'A', 'N'],\n",
      " ['D', 'D', 'D', 'D', '-', 'D', 'N']]\n",
      "rws_instances/Example5.txt\n",
      "'Not satified in the given time'\n",
      "rws_instances/Example6.txt\n",
      "'Not satified in the given time'\n",
      "rws_instances/Example7.txt\n",
      "'Not satified in the given time'\n",
      "rws_instances/Example8.txt\n",
      "'Not satified in the given time'\n",
      "list index out of range\n",
      "rws_instances/Example10.txt\n",
      "'Not satified in the given time'\n",
      "rws_instances/Example11.txt\n",
      "'Not satified in the given time'\n",
      "list index out of range\n",
      "rws_instances/Example13.txt\n",
      "'Not satified in the given time'\n",
      "rws_instances/Example14.txt\n",
      "'Not satified in the given time'\n",
      "rws_instances/Example15.txt\n",
      "'Not satified in the given time'\n",
      "rws_instances/Example16.txt\n",
      "'Not satified in the given time'\n",
      "list index out of range\n",
      "rws_instances/Example18.txt\n",
      "'Not satified in the given time'\n",
      "rws_instances/Example19.txt\n",
      "'Not satified in the given time'\n",
      "rws_instances/Example20.txt\n",
      "'Not satified in the given time'\n"
     ]
    }
   ],
   "source": [
    "solutions = run_SA_on_examples()"
   ]
  }
 ],
 "metadata": {
  "kernelspec": {
   "display_name": "Python 3",
   "language": "python",
   "name": "python3"
  },
  "language_info": {
   "codemirror_mode": {
    "name": "ipython",
    "version": 3
   },
   "file_extension": ".py",
   "mimetype": "text/x-python",
   "name": "python",
   "nbconvert_exporter": "python",
   "pygments_lexer": "ipython3",
   "version": "3.8.5"
  }
 },
 "nbformat": 4,
 "nbformat_minor": 4
}
