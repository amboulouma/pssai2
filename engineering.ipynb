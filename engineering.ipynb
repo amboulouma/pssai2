{
 "cells": [
  {
   "cell_type": "code",
   "execution_count": 1,
   "metadata": {},
   "outputs": [],
   "source": [
    "from all_functions import *"
   ]
  },
  {
   "cell_type": "code",
   "execution_count": 2,
   "metadata": {},
   "outputs": [
    {
     "data": {
      "text/plain": [
       "[['N', '-', 'N', 'A', '-', 'N', 'D'],\n",
       " ['D', 'A', 'N', 'N', 'D', 'N', 'A'],\n",
       " ['-', '-', 'N', '-', 'A', 'A', 'A'],\n",
       " ['D', 'D', 'D', 'N', 'A', 'D', 'A'],\n",
       " ['-', 'D', 'N', 'N', 'D', '-', 'N'],\n",
       " ['A', 'D', '-', 'A', 'D', '-', 'A'],\n",
       " ['-', 'N', 'D', 'D', 'D', 'N', 'N'],\n",
       " ['A', '-', 'A', 'N', 'N', 'N', 'D'],\n",
       " ['N', 'D', '-', 'D', 'D', 'N', 'N']]"
      ]
     },
     "execution_count": 2,
     "metadata": {},
     "output_type": "execute_result"
    }
   ],
   "source": [
    "input_data = read_data(get_examples()[0])\n",
    "\n",
    "solution_1 = generate_random_solution(input_data)\n",
    "solution_1"
   ]
  },
  {
   "cell_type": "code",
   "execution_count": 3,
   "metadata": {},
   "outputs": [
    {
     "name": "stdout",
     "output_type": "stream",
     "text": [
      "[['N', 'D', '-', 'D', '-', 'A', '-', 'A', 'N'], ['A', 'A', 'N', 'D', 'D', 'D', 'N', '-', 'D'], ['A', 'N', 'N', 'D', 'N', '-', 'D', 'A', '-'], ['A', 'A', '-', 'N', 'N', 'A', 'D', 'N', 'D'], ['A', 'N', 'A', 'A', 'D', 'D', 'D', 'N', 'D'], ['D', 'N', 'A', 'D', 'A', 'A', 'N', 'N', 'N'], ['D', 'A', 'A', 'A', 'N', 'A', 'N', 'D', 'N']]\n"
     ]
    },
    {
     "data": {
      "text/plain": [
       "[['N', 'A', 'A', 'A', 'A', 'D', 'D'],\n",
       " ['D', 'A', 'N', 'A', 'N', 'N', 'A'],\n",
       " ['-', 'N', 'N', '-', 'A', 'A', 'A'],\n",
       " ['D', 'D', 'D', 'N', 'A', 'D', 'A'],\n",
       " ['-', 'D', 'N', 'N', 'D', 'A', 'N'],\n",
       " ['A', 'D', '-', 'A', 'D', 'A', 'A'],\n",
       " ['-', 'N', 'D', 'D', 'D', 'N', 'N'],\n",
       " ['A', '-', 'A', 'N', 'N', 'N', 'D'],\n",
       " ['N', 'D', '-', 'D', 'D', 'N', 'N']]"
      ]
     },
     "execution_count": 3,
     "metadata": {},
     "output_type": "execute_result"
    }
   ],
   "source": [
    "solution_2 = move_all_demand_constraint(solution_1, input_data)\n",
    "solution_2"
   ]
  },
  {
   "cell_type": "code",
   "execution_count": 4,
   "metadata": {},
   "outputs": [
    {
     "name": "stdout",
     "output_type": "stream",
     "text": [
      "[['N', 'A', 'A', 'A', 'A', 'D', 'D'], ['D', 'A', 'N', 'A', 'N', 'N', 'A'], ['-', 'N', 'N', '-', 'A', 'A', 'A'], ['D', 'D', 'D', 'N', 'A', 'D', 'A'], ['-', 'D', 'N', 'N', 'D', 'A', 'N'], ['A', 'D', '-', 'A', 'D', 'A', 'A'], ['-', 'N', 'D', 'D', 'D', 'N', 'N'], ['A', '-', 'A', 'N', 'N', 'N', 'D'], ['N', 'D', '-', 'D', 'D', 'N', 'N']] 3\n"
     ]
    },
    {
     "data": {
      "text/plain": [
       "[[2, 4, 2, 2, 4, 2, 2], [2, 2, 2, 3, 3, 3, 4], [2, 2, 3, 3, 2, 4, 3]]"
      ]
     },
     "execution_count": 4,
     "metadata": {},
     "output_type": "execute_result"
    }
   ],
   "source": [
    "solution_to_demand(solution_2, 3)"
   ]
  },
  {
   "cell_type": "code",
   "execution_count": 5,
   "metadata": {
    "scrolled": true
   },
   "outputs": [
    {
     "name": "stdout",
     "output_type": "stream",
     "text": [
      "[['N', 'A', 'A', 'A', 'A', 'D', 'D'], ['D', 'A', 'N', 'A', 'N', 'N', 'A'], ['-', 'N', 'N', '-', 'A', 'A', 'A'], ['D', 'D', 'D', 'N', 'A', 'D', 'A'], ['-', 'D', 'N', 'N', 'D', 'A', 'N'], ['A', 'D', '-', 'A', 'D', 'A', 'A'], ['-', 'N', 'D', 'D', 'D', 'N', 'N'], ['A', '-', 'A', 'N', 'N', 'N', 'D'], ['N', 'D', '-', 'D', 'D', 'N', 'N']]\n",
      "[['N', 'A', 'A', 'A', 'A', 'D', 'D'], ['D', 'A', 'N', 'A', 'N', 'N', 'A'], ['-', 'N', 'N', '-', 'A', 'A', 'A'], ['D', 'D', 'D', 'N', 'A', 'D', 'A'], ['-', 'D', 'N', 'N', 'D', 'A', 'N'], ['A', 'D', '-', 'A', 'D', 'A', 'A'], ['-', 'N', 'D', 'D', 'D', 'N', 'N'], ['A', '-', 'A', 'N', 'N', 'N', 'D'], ['N', 'D', '-', 'D', 'D', 'N', 'N']] 3\n"
     ]
    },
    {
     "data": {
      "text/plain": [
       "True"
      ]
     },
     "execution_count": 5,
     "metadata": {},
     "output_type": "execute_result"
    }
   ],
   "source": [
    "demand_constraint(solution_2, input_data)"
   ]
  },
  {
   "cell_type": "code",
   "execution_count": 6,
   "metadata": {},
   "outputs": [],
   "source": [
    "def calibrate_parameter_per_example(example):\n",
    "    for termination_condition in [10**x for x in range(1, 4)]:\n",
    "        for halting_condition in [10**x for x in range(1, 4)]:\n",
    "            for T_max in [10**x for x in range(1, 5)]:\n",
    "                for r in range(10, 100, 10):\n",
    "                    print(f'params: T_max={T_max}, r={r/100}, termination_condition={termination_condition}, halting_condition={halting_condition}')\n",
    "                    params = T_max, r, termination_condition, halting_condition, True\n",
    "                    eval_function = eval_solution_4\n",
    "                    best_solution = test_SA_per_example(example, eval_function, *params)\n",
    "                    pprint(report_solution(best_solution, read_data(example)))"
   ]
  },
  {
   "cell_type": "code",
   "execution_count": 7,
   "metadata": {},
   "outputs": [
    {
     "name": "stdout",
     "output_type": "stream",
     "text": [
      "params: T_max=10, r=0.1, termination_condition=10, halting_condition=10\n",
      "rws_instances/Example1.txt\n",
      "[['D', '-', 'A', 'D', 'A', 'D', 'A'], ['A', 'N', '-', 'A', 'N', '-', 'A'], ['-', '-', 'D', 'N', 'N', '-', '-'], ['N', 'D', 'D', 'A', 'D', 'N', 'D'], ['-', 'N', 'N', 'D', 'D', 'A', 'A'], ['-', 'D', 'N', 'D', 'N', '-', '-'], ['N', 'A', 'A', 'N', 'N', 'N', 'D'], ['N', 'A', 'A', 'D', '-', 'N', 'N'], ['A', 'N', '-', 'D', 'D', 'N', 'A']]\n",
      "------------ [['D', '-', 'A', 'D', 'A', 'D', 'A'], ['A', 'N', '-', 'A', 'N', '-', 'A'], ['-', '-', 'D', 'N', 'N', '-', '-'], ['N', 'D', 'D', 'A', 'D', 'N', 'D'], ['-', 'N', 'N', 'D', 'D', 'A', 'A'], ['-', 'D', 'N', 'D', 'N', '-', '-'], ['N', 'A', 'A', 'N', 'N', 'N', 'D'], ['N', 'A', 'A', 'D', '-', 'N', 'N'], ['A', 'N', '-', 'D', 'D', 'N', 'A']]\n",
      "[['D', '-', 'A', 'D', 'A', 'D', 'A'], ['A', 'N', '-', 'A', 'N', '-', 'A'], ['-', '-', 'D', 'N', 'N', '-', '-'], ['N', 'D', 'D', 'A', 'D', 'N', 'D'], ['-', 'N', 'N', 'D', 'D', 'A', 'A'], ['-', 'D', 'N', 'D', 'N', '-', '-'], ['N', 'A', 'A', 'N', 'N', 'N', 'D'], ['N', 'A', 'A', 'D', '-', 'N', 'N'], ['A', 'N', '-', 'D', 'D', 'N', 'A']]\n",
      "[['D', '-', 'A', 'D', 'A', 'D', 'A'], ['A', 'N', '-', 'A', 'N', '-', 'A'], ['-', '-', 'D', 'N', 'N', '-', '-'], ['N', 'D', 'D', 'A', 'D', 'N', 'D'], ['-', 'N', 'N', 'D', 'D', 'A', 'A'], ['-', 'D', 'N', 'D', 'N', '-', '-'], ['N', 'A', 'A', 'N', 'N', 'N', 'D'], ['N', 'A', 'A', 'D', '-', 'N', 'N'], ['A', 'N', '-', 'D', 'D', 'N', 'A']] 3\n",
      "<function move_all_1_forbidden_constraint2 at 0x118e50f70>\n",
      "------------ [['D', '-', 'A', 'D', 'A', 'D', 'A'], ['A', 'N', '-', 'A', 'N', '-', 'A'], ['-', '-', 'D', 'N', 'N', '-', '-'], ['N', 'D', 'D', 'A', 'D', 'N', 'D'], ['-', 'N', 'N', 'D', 'D', 'A', 'A'], ['-', 'D', 'N', 'D', 'N', '-', '-'], ['N', 'A', 'A', 'N', 'N', 'N', 'D'], ['N', 'A', 'A', 'D', '-', 'N', 'N'], ['A', 'N', '-', 'D', 'D', 'N', 'A']]\n",
      "[['D', '-', 'A', 'D', 'A', 'D', 'A'], ['A', 'N', '-', 'A', 'N', '-', 'A'], ['-', '-', 'D', 'N', 'N', '-', '-'], ['N', 'D', 'D', 'A', 'D', 'N', 'D'], ['-', 'N', 'N', 'D', 'D', 'A', 'A'], ['-', 'D', 'N', 'D', 'N', '-', '-'], ['N', 'A', 'A', 'N', 'N', 'N', 'D'], ['N', 'A', 'A', 'D', '-', 'N', 'N'], ['A', 'N', '-', 'D', 'D', 'N', 'A']]\n",
      "[['D', '-', 'A', 'D', 'A', 'D', 'A'], ['A', 'N', '-', 'A', 'N', '-', 'A'], ['-', '-', 'D', 'N', 'N', '-', '-'], ['N', 'D', 'D', 'A', 'D', 'N', 'D'], ['-', 'N', 'N', 'D', 'D', 'A', 'A'], ['-', 'D', 'N', 'D', 'N', '-', '-'], ['N', 'A', 'A', 'N', 'N', 'N', 'D'], ['N', 'A', 'A', 'D', '-', 'N', 'N'], ['A', 'N', '-', 'D', 'D', 'N', 'A']] 3\n",
      "------------ [['D', '-', 'D', 'D', 'D', 'D', 'A'], ['A', 'N', '-', 'A', 'N', '-', 'A'], ['-', '-', 'D', 'N', 'N', '-', '-'], ['D', 'D', 'D', 'D', 'D', 'D', 'D'], ['-', 'N', 'D', 'D', 'D', 'A', 'A'], ['-', 'D', 'D', 'D', 'N', '-', '-'], ['D', 'A', 'A', 'N', 'N', 'D', 'D'], ['D', 'A', 'D', 'D', '-', 'N', 'N'], ['A', 'N', '-', 'D', 'D', 'D', 'A']]\n",
      "[['D', '-', 'D', 'D', 'D', 'D', 'A'], ['A', 'N', '-', 'A', 'N', '-', 'A'], ['-', '-', 'D', 'N', 'N', '-', '-'], ['D', 'D', 'D', 'D', 'D', 'D', 'D'], ['-', 'N', 'D', 'D', 'D', 'A', 'A'], ['-', 'D', 'D', 'D', 'N', '-', '-'], ['D', 'A', 'A', 'N', 'N', 'D', 'D'], ['D', 'A', 'D', 'D', '-', 'N', 'N'], ['A', 'N', '-', 'D', 'D', 'D', 'A']]\n",
      "[['D', '-', 'D', 'D', 'D', 'D', 'A'], ['A', 'N', '-', 'A', 'N', '-', 'A'], ['-', '-', 'D', 'N', 'N', '-', '-'], ['D', 'D', 'D', 'D', 'D', 'D', 'D'], ['-', 'N', 'D', 'D', 'D', 'A', 'A'], ['-', 'D', 'D', 'D', 'N', '-', '-'], ['D', 'A', 'A', 'N', 'N', 'D', 'D'], ['D', 'A', 'D', 'D', '-', 'N', 'N'], ['A', 'N', '-', 'D', 'D', 'D', 'A']] 3\n",
      "------------ [['D', '-', 'D', 'D', 'D', 'D', 'A'], ['A', 'N', '-', 'A', 'N', '-', 'A'], ['-', '-', 'D', 'N', 'N', '-', '-'], ['D', 'D', 'D', 'D', 'D', 'D', 'D'], ['-', 'N', 'D', 'D', 'D', 'A', 'A'], ['-', 'D', 'D', 'D', 'N', '-', '-'], ['D', 'A', 'A', 'N', 'N', 'D', 'D'], ['D', 'A', 'D', 'D', '-', 'N', 'N'], ['A', 'N', '-', 'D', 'D', 'D', 'A']]\n",
      "[['D', '-', 'D', 'D', 'D', 'D', 'A'], ['A', 'N', '-', 'A', 'N', '-', 'A'], ['-', '-', 'D', 'N', 'N', '-', '-'], ['D', 'D', 'D', 'D', 'D', 'D', 'D'], ['-', 'N', 'D', 'D', 'D', 'A', 'A'], ['-', 'D', 'D', 'D', 'N', '-', '-'], ['D', 'A', 'A', 'N', 'N', 'D', 'D'], ['D', 'A', 'D', 'D', '-', 'N', 'N'], ['A', 'N', '-', 'D', 'D', 'D', 'A']]\n",
      "[['D', '-', 'D', 'D', 'D', 'D', 'A'], ['A', 'N', '-', 'A', 'N', '-', 'A'], ['-', '-', 'D', 'N', 'N', '-', '-'], ['D', 'D', 'D', 'D', 'D', 'D', 'D'], ['-', 'N', 'D', 'D', 'D', 'A', 'A'], ['-', 'D', 'D', 'D', 'N', '-', '-'], ['D', 'A', 'A', 'N', 'N', 'D', 'D'], ['D', 'A', 'D', 'D', '-', 'N', 'N'], ['A', 'N', '-', 'D', 'D', 'D', 'A']] 3\n",
      "------------ [['D', '-', 'A', 'D', 'A', 'D', 'A'], ['A', 'N', '-', 'A', 'N', '-', 'A'], ['-', '-', 'D', 'N', 'N', '-', '-'], ['N', 'D', 'D', 'A', 'D', 'N', 'D'], ['-', 'N', 'N', 'D', 'D', 'A', 'A'], ['-', 'D', 'N', 'D', 'N', '-', '-'], ['N', 'A', 'A', 'N', 'N', 'N', 'D'], ['N', 'A', 'A', 'D', '-', 'N', 'N'], ['A', 'N', '-', 'D', 'D', 'N', 'A']]\n",
      "[['D', '-', 'A', 'D', 'A', 'D', 'A'], ['A', 'N', '-', 'A', 'N', '-', 'A'], ['-', '-', 'D', 'N', 'N', '-', '-'], ['N', 'D', 'D', 'A', 'D', 'N', 'D'], ['-', 'N', 'N', 'D', 'D', 'A', 'A'], ['-', 'D', 'N', 'D', 'N', '-', '-'], ['N', 'A', 'A', 'N', 'N', 'N', 'D'], ['N', 'A', 'A', 'D', '-', 'N', 'N'], ['A', 'N', '-', 'D', 'D', 'N', 'A']]\n",
      "[['D', '-', 'A', 'D', 'A', 'D', 'A'], ['A', 'N', '-', 'A', 'N', '-', 'A'], ['-', '-', 'D', 'N', 'N', '-', '-'], ['N', 'D', 'D', 'A', 'D', 'N', 'D'], ['-', 'N', 'N', 'D', 'D', 'A', 'A'], ['-', 'D', 'N', 'D', 'N', '-', '-'], ['N', 'A', 'A', 'N', 'N', 'N', 'D'], ['N', 'A', 'A', 'D', '-', 'N', 'N'], ['A', 'N', '-', 'D', 'D', 'N', 'A']] 3\n",
      "------------ [['D', '-', 'D', 'D', 'D', 'D', 'A'], ['A', 'N', '-', 'A', 'N', '-', 'A'], ['-', '-', 'D', 'N', 'N', '-', '-'], ['D', 'D', 'D', 'D', 'D', 'D', 'D'], ['-', 'N', 'D', 'D', 'D', 'A', 'A'], ['-', 'D', 'D', 'D', 'N', '-', '-'], ['D', 'A', 'A', 'N', 'N', 'D', 'D'], ['D', 'A', 'D', 'D', '-', 'N', 'N'], ['A', 'N', '-', 'D', 'D', 'D', 'A']]\n",
      "[['D', '-', 'D', 'D', 'D', 'D', 'A'], ['A', 'N', '-', 'A', 'N', '-', 'A'], ['-', '-', 'D', 'N', 'N', '-', '-'], ['D', 'D', 'D', 'D', 'D', 'D', 'D'], ['-', 'N', 'D', 'D', 'D', 'A', 'A'], ['-', 'D', 'D', 'D', 'N', '-', '-'], ['D', 'A', 'A', 'N', 'N', 'D', 'D'], ['D', 'A', 'D', 'D', '-', 'N', 'N'], ['A', 'N', '-', 'D', 'D', 'D', 'A']]\n",
      "[['D', '-', 'D', 'D', 'D', 'D', 'A'], ['A', 'N', '-', 'A', 'N', '-', 'A'], ['-', '-', 'D', 'N', 'N', '-', '-'], ['D', 'D', 'D', 'D', 'D', 'D', 'D'], ['-', 'N', 'D', 'D', 'D', 'A', 'A'], ['-', 'D', 'D', 'D', 'N', '-', '-'], ['D', 'A', 'A', 'N', 'N', 'D', 'D'], ['D', 'A', 'D', 'D', '-', 'N', 'N'], ['A', 'N', '-', 'D', 'D', 'D', 'A']] 3\n",
      "------------ [['D', '-', 'A', 'D', 'A', 'D', 'A'], ['A', 'N', '-', 'A', 'N', '-', 'A'], ['-', '-', 'D', 'N', 'N', '-', '-'], ['N', 'D', 'D', 'A', 'D', 'N', 'D'], ['-', 'N', 'N', 'D', 'D', 'A', 'A'], ['-', 'D', 'N', 'D', 'N', '-', '-'], ['N', 'A', 'A', 'N', 'N', 'N', 'D'], ['N', 'A', 'A', 'D', '-', 'N', 'N'], ['A', 'N', '-', 'D', 'D', 'N', 'A']]\n",
      "[['D', '-', 'A', 'D', 'A', 'D', 'A'], ['A', 'N', '-', 'A', 'N', '-', 'A'], ['-', '-', 'D', 'N', 'N', '-', '-'], ['N', 'D', 'D', 'A', 'D', 'N', 'D'], ['-', 'N', 'N', 'D', 'D', 'A', 'A'], ['-', 'D', 'N', 'D', 'N', '-', '-'], ['N', 'A', 'A', 'N', 'N', 'N', 'D'], ['N', 'A', 'A', 'D', '-', 'N', 'N'], ['A', 'N', '-', 'D', 'D', 'N', 'A']]\n",
      "[['D', '-', 'A', 'D', 'A', 'D', 'A'], ['A', 'N', '-', 'A', 'N', '-', 'A'], ['-', '-', 'D', 'N', 'N', '-', '-'], ['N', 'D', 'D', 'A', 'D', 'N', 'D'], ['-', 'N', 'N', 'D', 'D', 'A', 'A'], ['-', 'D', 'N', 'D', 'N', '-', '-'], ['N', 'A', 'A', 'N', 'N', 'N', 'D'], ['N', 'A', 'A', 'D', '-', 'N', 'N'], ['A', 'N', '-', 'D', 'D', 'N', 'A']] 3\n",
      "[['D', '-', 'D', 'D', 'D', 'D', 'A'], ['A', 'N', '-', 'A', 'N', '-', 'A'], ['-', '-', 'D', 'N', 'N', '-', '-'], ['D', 'D', 'D', 'D', 'D', 'D', 'D'], ['-', 'N', 'D', 'D', 'D', 'A', 'A'], ['-', 'D', 'D', 'D', 'N', '-', '-'], ['D', 'A', 'A', 'N', 'N', 'D', 'D'], ['D', 'A', 'D', 'D', '-', 'N', 'N'], ['A', 'N', '-', 'D', 'D', 'D', 'A']]\n",
      "------------ [['D', '-', 'D', 'D', 'D', 'D', 'A'], ['A', 'N', '-', 'A', 'N', '-', 'A'], ['-', '-', 'D', 'N', 'N', '-', '-'], ['D', 'D', 'D', 'D', 'D', 'D', 'D'], ['-', 'N', 'D', 'D', 'D', 'A', 'A'], ['-', 'D', 'D', 'D', 'N', '-', '-'], ['D', 'A', 'A', 'N', 'N', 'D', 'D'], ['D', 'A', 'D', 'D', '-', 'N', 'N'], ['A', 'N', '-', 'D', 'D', 'D', 'A']]\n",
      "[['D', '-', 'D', 'D', 'D', 'D', 'A'], ['A', 'N', '-', 'A', 'N', '-', 'A'], ['-', '-', 'D', 'N', 'N', '-', '-'], ['D', 'D', 'D', 'D', 'D', 'D', 'D'], ['-', 'N', 'D', 'D', 'D', 'A', 'A'], ['-', 'D', 'D', 'D', 'N', '-', '-'], ['D', 'A', 'A', 'N', 'N', 'D', 'D'], ['D', 'A', 'D', 'D', '-', 'N', 'N'], ['A', 'N', '-', 'D', 'D', 'D', 'A']]\n",
      "[['D', '-', 'D', 'D', 'D', 'D', 'A'], ['A', 'N', '-', 'A', 'N', '-', 'A'], ['-', '-', 'D', 'N', 'N', '-', '-'], ['D', 'D', 'D', 'D', 'D', 'D', 'D'], ['-', 'N', 'D', 'D', 'D', 'A', 'A'], ['-', 'D', 'D', 'D', 'N', '-', '-'], ['D', 'A', 'A', 'N', 'N', 'D', 'D'], ['D', 'A', 'D', 'D', '-', 'N', 'N'], ['A', 'N', '-', 'D', 'D', 'D', 'A']] 3\n",
      "<function move_all_1_forbidden_constraint3 at 0x118e54280>\n",
      "------------ [['D', '-', 'D', 'D', 'D', 'D', 'A'], ['A', 'N', '-', 'A', 'N', '-', 'A'], ['-', '-', 'D', 'N', 'N', '-', '-'], ['D', 'D', 'D', 'D', 'D', 'D', 'D'], ['-', 'N', 'D', 'D', 'D', 'A', 'A'], ['-', 'D', 'D', 'D', 'N', '-', '-'], ['D', 'A', 'A', 'N', 'N', 'D', 'D'], ['D', 'A', 'D', 'D', '-', 'N', 'N'], ['A', 'N', '-', 'D', 'D', 'D', 'A']]\n",
      "[['D', '-', 'D', 'D', 'D', 'D', 'A'], ['A', 'N', '-', 'A', 'N', '-', 'A'], ['-', '-', 'D', 'N', 'N', '-', '-'], ['D', 'D', 'D', 'D', 'D', 'D', 'D'], ['-', 'N', 'D', 'D', 'D', 'A', 'A'], ['-', 'D', 'D', 'D', 'N', '-', '-'], ['D', 'A', 'A', 'N', 'N', 'D', 'D'], ['D', 'A', 'D', 'D', '-', 'N', 'N'], ['A', 'N', '-', 'D', 'D', 'D', 'A']]\n",
      "[['D', '-', 'D', 'D', 'D', 'D', 'A'], ['A', 'N', '-', 'A', 'N', '-', 'A'], ['-', '-', 'D', 'N', 'N', '-', '-'], ['D', 'D', 'D', 'D', 'D', 'D', 'D'], ['-', 'N', 'D', 'D', 'D', 'A', 'A'], ['-', 'D', 'D', 'D', 'N', '-', '-'], ['D', 'A', 'A', 'N', 'N', 'D', 'D'], ['D', 'A', 'D', 'D', '-', 'N', 'N'], ['A', 'N', '-', 'D', 'D', 'D', 'A']] 3\n",
      "------------ None\n",
      "None\n",
      "None 3\n"
     ]
    },
    {
     "ename": "TypeError",
     "evalue": "'NoneType' object is not subscriptable",
     "output_type": "error",
     "traceback": [
      "\u001b[0;31m----------------------------------\u001b[0m",
      "\u001b[0;31mTypeError\u001b[0mTraceback (most recent call last)",
      "\u001b[0;32m<ipython-input-7-2668c6642a4e>\u001b[0m in \u001b[0;36m<module>\u001b[0;34m\u001b[0m\n\u001b[0;32m----> 1\u001b[0;31m \u001b[0mcalibrate_parameter_per_example\u001b[0m\u001b[0;34m(\u001b[0m\u001b[0mget_examples\u001b[0m\u001b[0;34m(\u001b[0m\u001b[0;34m)\u001b[0m\u001b[0;34m[\u001b[0m\u001b[0;36m0\u001b[0m\u001b[0;34m]\u001b[0m\u001b[0;34m)\u001b[0m\u001b[0;34m\u001b[0m\u001b[0;34m\u001b[0m\u001b[0m\n\u001b[0m",
      "\u001b[0;32m<ipython-input-6-bef4af56f53d>\u001b[0m in \u001b[0;36mcalibrate_parameter_per_example\u001b[0;34m(example)\u001b[0m\n\u001b[1;32m      7\u001b[0m                     \u001b[0mparams\u001b[0m \u001b[0;34m=\u001b[0m \u001b[0mT_max\u001b[0m\u001b[0;34m,\u001b[0m \u001b[0mr\u001b[0m\u001b[0;34m,\u001b[0m \u001b[0mtermination_condition\u001b[0m\u001b[0;34m,\u001b[0m \u001b[0mhalting_condition\u001b[0m\u001b[0;34m,\u001b[0m \u001b[0;32mTrue\u001b[0m\u001b[0;34m\u001b[0m\u001b[0;34m\u001b[0m\u001b[0m\n\u001b[1;32m      8\u001b[0m                     \u001b[0meval_function\u001b[0m \u001b[0;34m=\u001b[0m \u001b[0meval_solution_4\u001b[0m\u001b[0;34m\u001b[0m\u001b[0;34m\u001b[0m\u001b[0m\n\u001b[0;32m----> 9\u001b[0;31m                     \u001b[0mbest_solution\u001b[0m \u001b[0;34m=\u001b[0m \u001b[0mtest_SA_per_example\u001b[0m\u001b[0;34m(\u001b[0m\u001b[0mexample\u001b[0m\u001b[0;34m,\u001b[0m \u001b[0meval_function\u001b[0m\u001b[0;34m,\u001b[0m \u001b[0;34m*\u001b[0m\u001b[0mparams\u001b[0m\u001b[0;34m)\u001b[0m\u001b[0;34m\u001b[0m\u001b[0;34m\u001b[0m\u001b[0m\n\u001b[0m\u001b[1;32m     10\u001b[0m                     \u001b[0mpprint\u001b[0m\u001b[0;34m(\u001b[0m\u001b[0mreport_solution\u001b[0m\u001b[0;34m(\u001b[0m\u001b[0mbest_solution\u001b[0m\u001b[0;34m,\u001b[0m \u001b[0mread_data\u001b[0m\u001b[0;34m(\u001b[0m\u001b[0mexample\u001b[0m\u001b[0;34m)\u001b[0m\u001b[0;34m)\u001b[0m\u001b[0;34m)\u001b[0m\u001b[0;34m\u001b[0m\u001b[0;34m\u001b[0m\u001b[0m\n",
      "\u001b[0;32m~/repos/pssai2/all_functions.py\u001b[0m in \u001b[0;36mtest_SA_per_example\u001b[0;34m(example, eval_function, T_max, r, termination_condition, halting_condition, show_non_optimal)\u001b[0m\n\u001b[1;32m    691\u001b[0m         \u001b[0mprint\u001b[0m\u001b[0;34m(\u001b[0m\u001b[0mexample\u001b[0m\u001b[0;34m)\u001b[0m\u001b[0;34m\u001b[0m\u001b[0;34m\u001b[0m\u001b[0m\n\u001b[1;32m    692\u001b[0m     \u001b[0minput_data\u001b[0m \u001b[0;34m=\u001b[0m \u001b[0mread_data\u001b[0m\u001b[0;34m(\u001b[0m\u001b[0mexample\u001b[0m\u001b[0;34m)\u001b[0m\u001b[0;34m\u001b[0m\u001b[0;34m\u001b[0m\u001b[0m\n\u001b[0;32m--> 693\u001b[0;31m     \u001b[0msolution\u001b[0m \u001b[0;34m=\u001b[0m \u001b[0msimulated_annealing\u001b[0m\u001b[0;34m(\u001b[0m\u001b[0minput_data\u001b[0m\u001b[0;34m,\u001b[0m \u001b[0meval_function\u001b[0m\u001b[0;34m,\u001b[0m \u001b[0mT_max\u001b[0m\u001b[0;34m,\u001b[0m \u001b[0mr\u001b[0m\u001b[0;34m,\u001b[0m \u001b[0mtermination_condition\u001b[0m\u001b[0;34m,\u001b[0m \u001b[0mhalting_condition\u001b[0m\u001b[0;34m)\u001b[0m\u001b[0;34m\u001b[0m\u001b[0;34m\u001b[0m\u001b[0m\n\u001b[0m\u001b[1;32m    694\u001b[0m     \u001b[0;32mif\u001b[0m \u001b[0;34m\"Not satified in the given time\"\u001b[0m \u001b[0;32mnot\u001b[0m \u001b[0;32min\u001b[0m \u001b[0msolution\u001b[0m\u001b[0;34m:\u001b[0m\u001b[0;34m\u001b[0m\u001b[0;34m\u001b[0m\u001b[0m\n\u001b[1;32m    695\u001b[0m         \u001b[0;32mif\u001b[0m \u001b[0;32mnot\u001b[0m \u001b[0mshow_non_optimal\u001b[0m\u001b[0;34m:\u001b[0m\u001b[0;34m\u001b[0m\u001b[0;34m\u001b[0m\u001b[0m\n",
      "\u001b[0;32m~/repos/pssai2/all_functions.py\u001b[0m in \u001b[0;36msimulated_annealing\u001b[0;34m(input_data, eval_function, T_max, r, termination_condition, halting_condition)\u001b[0m\n\u001b[1;32m    644\u001b[0m             \u001b[0mprint\u001b[0m\u001b[0;34m(\u001b[0m\u001b[0mmove_choice\u001b[0m\u001b[0;34m)\u001b[0m\u001b[0;34m\u001b[0m\u001b[0;34m\u001b[0m\u001b[0m\n\u001b[1;32m    645\u001b[0m \u001b[0;34m\u001b[0m\u001b[0m\n\u001b[0;32m--> 646\u001b[0;31m             \u001b[0;32mif\u001b[0m \u001b[0meval_function\u001b[0m\u001b[0;34m(\u001b[0m\u001b[0msolution\u001b[0m\u001b[0;34m,\u001b[0m \u001b[0minput_data\u001b[0m\u001b[0;34m)\u001b[0m \u001b[0;34m<\u001b[0m \u001b[0meval_function\u001b[0m\u001b[0;34m(\u001b[0m\u001b[0mmove\u001b[0m\u001b[0;34m,\u001b[0m \u001b[0minput_data\u001b[0m\u001b[0;34m)\u001b[0m\u001b[0;34m:\u001b[0m \u001b[0msolution\u001b[0m \u001b[0;34m=\u001b[0m \u001b[0mmove\u001b[0m\u001b[0;34m\u001b[0m\u001b[0;34m\u001b[0m\u001b[0m\n\u001b[0m\u001b[1;32m    647\u001b[0m             \u001b[0;32melif\u001b[0m \u001b[0mrandom\u001b[0m\u001b[0;34m.\u001b[0m\u001b[0muniform\u001b[0m\u001b[0;34m(\u001b[0m\u001b[0;36m0\u001b[0m\u001b[0;34m,\u001b[0m \u001b[0;36m1\u001b[0m\u001b[0;34m)\u001b[0m \u001b[0;34m<\u001b[0m \u001b[0mexp_probability\u001b[0m\u001b[0;34m(\u001b[0m\u001b[0msolution\u001b[0m\u001b[0;34m,\u001b[0m \u001b[0meval_function\u001b[0m\u001b[0;34m,\u001b[0m \u001b[0mmove\u001b[0m\u001b[0;34m,\u001b[0m \u001b[0mT\u001b[0m\u001b[0;34m,\u001b[0m \u001b[0minput_data\u001b[0m\u001b[0;34m)\u001b[0m\u001b[0;34m:\u001b[0m \u001b[0msolution\u001b[0m \u001b[0;34m=\u001b[0m \u001b[0mmove\u001b[0m\u001b[0;34m\u001b[0m\u001b[0;34m\u001b[0m\u001b[0m\n\u001b[1;32m    648\u001b[0m \u001b[0;34m\u001b[0m\u001b[0m\n",
      "\u001b[0;32m~/repos/pssai2/all_functions.py\u001b[0m in \u001b[0;36meval_solution_4\u001b[0;34m(solution, input_data)\u001b[0m\n\u001b[1;32m    159\u001b[0m                         forbidden_constraint3)\n\u001b[1;32m    160\u001b[0m     \u001b[0mprint\u001b[0m\u001b[0;34m(\u001b[0m\u001b[0;34m'------------'\u001b[0m\u001b[0;34m,\u001b[0m\u001b[0msolution\u001b[0m\u001b[0;34m)\u001b[0m\u001b[0;34m\u001b[0m\u001b[0;34m\u001b[0m\u001b[0m\n\u001b[0;32m--> 161\u001b[0;31m     \u001b[0;32mif\u001b[0m \u001b[0mc1\u001b[0m\u001b[0;34m(\u001b[0m\u001b[0msolution\u001b[0m\u001b[0;34m,\u001b[0m \u001b[0minput_data\u001b[0m\u001b[0;34m)\u001b[0m\u001b[0;34m:\u001b[0m \u001b[0mscore\u001b[0m \u001b[0;34m+=\u001b[0m \u001b[0;36m60\u001b[0m\u001b[0;34m\u001b[0m\u001b[0;34m\u001b[0m\u001b[0m\n\u001b[0m\u001b[1;32m    162\u001b[0m     \u001b[0;32mif\u001b[0m \u001b[0mc2\u001b[0m\u001b[0;34m(\u001b[0m\u001b[0msolution\u001b[0m\u001b[0;34m,\u001b[0m \u001b[0minput_data\u001b[0m\u001b[0;34m)\u001b[0m\u001b[0;34m:\u001b[0m \u001b[0mscore\u001b[0m \u001b[0;34m+=\u001b[0m \u001b[0;36m10\u001b[0m\u001b[0;34m\u001b[0m\u001b[0;34m\u001b[0m\u001b[0m\n\u001b[1;32m    163\u001b[0m     \u001b[0;32mif\u001b[0m \u001b[0mc3\u001b[0m\u001b[0;34m(\u001b[0m\u001b[0msolution\u001b[0m\u001b[0;34m,\u001b[0m \u001b[0minput_data\u001b[0m\u001b[0;34m)\u001b[0m\u001b[0;34m:\u001b[0m \u001b[0mscore\u001b[0m \u001b[0;34m+=\u001b[0m \u001b[0;36m10\u001b[0m\u001b[0;34m\u001b[0m\u001b[0;34m\u001b[0m\u001b[0m\n",
      "\u001b[0;32m~/repos/pssai2/all_functions.py\u001b[0m in \u001b[0;36mdemand_constraint\u001b[0;34m(result, input_data)\u001b[0m\n\u001b[1;32m     12\u001b[0m \u001b[0;32mdef\u001b[0m \u001b[0mdemand_constraint\u001b[0m\u001b[0;34m(\u001b[0m\u001b[0mresult\u001b[0m\u001b[0;34m,\u001b[0m \u001b[0minput_data\u001b[0m\u001b[0;34m)\u001b[0m\u001b[0;34m:\u001b[0m\u001b[0;34m\u001b[0m\u001b[0;34m\u001b[0m\u001b[0m\n\u001b[1;32m     13\u001b[0m     \u001b[0mprint\u001b[0m\u001b[0;34m(\u001b[0m\u001b[0mresult\u001b[0m\u001b[0;34m)\u001b[0m\u001b[0;34m\u001b[0m\u001b[0;34m\u001b[0m\u001b[0m\n\u001b[0;32m---> 14\u001b[0;31m     \u001b[0msolution_demand\u001b[0m \u001b[0;34m=\u001b[0m \u001b[0msolution_to_demand\u001b[0m\u001b[0;34m(\u001b[0m\u001b[0mresult\u001b[0m\u001b[0;34m,\u001b[0m \u001b[0minput_data\u001b[0m\u001b[0;34m[\u001b[0m\u001b[0;34m'number_of_shifts'\u001b[0m\u001b[0;34m]\u001b[0m\u001b[0;34m)\u001b[0m\u001b[0;34m\u001b[0m\u001b[0;34m\u001b[0m\u001b[0m\n\u001b[0m\u001b[1;32m     15\u001b[0m     \u001b[0;32mfor\u001b[0m \u001b[0ms\u001b[0m \u001b[0;32min\u001b[0m \u001b[0mrange\u001b[0m\u001b[0;34m(\u001b[0m\u001b[0minput_data\u001b[0m\u001b[0;34m[\u001b[0m\u001b[0;34m'number_of_shifts'\u001b[0m\u001b[0;34m]\u001b[0m\u001b[0;34m)\u001b[0m\u001b[0;34m:\u001b[0m\u001b[0;34m\u001b[0m\u001b[0;34m\u001b[0m\u001b[0m\n\u001b[1;32m     16\u001b[0m         \u001b[0;32mfor\u001b[0m \u001b[0md\u001b[0m \u001b[0;32min\u001b[0m \u001b[0mrange\u001b[0m\u001b[0;34m(\u001b[0m\u001b[0minput_data\u001b[0m\u001b[0;34m[\u001b[0m\u001b[0;34m'length_of_schedule'\u001b[0m\u001b[0;34m]\u001b[0m\u001b[0;34m)\u001b[0m\u001b[0;34m:\u001b[0m\u001b[0;34m\u001b[0m\u001b[0;34m\u001b[0m\u001b[0m\n",
      "\u001b[0;32m~/repos/pssai2/all_functions.py\u001b[0m in \u001b[0;36msolution_to_demand\u001b[0;34m(solution, numshifts)\u001b[0m\n\u001b[1;32m    192\u001b[0m \u001b[0;32mdef\u001b[0m \u001b[0msolution_to_demand\u001b[0m\u001b[0;34m(\u001b[0m\u001b[0msolution\u001b[0m\u001b[0;34m,\u001b[0m \u001b[0mnumshifts\u001b[0m\u001b[0;34m)\u001b[0m\u001b[0;34m:\u001b[0m\u001b[0;34m\u001b[0m\u001b[0;34m\u001b[0m\u001b[0m\n\u001b[1;32m    193\u001b[0m     \u001b[0mprint\u001b[0m\u001b[0;34m(\u001b[0m\u001b[0msolution\u001b[0m\u001b[0;34m,\u001b[0m \u001b[0mnumshifts\u001b[0m\u001b[0;34m)\u001b[0m\u001b[0;34m\u001b[0m\u001b[0;34m\u001b[0m\u001b[0m\n\u001b[0;32m--> 194\u001b[0;31m     \u001b[0mdemand\u001b[0m \u001b[0;34m=\u001b[0m \u001b[0;34m[\u001b[0m\u001b[0;34m[\u001b[0m\u001b[0;36m0\u001b[0m \u001b[0;32mfor\u001b[0m \u001b[0mi\u001b[0m \u001b[0;32min\u001b[0m \u001b[0mrange\u001b[0m\u001b[0;34m(\u001b[0m\u001b[0mlen\u001b[0m\u001b[0;34m(\u001b[0m\u001b[0msolution\u001b[0m\u001b[0;34m[\u001b[0m\u001b[0;36m0\u001b[0m\u001b[0;34m]\u001b[0m\u001b[0;34m)\u001b[0m\u001b[0;34m)\u001b[0m\u001b[0;34m]\u001b[0m \u001b[0;32mfor\u001b[0m \u001b[0mi\u001b[0m \u001b[0;32min\u001b[0m \u001b[0mrange\u001b[0m\u001b[0;34m(\u001b[0m\u001b[0mnumshifts\u001b[0m\u001b[0;34m)\u001b[0m\u001b[0;34m]\u001b[0m\u001b[0;34m\u001b[0m\u001b[0;34m\u001b[0m\u001b[0m\n\u001b[0m\u001b[1;32m    195\u001b[0m     \u001b[0;32mfor\u001b[0m \u001b[0md\u001b[0m \u001b[0;32min\u001b[0m \u001b[0mrange\u001b[0m\u001b[0;34m(\u001b[0m\u001b[0mlen\u001b[0m\u001b[0;34m(\u001b[0m\u001b[0msolution\u001b[0m\u001b[0;34m[\u001b[0m\u001b[0;36m0\u001b[0m\u001b[0;34m]\u001b[0m\u001b[0;34m)\u001b[0m\u001b[0;34m)\u001b[0m\u001b[0;34m:\u001b[0m\u001b[0;34m\u001b[0m\u001b[0;34m\u001b[0m\u001b[0m\n\u001b[1;32m    196\u001b[0m         \u001b[0;32mfor\u001b[0m \u001b[0me\u001b[0m \u001b[0;32min\u001b[0m \u001b[0mrange\u001b[0m\u001b[0;34m(\u001b[0m\u001b[0mlen\u001b[0m\u001b[0;34m(\u001b[0m\u001b[0msolution\u001b[0m\u001b[0;34m)\u001b[0m\u001b[0;34m)\u001b[0m\u001b[0;34m:\u001b[0m\u001b[0;34m\u001b[0m\u001b[0;34m\u001b[0m\u001b[0m\n",
      "\u001b[0;32m~/repos/pssai2/all_functions.py\u001b[0m in \u001b[0;36m<listcomp>\u001b[0;34m(.0)\u001b[0m\n\u001b[1;32m    192\u001b[0m \u001b[0;32mdef\u001b[0m \u001b[0msolution_to_demand\u001b[0m\u001b[0;34m(\u001b[0m\u001b[0msolution\u001b[0m\u001b[0;34m,\u001b[0m \u001b[0mnumshifts\u001b[0m\u001b[0;34m)\u001b[0m\u001b[0;34m:\u001b[0m\u001b[0;34m\u001b[0m\u001b[0;34m\u001b[0m\u001b[0m\n\u001b[1;32m    193\u001b[0m     \u001b[0mprint\u001b[0m\u001b[0;34m(\u001b[0m\u001b[0msolution\u001b[0m\u001b[0;34m,\u001b[0m \u001b[0mnumshifts\u001b[0m\u001b[0;34m)\u001b[0m\u001b[0;34m\u001b[0m\u001b[0;34m\u001b[0m\u001b[0m\n\u001b[0;32m--> 194\u001b[0;31m     \u001b[0mdemand\u001b[0m \u001b[0;34m=\u001b[0m \u001b[0;34m[\u001b[0m\u001b[0;34m[\u001b[0m\u001b[0;36m0\u001b[0m \u001b[0;32mfor\u001b[0m \u001b[0mi\u001b[0m \u001b[0;32min\u001b[0m \u001b[0mrange\u001b[0m\u001b[0;34m(\u001b[0m\u001b[0mlen\u001b[0m\u001b[0;34m(\u001b[0m\u001b[0msolution\u001b[0m\u001b[0;34m[\u001b[0m\u001b[0;36m0\u001b[0m\u001b[0;34m]\u001b[0m\u001b[0;34m)\u001b[0m\u001b[0;34m)\u001b[0m\u001b[0;34m]\u001b[0m \u001b[0;32mfor\u001b[0m \u001b[0mi\u001b[0m \u001b[0;32min\u001b[0m \u001b[0mrange\u001b[0m\u001b[0;34m(\u001b[0m\u001b[0mnumshifts\u001b[0m\u001b[0;34m)\u001b[0m\u001b[0;34m]\u001b[0m\u001b[0;34m\u001b[0m\u001b[0;34m\u001b[0m\u001b[0m\n\u001b[0m\u001b[1;32m    195\u001b[0m     \u001b[0;32mfor\u001b[0m \u001b[0md\u001b[0m \u001b[0;32min\u001b[0m \u001b[0mrange\u001b[0m\u001b[0;34m(\u001b[0m\u001b[0mlen\u001b[0m\u001b[0;34m(\u001b[0m\u001b[0msolution\u001b[0m\u001b[0;34m[\u001b[0m\u001b[0;36m0\u001b[0m\u001b[0;34m]\u001b[0m\u001b[0;34m)\u001b[0m\u001b[0;34m)\u001b[0m\u001b[0;34m:\u001b[0m\u001b[0;34m\u001b[0m\u001b[0;34m\u001b[0m\u001b[0m\n\u001b[1;32m    196\u001b[0m         \u001b[0;32mfor\u001b[0m \u001b[0me\u001b[0m \u001b[0;32min\u001b[0m \u001b[0mrange\u001b[0m\u001b[0;34m(\u001b[0m\u001b[0mlen\u001b[0m\u001b[0;34m(\u001b[0m\u001b[0msolution\u001b[0m\u001b[0;34m)\u001b[0m\u001b[0;34m)\u001b[0m\u001b[0;34m:\u001b[0m\u001b[0;34m\u001b[0m\u001b[0;34m\u001b[0m\u001b[0m\n",
      "\u001b[0;31mTypeError\u001b[0m: 'NoneType' object is not subscriptable"
     ]
    }
   ],
   "source": [
    "calibrate_parameter_per_example(get_examples()[0])"
   ]
  }
 ],
 "metadata": {
  "kernelspec": {
   "display_name": "Python 3",
   "language": "python",
   "name": "python3"
  },
  "language_info": {
   "codemirror_mode": {
    "name": "ipython",
    "version": 3
   },
   "file_extension": ".py",
   "mimetype": "text/x-python",
   "name": "python",
   "nbconvert_exporter": "python",
   "pygments_lexer": "ipython3",
   "version": "3.8.5"
  }
 },
 "nbformat": 4,
 "nbformat_minor": 4
}
