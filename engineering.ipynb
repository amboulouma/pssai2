{
 "cells": [
  {
   "cell_type": "code",
   "execution_count": 1,
   "metadata": {},
   "outputs": [],
   "source": [
    "from simulated_annealing import *\n",
    "from datetime import datetime"
   ]
  },
  {
   "cell_type": "code",
   "execution_count": 2,
   "metadata": {},
   "outputs": [],
   "source": [
    "def quick_SA(example):\n",
    "    input_data = read_data(example)\n",
    "    termination_condition = 1000\n",
    "    halting_condition = 10000\n",
    "    T_max = 10000\n",
    "    r = 0.99\n",
    "    params = T_max, r, termination_condition, halting_condition, False\n",
    "    eval_function = eval_solution\n",
    "    start_time = datetime.now()\n",
    "    best_solution = test_SA_per_example(example, eval_function, *params)\n",
    "    end_time = datetime.now()\n",
    "    pprint(report_solution(best_solution, input_data))\n",
    "    print()\n",
    "    print(f'params: Example={example}, Duration={end_time - start_time}, evaluation={eval_function(best_solution, input_data)}, T_max={T_max}, r={r/100}, termination_condition={termination_condition}, halting_condition={halting_condition}')\n",
    "    return best_solution"
   ]
  },
  {
   "cell_type": "code",
   "execution_count": 3,
   "metadata": {},
   "outputs": [],
   "source": [
    "def calibrate_parameter_per_example(example):\n",
    "    termination_condition = 1000\n",
    "    halting_condition = 1000\n",
    "    for T_max in [10**x for x in range(1, 5)]:\n",
    "        for r in range(10, 100, 10):\n",
    "            params = T_max, r/100, termination_condition, halting_condition, False\n",
    "            eval_function = eval_solution\n",
    "            start_time = datetime.now()\n",
    "            best_solution = test_SA_per_example(example, eval_function, *params)\n",
    "            end_time = datetime.now()\n",
    "            if eval_function(best_solution, input_data) >= 80:\n",
    "                pprint(report_solution(best_solution, read_data(example)))\n",
    "                print(f'params: Example={example}, Duration={end_time - start_time}, evaluation={eval_function(best_solution, input_data)}, T_max={T_max}, r={r/100}, termination_condition={termination_condition}, halting_condition={halting_condition}')\n",
    "                print()\n",
    "                \n",
    "                "
   ]
  },
  {
   "cell_type": "code",
   "execution_count": 4,
   "metadata": {
    "scrolled": false
   },
   "outputs": [
    {
     "name": "stdout",
     "output_type": "stream",
     "text": [
      "{'day_off_constraint': False,\n",
      " 'demand_afternoon_constraint': True,\n",
      " 'demand_constraint': True,\n",
      " 'demand_day_constraint': True,\n",
      " 'demand_night_constraint': True,\n",
      " 'forbidden_constraint2': False,\n",
      " 'forbidden_constraint3': True,\n",
      " 'length_work_blocks_constraint': True,\n",
      " 'max_day_off_constraint': True,\n",
      " 'max_length_of_shift_constraint': True,\n",
      " 'max_length_work_blocks_constraint': True,\n",
      " 'min_day_off_constraint': False,\n",
      " 'min_length_of_shift_constraint': False,\n",
      " 'min_length_work_blocks_constraint': True,\n",
      " 'optimization_score': 64}\n",
      "\n",
      "params: Example=rws_instances/Example1.txt, Duration=0:00:15.417774, evaluation=96, T_max=10000, r=0.009899999999999999, termination_condition=1000, halting_condition=10000\n"
     ]
    },
    {
     "data": {
      "text/plain": [
       "[['N', 'D', 'A', 'A', 'D', 'A', 'N'],\n",
       " ['D', 'A', 'D', 'N', '-', 'A', 'A'],\n",
       " ['A', 'A', 'N', 'N', '-', 'D', 'D'],\n",
       " ['N', 'N', '-', 'D', 'A', 'D', 'D'],\n",
       " ['A', '-', 'N', 'D', 'D', 'D', 'D'],\n",
       " ['-', 'N', 'D', 'D', 'N', 'N', '-'],\n",
       " ['D', 'D', 'D', 'A', 'N', '-', 'D'],\n",
       " ['D', 'A', 'A', 'D', 'A', 'N', 'N'],\n",
       " ['D', 'D', '-', 'A', 'A', 'A', 'A']]"
      ]
     },
     "execution_count": 4,
     "metadata": {},
     "output_type": "execute_result"
    }
   ],
   "source": [
    "for example in get_examples():\n",
    "    solution = quick_SA(example)\n"
   ]
  }
 ],
 "metadata": {
  "kernelspec": {
   "display_name": "Python 3",
   "language": "python",
   "name": "python3"
  },
  "language_info": {
   "codemirror_mode": {
    "name": "ipython",
    "version": 3
   },
   "file_extension": ".py",
   "mimetype": "text/x-python",
   "name": "python",
   "nbconvert_exporter": "python",
   "pygments_lexer": "ipython3",
   "version": "3.8.5"
  }
 },
 "nbformat": 4,
 "nbformat_minor": 4
}
