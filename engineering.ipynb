{
 "cells": [
  {
   "cell_type": "code",
   "execution_count": 1,
   "metadata": {},
   "outputs": [],
   "source": [
    "from all_functions import *"
   ]
  },
  {
   "cell_type": "code",
   "execution_count": 2,
   "metadata": {},
   "outputs": [
    {
     "data": {
      "text/plain": [
       "[['N', 'N', 'D', 'D', '-', 'A', 'D'],\n",
       " ['N', 'A', '-', 'D', 'D', 'D', '-'],\n",
       " ['A', 'N', 'A', 'A', 'A', 'A', 'A'],\n",
       " ['D', '-', '-', 'A', 'A', 'N', 'D'],\n",
       " ['-', 'A', 'D', 'A', 'N', '-', 'N'],\n",
       " ['D', 'N', '-', '-', 'A', '-', 'D'],\n",
       " ['D', 'N', 'A', 'D', '-', 'A', 'A'],\n",
       " ['N', 'N', 'A', 'D', 'N', 'A', 'A'],\n",
       " ['D', 'A', '-', 'D', 'N', '-', '-']]"
      ]
     },
     "execution_count": 2,
     "metadata": {},
     "output_type": "execute_result"
    }
   ],
   "source": [
    "input_data = read_data(get_examples()[0])\n",
    "\n",
    "solution_1 = generate_random_solution(input_data)\n",
    "solution_1"
   ]
  },
  {
   "cell_type": "code",
   "execution_count": 3,
   "metadata": {},
   "outputs": [
    {
     "data": {
      "text/plain": [
       "[['A', 'D', 'D', 'N', 'D', 'D', 'N'],\n",
       " ['N', 'D', 'N', 'D', 'D', 'D', '-'],\n",
       " ['A', 'N', 'N', 'A', 'A', 'A', 'A'],\n",
       " ['D', '-', '-', 'A', 'A', 'N', 'D'],\n",
       " ['-', 'A', 'D', 'A', 'N', 'N', 'N'],\n",
       " ['D', 'N', '-', 'N', 'A', '-', 'D'],\n",
       " ['D', 'N', 'A', 'D', '-', 'A', 'A'],\n",
       " ['N', 'N', 'A', 'D', 'N', 'A', 'A'],\n",
       " ['D', 'A', '-', 'D', 'N', '-', '-']]"
      ]
     },
     "execution_count": 3,
     "metadata": {},
     "output_type": "execute_result"
    }
   ],
   "source": [
    "solution_2 = move_all_demand_constraint(solution_1, input_data)\n",
    "solution_2"
   ]
  },
  {
   "cell_type": "code",
   "execution_count": 4,
   "metadata": {},
   "outputs": [
    {
     "data": {
      "text/plain": [
       "[[4, 2, 2, 4, 2, 2, 2], [2, 2, 2, 3, 3, 3, 3], [2, 4, 2, 2, 3, 2, 2]]"
      ]
     },
     "execution_count": 4,
     "metadata": {},
     "output_type": "execute_result"
    }
   ],
   "source": [
    "solution_to_demand(solution_2, 3)"
   ]
  },
  {
   "cell_type": "code",
   "execution_count": 5,
   "metadata": {
    "scrolled": true
   },
   "outputs": [
    {
     "data": {
      "text/plain": [
       "True"
      ]
     },
     "execution_count": 5,
     "metadata": {},
     "output_type": "execute_result"
    }
   ],
   "source": [
    "demand_constraint(solution_2, input_data)"
   ]
  },
  {
   "cell_type": "code",
   "execution_count": 6,
   "metadata": {},
   "outputs": [],
   "source": [
    "termination_condition = 1000\n",
    "halting_condition = 1000\n",
    "def calibrate_parameter_per_example(example):\n",
    "    for T_max in [10**x for x in range(1, 5)]:\n",
    "        for r in range(10, 100, 10):\n",
    "            params = T_max, r/100, termination_condition, halting_condition, False\n",
    "            eval_function = eval_solution_5\n",
    "            best_solution = test_SA_per_example(example, eval_function, *params)\n",
    "            if eval_function(best_solution, input_data) >= 90:\n",
    "                pprint(report_solution(best_solution, read_data(example)))\n",
    "                print(f'Last solution: {eval_function(best_solution, input_data)}')\n",
    "                pprint(best_solution)\n",
    "                print(f'params: example={example}, T_max={T_max}, r={r/100}, termination_condition={termination_condition}, halting_condition={halting_condition}')\n",
    "                print()"
   ]
  },
  {
   "cell_type": "code",
   "execution_count": null,
   "metadata": {
    "scrolled": true
   },
   "outputs": [],
   "source": [
    "calibrate_parameter_per_example(get_examples()[0])"
   ]
  },
  {
   "cell_type": "code",
   "execution_count": null,
   "metadata": {},
   "outputs": [],
   "source": [
    "for example in get_examples()[6:]:\n",
    "    print(example)\n",
    "    calibrate_parameter_per_example(example)"
   ]
  },
  {
   "cell_type": "code",
   "execution_count": null,
   "metadata": {},
   "outputs": [],
   "source": [
    "calibrate_parameter_per_example(get_examples()[5])"
   ]
  },
  {
   "cell_type": "code",
   "execution_count": null,
   "metadata": {},
   "outputs": [],
   "source": [
    "read_data(get_examples()[5])"
   ]
  },
  {
   "cell_type": "code",
   "execution_count": null,
   "metadata": {},
   "outputs": [],
   "source": [
    "read_data(get_examples()[0])"
   ]
  },
  {
   "cell_type": "code",
   "execution_count": null,
   "metadata": {},
   "outputs": [],
   "source": [
    "def day_off_constraint(result, input_data):\n",
    "    count_day_off = 0\n",
    "    for e in range(input_data['number_of_employees']):\n",
    "        count_day_off = 0\n",
    "        for d in range(input_data['length_of_schedule']):\n",
    "            if result[e][d] == '-': count_day_off += 1\n",
    "        if count_day_off >= input_data['min_days_off'] and count_day_off <= input_data['max_days_off']: \n",
    "            continue\n",
    "        else: \n",
    "            return False\n",
    "    return True\n"
   ]
  },
  {
   "cell_type": "code",
   "execution_count": null,
   "metadata": {},
   "outputs": [],
   "source": [
    "def min_day_off_constraint(result, input_data):\n",
    "    count_day_off = 0\n",
    "    for e in range(input_data['number_of_employees']):\n",
    "        count_day_off = 0\n",
    "        for d in range(input_data['length_of_schedule']):\n",
    "            if result[e][d] == '-': count_day_off += 1\n",
    "        if count_day_off >= input_data['min_days_off']: \n",
    "            continue\n",
    "        else: \n",
    "            return False\n",
    "    return True"
   ]
  },
  {
   "cell_type": "code",
   "execution_count": null,
   "metadata": {},
   "outputs": [],
   "source": [
    "def max_day_off_constraint(result, input_data):\n",
    "    count_day_off = 0\n",
    "    for e in range(input_data['number_of_employees']):\n",
    "        count_day_off = 0\n",
    "        for d in range(input_data['length_of_schedule']):\n",
    "            if result[e][d] == '-': count_day_off += 1\n",
    "        if count_day_off <= input_data['max_days_off']: \n",
    "            continue\n",
    "        else: \n",
    "            return False\n",
    "    return True\n"
   ]
  },
  {
   "cell_type": "code",
   "execution_count": null,
   "metadata": {},
   "outputs": [],
   "source": [
    "def move_all_day_off_constraint(result, input_data):\n",
    "    count_day_off, min_days_off, max_days_off = 0,input_data['min_days_off'],input_data['max_days_off']\n",
    "    updated_result = deepcopy(result)\n",
    "    if not day_off_constraint(updated_result, input_data):\n",
    "        code = input_data['shift_name'] + ['-']\n",
    "        for e in range(input_data['number_of_employees']):\n",
    "            count_day_off = 0\n",
    "            for d in range(input_data['length_of_schedule']):\n",
    "                if updated_result[e][d] == '-': count_day_off += 1\n",
    "            if count_day_off >= input_data['min_days_off']: pass\n",
    "            else: \n",
    "                while count_day_off <= min_days_off:\n",
    "                    updated_result[e][random.randint(0, input_data['length_of_schedule']-1)] = '-'\n",
    "                    count_day_off += 1\n",
    "            if count_day_off <= input_data['max_days_off']: pass\n",
    "            else: \n",
    "                while count_day_off >= max_days_off:\n",
    "                    updated_result[e][random.randint(0, input_data['length_of_schedule']-1)] = random.choice(list(set(code) - set('-')))            \n",
    "                    count_day_off -= 1        \n",
    "    return updated_result"
   ]
  },
  {
   "cell_type": "code",
   "execution_count": null,
   "metadata": {},
   "outputs": [],
   "source": [
    "def move_min_day_off_constraint(result, input_data):\n",
    "    count_day_off, min_days_off, max_days_off = 0,input_data['min_days_off'],input_data['max_days_off']\n",
    "    updated_result = deepcopy(result)\n",
    "    if not day_off_constraint(updated_result, input_data):\n",
    "        code = input_data['shift_name'] + ['-']\n",
    "        for e in range(input_data['number_of_employees']):\n",
    "            count_day_off = 0\n",
    "            for d in range(input_data['length_of_schedule']):\n",
    "                if updated_result[e][d] == '-': count_day_off += 1\n",
    "            if count_day_off >= input_data['min_days_off']: pass\n",
    "            else: \n",
    "                while count_day_off <= min_days_off:\n",
    "                    updated_result[e][random.randint(0, input_data['length_of_schedule']-1)] = '-'\n",
    "                    count_day_off += 1    \n",
    "    return updated_result"
   ]
  },
  {
   "cell_type": "code",
   "execution_count": null,
   "metadata": {},
   "outputs": [],
   "source": [
    "def move_max_day_off_constraint(result, input_data):\n",
    "    count_day_off, min_days_off, max_days_off = 0,input_data['min_days_off'],input_data['max_days_off']\n",
    "    updated_result = deepcopy(result)\n",
    "    if not day_off_constraint(updated_result, input_data):\n",
    "        code = input_data['shift_name'] + ['-']\n",
    "        for e in range(input_data['number_of_employees']):\n",
    "            count_day_off = 0\n",
    "            for d in range(input_data['length_of_schedule']):\n",
    "                if updated_result[e][d] == '-': count_day_off += 1\n",
    "            if count_day_off <= input_data['max_days_off']: pass\n",
    "            else: \n",
    "                while count_day_off >= max_days_off:\n",
    "                    updated_result[e][random.randint(0, input_data['length_of_schedule']-1)] = random.choice(list(set(code) - set('-')))            \n",
    "                    count_day_off -= 1 \n",
    "    return updated_result"
   ]
  },
  {
   "cell_type": "code",
   "execution_count": null,
   "metadata": {
    "scrolled": true
   },
   "outputs": [],
   "source": [
    "day_off_constraint(move_all_day_off_constraint(solution_1, input_data), input_data)"
   ]
  },
  {
   "cell_type": "code",
   "execution_count": null,
   "metadata": {},
   "outputs": [],
   "source": [
    "day_off_constraint(solution_1, input_data)"
   ]
  },
  {
   "cell_type": "code",
   "execution_count": null,
   "metadata": {},
   "outputs": [],
   "source": [
    "def length_work_blocks_constraint(result, input_data):\n",
    "    for e in range(input_data['number_of_employees']):\n",
    "        count_consecutive = 0\n",
    "        min_flag, max_flag = False, False\n",
    "        for d in range(input_data['length_of_schedule'] - 1):\n",
    "            if result[e][d] != '-' and result[e][d+1] != '-': \n",
    "                count_consecutive += 1\n",
    "                if count_consecutive >= input_data['min_length_work_blocks'] - 1:\n",
    "                    min_flag = True\n",
    "                    if count_consecutive <= input_data['max_length_work_blocks'] - 1:\n",
    "                        max_flag = True\n",
    "            else:  count_consecutive = 0\n",
    "        if min_flag and max_flag: continue\n",
    "        else: return False\n",
    "    return True"
   ]
  },
  {
   "cell_type": "code",
   "execution_count": null,
   "metadata": {},
   "outputs": [],
   "source": [
    "def min_length_work_blocks_constraint(result, input_data):\n",
    "    for e in range(input_data['number_of_employees']):\n",
    "        count_consecutive = 0\n",
    "        min_flag = False\n",
    "        for d in range(input_data['length_of_schedule'] - 1):\n",
    "            if result[e][d] != '-' and result[e][d+1] != '-': \n",
    "                count_consecutive += 1\n",
    "                if count_consecutive >= input_data['min_length_work_blocks'] - 1:\n",
    "                    min_flag = True\n",
    "            else: count_consecutive = 0\n",
    "        if min_flag: continue\n",
    "        else: return False\n",
    "    return True"
   ]
  },
  {
   "cell_type": "code",
   "execution_count": null,
   "metadata": {},
   "outputs": [],
   "source": [
    "def max_length_work_blocks_constraint(result, input_data):\n",
    "    for e in range(input_data['number_of_employees']):\n",
    "        count_consecutive = 0\n",
    "        max_flag = False\n",
    "        for d in range(input_data['length_of_schedule'] - 1):\n",
    "            if result[e][d] != '-' and result[e][d+1] != '-': \n",
    "                count_consecutive += 1\n",
    "                if count_consecutive >= input_data['min_length_work_blocks'] - 1:\n",
    "                    if count_consecutive <= input_data['max_length_work_blocks'] - 1:\n",
    "                        max_flag = True\n",
    "            else: count_consecutive = 0\n",
    "        if max_flag: continue\n",
    "        else: return False\n",
    "    return True"
   ]
  },
  {
   "cell_type": "code",
   "execution_count": null,
   "metadata": {},
   "outputs": [],
   "source": [
    "def forbidden_constraint2(result, input_data):\n",
    "    if input_data['not_allowed_shift_sequences_2'] == []: return True\n",
    "    if input_data['not_allowed_shift_sequences_2'] != []:\n",
    "        for e in range(input_data['number_of_employees']):\n",
    "            for d in range(input_data['length_of_schedule'] - 1):\n",
    "                for f in input_data['not_allowed_shift_sequences_2']:\n",
    "                    if result[e][d] == f[0] and result[e][d+1] == f[1]: return False\n",
    "        return True"
   ]
  }
 ],
 "metadata": {
  "kernelspec": {
   "display_name": "Python 3",
   "language": "python",
   "name": "python3"
  },
  "language_info": {
   "codemirror_mode": {
    "name": "ipython",
    "version": 3
   },
   "file_extension": ".py",
   "mimetype": "text/x-python",
   "name": "python",
   "nbconvert_exporter": "python",
   "pygments_lexer": "ipython3",
   "version": "3.8.5"
  }
 },
 "nbformat": 4,
 "nbformat_minor": 4
}
