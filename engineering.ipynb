{
 "cells": [
  {
   "cell_type": "code",
   "execution_count": 1,
   "metadata": {},
   "outputs": [],
   "source": [
    "from all_functions import *"
   ]
  },
  {
   "cell_type": "code",
   "execution_count": 2,
   "metadata": {},
   "outputs": [
    {
     "data": {
      "text/plain": [
       "[['N', 'D', 'A', '-', 'A', 'D', 'D'],\n",
       " ['N', 'D', 'N', 'D', '-', '-', 'N'],\n",
       " ['D', 'A', 'A', '-', 'A', 'D', 'N'],\n",
       " ['N', '-', '-', 'N', 'D', 'D', 'N'],\n",
       " ['D', '-', 'A', 'D', 'N', 'D', 'N'],\n",
       " ['D', 'N', 'D', 'A', '-', 'N', 'N'],\n",
       " ['N', '-', 'D', 'A', '-', '-', 'A'],\n",
       " ['A', '-', 'D', 'N', 'N', 'A', 'D'],\n",
       " ['N', '-', 'A', 'A', 'N', 'A', 'D']]"
      ]
     },
     "execution_count": 2,
     "metadata": {},
     "output_type": "execute_result"
    }
   ],
   "source": [
    "input_data = read_data(get_examples()[0])\n",
    "\n",
    "solution_1 = generate_random_solution(input_data)\n",
    "solution_1"
   ]
  },
  {
   "cell_type": "code",
   "execution_count": 3,
   "metadata": {},
   "outputs": [
    {
     "data": {
      "text/plain": [
       "[['A', 'D', 'N', '-', 'A', 'A', 'A'],\n",
       " ['N', 'D', 'N', 'D', 'D', 'N', 'N'],\n",
       " ['D', 'A', 'A', '-', 'A', 'D', 'N'],\n",
       " ['N', 'A', '-', 'N', 'D', 'D', 'N'],\n",
       " ['D', 'N', 'A', 'D', 'A', 'D', 'N'],\n",
       " ['D', 'N', 'D', 'A', '-', 'N', 'N'],\n",
       " ['N', '-', 'D', 'A', '-', '-', 'A'],\n",
       " ['A', '-', 'D', 'N', 'N', 'A', 'D'],\n",
       " ['N', '-', 'A', 'A', 'N', 'A', 'D']]"
      ]
     },
     "execution_count": 3,
     "metadata": {},
     "output_type": "execute_result"
    }
   ],
   "source": [
    "solution_2 = move_all_demand_constraint(solution_1, input_data)\n",
    "solution_2"
   ]
  },
  {
   "cell_type": "code",
   "execution_count": 4,
   "metadata": {},
   "outputs": [
    {
     "data": {
      "text/plain": [
       "[[3, 2, 3, 2, 2, 3, 2], [2, 2, 3, 3, 3, 3, 2], [4, 2, 2, 2, 2, 2, 5]]"
      ]
     },
     "execution_count": 4,
     "metadata": {},
     "output_type": "execute_result"
    }
   ],
   "source": [
    "solution_to_demand(solution_2, 3)"
   ]
  },
  {
   "cell_type": "code",
   "execution_count": 5,
   "metadata": {
    "scrolled": true
   },
   "outputs": [
    {
     "data": {
      "text/plain": [
       "True"
      ]
     },
     "execution_count": 5,
     "metadata": {},
     "output_type": "execute_result"
    }
   ],
   "source": [
    "demand_constraint(solution_2, input_data)"
   ]
  },
  {
   "cell_type": "code",
   "execution_count": 6,
   "metadata": {},
   "outputs": [],
   "source": [
    "def calibrate_parameter_per_example(example):\n",
    "    for termination_condition in [10**x for x in range(1, 4)]:\n",
    "        for halting_condition in [10**x for x in range(1, 4)]:\n",
    "            for T_max in [10**x for x in range(1, 5)]:\n",
    "                for r in range(10, 100, 10):\n",
    "                    print(f'params: T_max={T_max}, r={r/100}, termination_condition={termination_condition}, halting_condition={halting_condition}')\n",
    "                    params = T_max, r, termination_condition, halting_condition, True\n",
    "                    eval_function = eval_solution_4\n",
    "                    best_solution = test_SA_per_example(example, eval_function, *params)\n",
    "                    pprint(report_solution(best_solution, read_data(example)))"
   ]
  },
  {
   "cell_type": "code",
   "execution_count": 7,
   "metadata": {},
   "outputs": [
    {
     "name": "stdout",
     "output_type": "stream",
     "text": [
      "params: T_max=10, r=0.1, termination_condition=10, halting_condition=10\n",
      "rws_instances/Example1.txt\n"
     ]
    },
    {
     "ename": "NameError",
     "evalue": "name 'constraints' is not defined",
     "output_type": "error",
     "traceback": [
      "\u001b[0;31m----------------------------------\u001b[0m",
      "\u001b[0;31mNameError\u001b[0mTraceback (most recent call last)",
      "\u001b[0;32m<ipython-input-7-2668c6642a4e>\u001b[0m in \u001b[0;36m<module>\u001b[0;34m\u001b[0m\n\u001b[0;32m----> 1\u001b[0;31m \u001b[0mcalibrate_parameter_per_example\u001b[0m\u001b[0;34m(\u001b[0m\u001b[0mget_examples\u001b[0m\u001b[0;34m(\u001b[0m\u001b[0;34m)\u001b[0m\u001b[0;34m[\u001b[0m\u001b[0;36m0\u001b[0m\u001b[0;34m]\u001b[0m\u001b[0;34m)\u001b[0m\u001b[0;34m\u001b[0m\u001b[0;34m\u001b[0m\u001b[0m\n\u001b[0m",
      "\u001b[0;32m<ipython-input-6-bef4af56f53d>\u001b[0m in \u001b[0;36mcalibrate_parameter_per_example\u001b[0;34m(example)\u001b[0m\n\u001b[1;32m      7\u001b[0m                     \u001b[0mparams\u001b[0m \u001b[0;34m=\u001b[0m \u001b[0mT_max\u001b[0m\u001b[0;34m,\u001b[0m \u001b[0mr\u001b[0m\u001b[0;34m,\u001b[0m \u001b[0mtermination_condition\u001b[0m\u001b[0;34m,\u001b[0m \u001b[0mhalting_condition\u001b[0m\u001b[0;34m,\u001b[0m \u001b[0;32mTrue\u001b[0m\u001b[0;34m\u001b[0m\u001b[0;34m\u001b[0m\u001b[0m\n\u001b[1;32m      8\u001b[0m                     \u001b[0meval_function\u001b[0m \u001b[0;34m=\u001b[0m \u001b[0meval_solution_4\u001b[0m\u001b[0;34m\u001b[0m\u001b[0;34m\u001b[0m\u001b[0m\n\u001b[0;32m----> 9\u001b[0;31m                     \u001b[0mbest_solution\u001b[0m \u001b[0;34m=\u001b[0m \u001b[0mtest_SA_per_example\u001b[0m\u001b[0;34m(\u001b[0m\u001b[0mexample\u001b[0m\u001b[0;34m,\u001b[0m \u001b[0meval_function\u001b[0m\u001b[0;34m,\u001b[0m \u001b[0;34m*\u001b[0m\u001b[0mparams\u001b[0m\u001b[0;34m)\u001b[0m\u001b[0;34m\u001b[0m\u001b[0;34m\u001b[0m\u001b[0m\n\u001b[0m\u001b[1;32m     10\u001b[0m                     \u001b[0mpprint\u001b[0m\u001b[0;34m(\u001b[0m\u001b[0mreport_solution\u001b[0m\u001b[0;34m(\u001b[0m\u001b[0mbest_solution\u001b[0m\u001b[0;34m,\u001b[0m \u001b[0mread_data\u001b[0m\u001b[0;34m(\u001b[0m\u001b[0mexample\u001b[0m\u001b[0;34m)\u001b[0m\u001b[0;34m)\u001b[0m\u001b[0;34m)\u001b[0m\u001b[0;34m\u001b[0m\u001b[0;34m\u001b[0m\u001b[0m\n",
      "\u001b[0;32m~/repos/pssai2/all_functions.py\u001b[0m in \u001b[0;36mtest_SA_per_example\u001b[0;34m(example, eval_function, T_max, r, termination_condition, halting_condition, show_non_optimal)\u001b[0m\n\u001b[1;32m    686\u001b[0m     \u001b[0msolution\u001b[0m \u001b[0;34m=\u001b[0m \u001b[0mgenerate_random_solution\u001b[0m\u001b[0;34m(\u001b[0m\u001b[0minput_data\u001b[0m\u001b[0;34m)\u001b[0m\u001b[0;34m\u001b[0m\u001b[0;34m\u001b[0m\u001b[0m\n\u001b[1;32m    687\u001b[0m     \u001b[0mbest_solution\u001b[0m \u001b[0;34m=\u001b[0m \u001b[0mgenerate_random_solution\u001b[0m\u001b[0;34m(\u001b[0m\u001b[0minput_data\u001b[0m\u001b[0;34m)\u001b[0m\u001b[0;34m\u001b[0m\u001b[0;34m\u001b[0m\u001b[0m\n\u001b[0;32m--> 688\u001b[0;31m     \u001b[0msolution\u001b[0m \u001b[0;34m=\u001b[0m \u001b[0msimulated_annealing\u001b[0m\u001b[0;34m(\u001b[0m\u001b[0minput_data\u001b[0m\u001b[0;34m,\u001b[0m \u001b[0meval_function\u001b[0m\u001b[0;34m,\u001b[0m \u001b[0mT_max\u001b[0m\u001b[0;34m,\u001b[0m \u001b[0mr\u001b[0m\u001b[0;34m,\u001b[0m \u001b[0mtermination_condition\u001b[0m\u001b[0;34m,\u001b[0m \u001b[0mhalting_condition\u001b[0m\u001b[0;34m)\u001b[0m\u001b[0;34m\u001b[0m\u001b[0;34m\u001b[0m\u001b[0m\n\u001b[0m\u001b[1;32m    689\u001b[0m     \u001b[0;32mif\u001b[0m \u001b[0;34m\"Not satified in the given time\"\u001b[0m \u001b[0;32mnot\u001b[0m \u001b[0;32min\u001b[0m \u001b[0msolution\u001b[0m\u001b[0;34m:\u001b[0m\u001b[0;34m\u001b[0m\u001b[0;34m\u001b[0m\u001b[0m\n\u001b[1;32m    690\u001b[0m         \u001b[0;32mif\u001b[0m \u001b[0;32mnot\u001b[0m \u001b[0mshow_non_optimal\u001b[0m\u001b[0;34m:\u001b[0m\u001b[0;34m\u001b[0m\u001b[0;34m\u001b[0m\u001b[0m\n",
      "\u001b[0;32m~/repos/pssai2/all_functions.py\u001b[0m in \u001b[0;36msimulated_annealing\u001b[0;34m(input_data, eval_function, T_max, r, termination_condition, halting_condition)\u001b[0m\n\u001b[1;32m    608\u001b[0m     \u001b[0;32mwhile\u001b[0m \u001b[0mhc\u001b[0m \u001b[0;34m<\u001b[0m \u001b[0mhalting_condition\u001b[0m\u001b[0;34m:\u001b[0m\u001b[0;34m\u001b[0m\u001b[0;34m\u001b[0m\u001b[0m\n\u001b[1;32m    609\u001b[0m         \u001b[0;32mwhile\u001b[0m \u001b[0mtc\u001b[0m \u001b[0;34m<\u001b[0m \u001b[0mtermination_condition\u001b[0m\u001b[0;34m:\u001b[0m\u001b[0;34m\u001b[0m\u001b[0;34m\u001b[0m\u001b[0m\n\u001b[0;32m--> 610\u001b[0;31m             \u001b[0;32mif\u001b[0m \u001b[0meval_function\u001b[0m\u001b[0;34m(\u001b[0m\u001b[0msolution\u001b[0m\u001b[0;34m,\u001b[0m \u001b[0minput_data\u001b[0m\u001b[0;34m)\u001b[0m \u001b[0;34m==\u001b[0m \u001b[0;36m100\u001b[0m\u001b[0;34m:\u001b[0m\u001b[0;34m\u001b[0m\u001b[0;34m\u001b[0m\u001b[0m\n\u001b[0m\u001b[1;32m    611\u001b[0m                 \u001b[0mprint\u001b[0m\u001b[0;34m(\u001b[0m\u001b[0;34mf'params: T_max={T_max}, r={r}, termination_condition={termination_condition}, halting_condition={halting_condition}'\u001b[0m\u001b[0;34m)\u001b[0m\u001b[0;34m\u001b[0m\u001b[0;34m\u001b[0m\u001b[0m\n\u001b[1;32m    612\u001b[0m                 \u001b[0;32mreturn\u001b[0m \u001b[0msolution\u001b[0m\u001b[0;34m,\u001b[0m \u001b[0mbest_solution\u001b[0m\u001b[0;34m\u001b[0m\u001b[0;34m\u001b[0m\u001b[0m\n",
      "\u001b[0;32m~/repos/pssai2/all_functions.py\u001b[0m in \u001b[0;36meval_solution_4\u001b[0;34m(solution, input_data)\u001b[0m\n\u001b[1;32m    152\u001b[0m \u001b[0;32mdef\u001b[0m \u001b[0meval_solution_4\u001b[0m\u001b[0;34m(\u001b[0m\u001b[0msolution\u001b[0m\u001b[0;34m,\u001b[0m \u001b[0minput_data\u001b[0m\u001b[0;34m)\u001b[0m\u001b[0;34m:\u001b[0m\u001b[0;34m\u001b[0m\u001b[0;34m\u001b[0m\u001b[0m\n\u001b[1;32m    153\u001b[0m     \u001b[0mscore\u001b[0m \u001b[0;34m=\u001b[0m \u001b[0;36m0\u001b[0m\u001b[0;34m\u001b[0m\u001b[0;34m\u001b[0m\u001b[0m\n\u001b[0;32m--> 154\u001b[0;31m     c1, c2, c3, c4, c5 = (constraints.demand_constraint,                          \n\u001b[0m\u001b[1;32m    155\u001b[0m                         \u001b[0mconstraints\u001b[0m\u001b[0;34m.\u001b[0m\u001b[0mday_off_constraint\u001b[0m\u001b[0;34m,\u001b[0m\u001b[0;34m\u001b[0m\u001b[0;34m\u001b[0m\u001b[0m\n\u001b[1;32m    156\u001b[0m                         \u001b[0mconstraints\u001b[0m\u001b[0;34m.\u001b[0m\u001b[0mlength_work_blocks_constraint\u001b[0m\u001b[0;34m,\u001b[0m\u001b[0;34m\u001b[0m\u001b[0;34m\u001b[0m\u001b[0m\n",
      "\u001b[0;31mNameError\u001b[0m: name 'constraints' is not defined"
     ]
    }
   ],
   "source": [
    "calibrate_parameter_per_example(get_examples()[0])"
   ]
  }
 ],
 "metadata": {
  "kernelspec": {
   "display_name": "Python 3",
   "language": "python",
   "name": "python3"
  },
  "language_info": {
   "codemirror_mode": {
    "name": "ipython",
    "version": 3
   },
   "file_extension": ".py",
   "mimetype": "text/x-python",
   "name": "python",
   "nbconvert_exporter": "python",
   "pygments_lexer": "ipython3",
   "version": "3.8.5"
  }
 },
 "nbformat": 4,
 "nbformat_minor": 4
}
