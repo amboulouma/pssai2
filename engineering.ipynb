{
 "cells": [
  {
   "cell_type": "code",
   "execution_count": 1,
   "metadata": {},
   "outputs": [],
   "source": [
    "from constraints import *\n",
    "from simulated_annealing import *"
   ]
  },
  {
   "cell_type": "code",
   "execution_count": 2,
   "metadata": {},
   "outputs": [
    {
     "data": {
      "text/plain": [
       "[['N', 'N', 'D', 'D', 'N', 'A', 'A'],\n",
       " ['A', 'A', 'D', '-', 'A', 'D', '-'],\n",
       " ['-', 'A', 'A', 'A', '-', 'D', 'N'],\n",
       " ['-', 'A', 'N', 'N', 'A', 'N', 'A'],\n",
       " ['-', 'A', 'A', 'N', '-', '-', '-'],\n",
       " ['A', 'A', 'N', 'D', 'D', 'N', 'N'],\n",
       " ['A', 'N', 'A', 'N', 'D', 'N', '-'],\n",
       " ['D', 'A', 'A', 'A', 'D', 'N', 'N'],\n",
       " ['D', 'N', '-', '-', 'N', 'N', 'A']]"
      ]
     },
     "execution_count": 2,
     "metadata": {},
     "output_type": "execute_result"
    }
   ],
   "source": [
    "input_data = read_data(get_examples()[0])\n",
    "\n",
    "solution_1 = generate_random_solution(input_data)\n",
    "solution_1"
   ]
  },
  {
   "cell_type": "code",
   "execution_count": 3,
   "metadata": {},
   "outputs": [
    {
     "data": {
      "text/plain": [
       "[['N', 'D', 'D', 'D', 'N', 'A', 'D'],\n",
       " ['N', 'D', 'D', 'A', 'A', 'D', 'D'],\n",
       " ['-', 'A', 'A', 'A', 'A', 'D', 'N'],\n",
       " ['-', 'A', 'N', 'N', 'A', 'A', 'A'],\n",
       " ['-', 'A', 'A', 'N', '-', 'A', '-'],\n",
       " ['A', 'A', 'N', 'D', 'D', 'N', 'N'],\n",
       " ['A', 'N', 'A', 'N', 'D', 'N', '-'],\n",
       " ['D', 'A', 'A', 'A', 'D', 'N', 'N'],\n",
       " ['D', 'N', '-', '-', 'N', 'N', 'A']]"
      ]
     },
     "execution_count": 3,
     "metadata": {},
     "output_type": "execute_result"
    }
   ],
   "source": [
    "solution_2 = move_all_demand_constraint(solution_1, input_data)\n",
    "solution_2"
   ]
  },
  {
   "cell_type": "code",
   "execution_count": 4,
   "metadata": {},
   "outputs": [
    {
     "data": {
      "text/plain": [
       "[[2, 2, 2, 2, 3, 2, 2], [2, 5, 4, 3, 3, 3, 2], [2, 2, 2, 3, 2, 4, 3]]"
      ]
     },
     "execution_count": 4,
     "metadata": {},
     "output_type": "execute_result"
    }
   ],
   "source": [
    "solution_to_demand(solution_2, 3)"
   ]
  },
  {
   "cell_type": "code",
   "execution_count": 5,
   "metadata": {},
   "outputs": [
    {
     "data": {
      "text/plain": [
       "True"
      ]
     },
     "execution_count": 5,
     "metadata": {},
     "output_type": "execute_result"
    }
   ],
   "source": [
    "demand_constraint(solution_2, input_data)"
   ]
  }
 ],
 "metadata": {
  "kernelspec": {
   "display_name": "Python 3",
   "language": "python",
   "name": "python3"
  },
  "language_info": {
   "codemirror_mode": {
    "name": "ipython",
    "version": 3
   },
   "file_extension": ".py",
   "mimetype": "text/x-python",
   "name": "python",
   "nbconvert_exporter": "python",
   "pygments_lexer": "ipython3",
   "version": "3.8.5"
  }
 },
 "nbformat": 4,
 "nbformat_minor": 4
}
